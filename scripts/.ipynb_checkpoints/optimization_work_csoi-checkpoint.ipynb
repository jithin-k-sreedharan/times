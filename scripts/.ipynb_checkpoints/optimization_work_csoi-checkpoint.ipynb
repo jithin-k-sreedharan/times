{
 "cells": [
  {
   "cell_type": "code",
   "execution_count": null,
   "metadata": {},
   "outputs": [],
   "source": [
    "%matplotlib inline"
   ]
  },
  {
   "cell_type": "code",
   "execution_count": null,
   "metadata": {},
   "outputs": [],
   "source": [
    "import numpy as np\n",
    "import matplotlib.pyplot as plt\n",
    "import matplotlib\n",
    "from gurobipy import *\n",
    "import random\n",
    "from itertools import chain"
   ]
  },
  {
   "cell_type": "code",
   "execution_count": null,
   "metadata": {},
   "outputs": [],
   "source": [
    "def figsize(scale):\n",
    "    fig_width_pt = 503.295     # Get this from LaTeX using \\the\\textwidth\n",
    "    inches_per_pt = 1.0/72.27   # Convert pt to inch\n",
    "    golden_mean = (np.sqrt(5.0)-1.0)/2.0    # Aesthetic ratio (you could change this)\n",
    "    fig_width = fig_width_pt*inches_per_pt*scale # width in inches\n",
    "    fig_height = fig_width*golden_mean  # height in inches\n",
    "    fig_size = [fig_width,fig_height]\n",
    "    return fig_size\n",
    "\n",
    "publication_with_latex = {  # setup matplotlib to use latex for output\n",
    "    \"pgf.texsystem\": \"pdflatex\", # change this if using xetex or lautex\n",
    "    \"text.usetex\": True, # use LaTeX to write all text\n",
    "    \"font.family\": \"serif\",\n",
    "#     \"font.serif\": [],   # blank entries should cause plots to inherit fonts from the document\n",
    "#     \"font.sans-serif\": [],\n",
    "#     \"font.monospace\": [],\n",
    "#     \"axes.labelsize\": 8,  # LaTeX default is 10pt font.\n",
    "    \"font.size\": 8,\n",
    "    \"legend.fontsize\": 8,  # Make the legend/label fonts a little smaller\n",
    "#     \"xtick.labelsize\": 8,\n",
    "#     \"ytick.labelsize\": 8,\n",
    "#     \"figure.figsize\": figsize(0.9),  # default fig size of 0.9 textwidth\n",
    "#     \"pgf.preamble\": [\n",
    "#         r\"\\usepackage[utf8x]{inputenc}\", # use utf8 fonts becasue your computer can handle it :)\n",
    "#         r\"\\usepackage[T1]{fontenc}\", # plots will be generated using this preamble\n",
    "#         ]\n",
    "    }\n",
    "matplotlib.rcParams.update(publication_with_latex)\n",
    "# matplotlib.rcParams['savefig.dpi'] = 125\n",
    "matplotlib.rcParams['text.latex.preamble']=[r\"\\usepackage{amsmath,amssymb,amsfonts}\"]"
   ]
  },
  {
   "cell_type": "markdown",
   "metadata": {},
   "source": [
    "Generate a $y_{u,v}+y_{v,u}$ transformation matrix"
   ]
  },
  {
   "cell_type": "markdown",
   "metadata": {},
   "source": [
    "# Optimization with Gurobipy"
   ]
  },
  {
   "cell_type": "code",
   "execution_count": null,
   "metadata": {},
   "outputs": [],
   "source": [
    "n = 50\n",
    "eps = 0.759184"
   ]
  },
  {
   "cell_type": "code",
   "execution_count": null,
   "metadata": {},
   "outputs": [],
   "source": [
    "# P = {}\n",
    "# P[1,2] = 0.5\n",
    "# P[3,2] = 0.75\n",
    "# for i in range(n):\n",
    "#     for j in chain(range(i),range(i+1,n)):\n",
    "#         P[i,j] =  random.random();"
   ]
  },
  {
   "cell_type": "code",
   "execution_count": null,
   "metadata": {
    "scrolled": false
   },
   "outputs": [],
   "source": [
    "P = {}\n",
    "data_t = open(\"../build/P_matrix.txt\",'r')\n",
    "data_t = data_t.readlines()\n",
    "for lin in data_t:\n",
    "    temp_l=lin.split()\n",
    "    P[int(temp_l[0]), int(temp_l[1])] = float(temp_l[2])\n",
    "#     print(temp_l)"
   ]
  },
  {
   "cell_type": "markdown",
   "metadata": {},
   "source": [
    "## Continuous model"
   ]
  },
  {
   "cell_type": "code",
   "execution_count": null,
   "metadata": {},
   "outputs": [],
   "source": [
    "m = Model(\"Optimization in Node Age Problem\")"
   ]
  },
  {
   "cell_type": "code",
   "execution_count": null,
   "metadata": {},
   "outputs": [],
   "source": [
    "#Add variables\n",
    "y = {}\n",
    "nC2 = n*(n-1)/2\n",
    "s = m.addVar(lb=0.0, ub=1/(eps*nC2), obj=0, vtype=GRB.CONTINUOUS, name=\"s\")        \n",
    "for i in range(n):\n",
    "    for j in chain(range(i),range(i+1,n)): #TRICK: to combine range in Python 3\n",
    "        y[i,j] = m.addVar(lb=0.0, obj=P[i,j], vtype = GRB.CONTINUOUS, name=\"y[%s,%s]\"%(i,j))\n",
    "#         y[i,j] = model.addVar(obj=P[i,j], vtype = GRB.BINARY, name=\"y[%s,%s]\"%(i,j))\n",
    "m.update()"
   ]
  },
  {
   "cell_type": "code",
   "execution_count": null,
   "metadata": {},
   "outputs": [],
   "source": [
    "#Add constraints\n",
    "var = []\n",
    "for i in range(n):\n",
    "    for j in chain(range(i),range(i+1,n)):\n",
    "        m.addConstr(y[i,j], GRB.LESS_EQUAL, s)\n",
    "        m.addConstr(y[i,j]+y[j,i], GRB.LESS_EQUAL, s)\n",
    "        var.append(y[i,j])\n",
    "        \n",
    "coef = [1 for j in range(n*(n-1))]\n",
    "m.addConstr(LinExpr(coef,var), \"=\", 1)\n",
    "\n",
    "for i in range(n):\n",
    "    for j in chain(range(i),range(i+1,n)):\n",
    "        k_1 = min(i,j)\n",
    "        k_2 = max(i,j)\n",
    "        for k in chain(range(k_1), range(k_1+1,k_2), range(k_2+1,n)):\n",
    "            m.addConstr(y[i,j]+y[j,k]-y[i,k], GRB.LESS_EQUAL, s)\n",
    "m.ModelSense = -1 #Maximize\n",
    "m.Params.OptimalityTol = 1e-6\n",
    "m.update()"
   ]
  },
  {
   "cell_type": "code",
   "execution_count": null,
   "metadata": {},
   "outputs": [],
   "source": [
    "m.optimize()"
   ]
  },
  {
   "cell_type": "code",
   "execution_count": null,
   "metadata": {},
   "outputs": [],
   "source": [
    "print(\"s.X: \",s.X)"
   ]
  },
  {
   "cell_type": "code",
   "execution_count": null,
   "metadata": {},
   "outputs": [],
   "source": [
    "for i in range(n):\n",
    "    for j in chain(range(i),range(i+1,n)):\n",
    "        temp = (y[i,j].X)/(s.X)\n",
    "        temp_1 = round(temp)\n",
    "#         print(\"(\",i,\",\",j,\"): \",\"%0.3f\"%(temp), \",\", temp_1,\",\",\"%0.3f\"%P[i,j])\n",
    "        print(\"(\",i,\",\",j,\"): \",\"%0.5f\"%(y[i,j].X),\",\",\"%0.3f\"%(temp), \",\",\"%0.3f\"%P[i,j])"
   ]
  },
  {
   "cell_type": "code",
   "execution_count": null,
   "metadata": {},
   "outputs": [],
   "source": [
    "if m.status == GRB.OPTIMAL:\n",
    "    print(\"Optimization successfull\")\n",
    "    print(\"Run time:\",m.runtime)"
   ]
  },
  {
   "cell_type": "code",
   "execution_count": null,
   "metadata": {},
   "outputs": [],
   "source": [
    "opt_val = m.ObjVal\n",
    "print(\"Optimal value:\",opt_val)"
   ]
  },
  {
   "cell_type": "markdown",
   "metadata": {},
   "source": [
    "## Discrete model"
   ]
  },
  {
   "cell_type": "code",
   "execution_count": null,
   "metadata": {},
   "outputs": [],
   "source": [
    "m = Model(\"Optimization in Node Age Problem\")"
   ]
  },
  {
   "cell_type": "code",
   "execution_count": null,
   "metadata": {},
   "outputs": [],
   "source": [
    "#Add variables\n",
    "y = {}\n",
    "x = {}\n",
    "nC2 = n*(n-1)/2\n",
    "s = m.addVar(lb=0.0, ub=1/(eps*nC2), obj=0, vtype=GRB.CONTINUOUS, name=\"s\")        \n",
    "for i in range(n):\n",
    "    for j in chain(range(i),range(i+1,n)): #TRICK: to combine range in Python 3\n",
    "#         y[i,j] = m.addVar(obj=-P[i,j], vtype = GRB.CONTINUOUS, name=\"y[%s,%s]\"%(i,j))\n",
    "        y[i,j] = m.addVar(obj=P[i,j], vtype = GRB.SEMICONT, name=\"y[%s,%s]\"%(i,j))\n",
    "        x[i,j] = m.addVar(obj=0, vtype = GRB.BINARY, name=\"x[%s,%s]\"%(i,j))\n",
    "m.update()"
   ]
  },
  {
   "cell_type": "code",
   "execution_count": null,
   "metadata": {},
   "outputs": [],
   "source": [
    "#Add constraints\n",
    "var = []\n",
    "for i in range(n):\n",
    "    for j in chain(range(i),range(i+1,n)):\n",
    "        m.addConstr(y[i,j],\"=\", s*x[i,j])\n",
    "        m.addConstr(y[i,j]+y[j,i], GRB.LESS_EQUAL, s)\n",
    "        var.append(y[i,j])\n",
    "        \n",
    "coef = [1 for j in range(n*(n-1))]\n",
    "m.addConstr(LinExpr(coef,var), \"=\", 1)\n",
    "\n",
    "for i in range(n):\n",
    "    for j in chain(range(i),range(i+1,n)):\n",
    "        k_1 = min(i,j)\n",
    "        k_2 = max(i,j)\n",
    "        for k in chain(range(k_1), range(k_1+1,k_2), range(k_2+1,n)):\n",
    "            m.addConstr(y[i,j]+y[j,k]-y[i,k], GRB.LESS_EQUAL, s)\n",
    "m.ModelSense = -1 #Maximize\n",
    "m.Params.OptimalityTol = 1e-3\n",
    "m.update()"
   ]
  },
  {
   "cell_type": "code",
   "execution_count": null,
   "metadata": {},
   "outputs": [],
   "source": [
    "m.optimize()"
   ]
  },
  {
   "cell_type": "code",
   "execution_count": null,
   "metadata": {},
   "outputs": [],
   "source": [
    "# for i in range(n):\n",
    "#     for j in chain(range(i),range(i+1,n)):\n",
    "#         temp = (y[i,j].X)/(s.X)\n",
    "#         temp_1 = round(temp)\n",
    "#         print(\"(\",i,\",\",j,\"): \",\"%0.3f\"%(temp), \",\", temp_1,\",\",\"%0.3f\"%P[i,j])"
   ]
  },
  {
   "cell_type": "code",
   "execution_count": null,
   "metadata": {},
   "outputs": [],
   "source": [
    "if m.status == GRB.OPTIMAL:\n",
    "    print(\"Optimization successfull\")\n",
    "    print(\"Run time:\",m.runtime)"
   ]
  },
  {
   "cell_type": "code",
   "execution_count": null,
   "metadata": {},
   "outputs": [],
   "source": [
    "opt_val = -m.ObjVal\n",
    "print(\"Optimal value:\",opt_val)"
   ]
  },
  {
   "cell_type": "markdown",
   "metadata": {},
   "source": [
    "# For various $\\varepsilon$ with one graph"
   ]
  },
  {
   "cell_type": "code",
   "execution_count": null,
   "metadata": {},
   "outputs": [],
   "source": [
    "n = 50"
   ]
  },
  {
   "cell_type": "code",
   "execution_count": null,
   "metadata": {
    "scrolled": false
   },
   "outputs": [],
   "source": [
    "P = {}\n",
    "data_t = open(\"../build/P_matrix_RW_ratio.txt\",'r')\n",
    "data_t = data_t.readlines()\n",
    "for lin in data_t:\n",
    "    temp_l=lin.split()\n",
    "    P[int(temp_l[0]), int(temp_l[1])] = float(temp_l[2])\n",
    "#     print(temp_l)"
   ]
  },
  {
   "cell_type": "code",
   "execution_count": null,
   "metadata": {},
   "outputs": [],
   "source": [
    "eps_list = [0.1,0.2,0.3,0.4,0.5,0.6,0.7,0.8,0.9]\n",
    "opt_val_list = []\n",
    "for eps in eps_list:\n",
    "    m = Model(\"Optimization in Node Age Problem\")\n",
    "    #Add variables\n",
    "    y = {}\n",
    "    nC2 = n*(n-1)/2\n",
    "    s = m.addVar(lb=0.0, ub=1/(eps*nC2), obj=0, vtype=GRB.CONTINUOUS, name=\"s\")        \n",
    "    for i in range(n):\n",
    "        for j in chain(range(i),range(i+1,n)): #TRICK: to combine range in Python 3\n",
    "            y[i,j] = m.addVar(lb=0.0, obj=-P[i,j], vtype = GRB.CONTINUOUS, name=\"y[%s,%s]\"%(i,j))\n",
    "    #         y[i,j] = model.addVar(obj=P[i,j], vtype = GRB.BINARY, name=\"y[%s,%s]\"%(i,j))\n",
    "    m.update()\n",
    "    #Add constraints\n",
    "    var = []\n",
    "    for i in range(n):\n",
    "        for j in chain(range(i),range(i+1,n)):\n",
    "            m.addConstr(y[i,j], GRB.LESS_EQUAL, s)\n",
    "            m.addConstr(y[i,j]+y[j,i], GRB.LESS_EQUAL, s)\n",
    "            var.append(y[i,j])\n",
    "\n",
    "    coef = [1 for j in range(n*(n-1))]\n",
    "    m.addConstr(LinExpr(coef,var), \"=\", 1)\n",
    "\n",
    "    for i in range(n):\n",
    "        for j in chain(range(i),range(i+1,n)):\n",
    "            k_1 = min(i,j)\n",
    "            k_2 = max(i,j)\n",
    "            for k in chain(range(k_1), range(k_1+1,k_2), range(k_2+1,n)):\n",
    "                m.addConstr(y[i,j]+y[j,k]-y[i,k], GRB.LESS_EQUAL, s)\n",
    "    m.update()\n",
    "    m.optimize()\n",
    "    if m.status == GRB.OPTIMAL:\n",
    "        print(\"Optimization successfull\")\n",
    "        print(\"Run time:\",m.runtime)\n",
    "        opt_val = -m.ObjVal\n",
    "        print(\"Optimal value:\",opt_val)\n",
    "        opt_val_list.append(opt_val)"
   ]
  },
  {
   "cell_type": "code",
   "execution_count": null,
   "metadata": {},
   "outputs": [],
   "source": [
    "opt_val_list"
   ]
  },
  {
   "cell_type": "code",
   "execution_count": null,
   "metadata": {},
   "outputs": [],
   "source": [
    "plt.style.use('ggplot')\n",
    "fig, ax = plt.subplots()\n",
    "ax.plot(eps_list,opt_val_list, linewidth=3, label = 'Optimal precision')\n",
    "theta_peel = 0.850267 \n",
    "delta_peel = 0.763265\n",
    "ax.plot(delta_peel, theta_peel, marker='o', markersize=5, label = 'Peeling algorithm')\n",
    "ax.set_xlabel(r'$\\varepsilon$')\n",
    "ax.set_ylabel(r'$\\theta$')\n",
    "ax.set_ylim(0.75,1)\n",
    "ax.legend(loc=[0.1,0.1])\n",
    "plt.savefig('optimal_precision_LP.pdf',bbox_inches='tight',pad_inches = 0.05)"
   ]
  },
  {
   "cell_type": "markdown",
   "metadata": {},
   "source": [
    "# Expected curve with multiple graphs"
   ]
  },
  {
   "cell_type": "markdown",
   "metadata": {},
   "source": [
    "## For standard preferential attachment graph - WWW paper"
   ]
  },
  {
   "cell_type": "code",
   "execution_count": null,
   "metadata": {},
   "outputs": [],
   "source": [
    "n = 50\n",
    "P = {}\n",
    "eps_list = [0.1,0.2,0.3,0.4,0.5,0.6,0.7,0.8,0.9]\n",
    "opt_val_list = np.zeros(len(eps_list))\n",
    "iter_input = 1;\n",
    "for iter_input_ind in range(10):\n",
    "    iter_input =  iter_input_ind+1\n",
    "#     str = \"../build/P_matrices_n50_m3/P_matrix_RW_ratio_{0}.txt\".format(iter_input_ind)\n",
    "#     str = \"../build/P_matrices_n50_cooper_frieze_model/P_matrix_RW_ratio_{0}.txt\".format(iter_input_ind)\n",
    "    str = \"../build/temp_model/P_matrix_RW_ratio_{0}.txt\".format(iter_input_ind)\n",
    "    print(str)\n",
    "    data_t = open(str,'r')\n",
    "    data_t = data_t.readlines()\n",
    "    temp_l=data_t[2].split()\n",
    "    n = int(temp_l[0]) \n",
    "    for lin in data_t[3:]:\n",
    "        temp_l=lin.split()\n",
    "        P[int(temp_l[0]), int(temp_l[1])] = float(temp_l[2])\n",
    "\n",
    "    for ind,eps in enumerate(eps_list):\n",
    "        m = Model(\"Optimization in Node Age Problem\")\n",
    "        \n",
    "        #Add variables and objective function\n",
    "        y = {}\n",
    "        nC2 = n*(n-1)/2\n",
    "        s = m.addVar(lb=0.0, ub=1/(eps*nC2), obj=0, vtype=GRB.CONTINUOUS, name=\"s\")        \n",
    "        for i in range(n):\n",
    "            for j in chain(range(i),range(i+1,n)): #TRICK: to combine range in Python 3\n",
    "                y[i,j] = m.addVar(lb=0.0, obj=-P[i,j], vtype = GRB.CONTINUOUS, name=\"y[%s,%s]\"%(i,j))\n",
    "        m.update()\n",
    "        \n",
    "        #Antisymmetry constraints\n",
    "        var = []\n",
    "        for i in range(n):\n",
    "            for j in chain(range(i),range(i+1,n)):\n",
    "                m.addConstr(y[i,j], GRB.LESS_EQUAL, s)\n",
    "                m.addConstr(y[i,j]+y[j,i], GRB.LESS_EQUAL, s)\n",
    "                var.append(y[i,j])\n",
    "        # Constraint that \\sum y_{u,v} = 1\n",
    "        coef = [1 for j in range(n*(n-1))]\n",
    "        m.addConstr(LinExpr(coef,var), \"=\", 1)\n",
    "\n",
    "        #Transitivity constraints\n",
    "        for i in range(n):\n",
    "            for j in chain(range(i),range(i+1,n)):\n",
    "                k_1 = min(i,j)\n",
    "                k_2 = max(i,j)\n",
    "                for k in chain(range(k_1), range(k_1+1,k_2), range(k_2+1,n)):\n",
    "                    m.addConstr(y[i,j]+y[j,k]-y[i,k], GRB.LESS_EQUAL, s)\n",
    "        m.update()\n",
    "        m.optimize()\n",
    "        if m.status == GRB.OPTIMAL:\n",
    "            print(\"Optimization successfull\")\n",
    "            print(\"Run time:\",m.runtime)\n",
    "            opt_val = -m.ObjVal\n",
    "            print(\"Optimal value:\",opt_val)\n",
    "            if iter_input == 1:\n",
    "                opt_val_list[ind] = opt_val\n",
    "            else:\n",
    "                opt_val_list[ind] = opt_val_list[ind]*iter_input/(iter_input+1) + opt_val/(iter_input+1)"
   ]
  },
  {
   "cell_type": "code",
   "execution_count": null,
   "metadata": {},
   "outputs": [],
   "source": [
    "opt_val_list"
   ]
  },
  {
   "cell_type": "markdown",
   "metadata": {},
   "source": [
    "This is the opt_val_list for standard PA attachment graph with n = 50, m = 3\n",
    "\n",
    "opt_val_list = np.array([ 1.        ,  0.99999999,  0.9995002 ,  0.99402816,  0.97941715,\n",
    "        0.95655252,  0.92859711,  0.89798283,  0.86589987, 0.84945249,  0.83785209])"
   ]
  },
  {
   "cell_type": "markdown",
   "metadata": {},
   "source": [
    "cust_color=[\"#e41a1c\", \"#377eb8\", \"#4daf4a\", \"#984ea3\", \"#ff7f00\", \n",
    "            \"#ffff33\", \"#a65628\", \"#f781bf\"]"
   ]
  },
  {
   "cell_type": "code",
   "execution_count": null,
   "metadata": {},
   "outputs": [],
   "source": [
    "# Assigning saved values\n",
    "opt_val_list = np.array([ 1.        ,  0.99999999,  0.9995002 ,  0.99402816,  0.97941715,\n",
    "        0.95655252,  0.92859711,  0.89798283,  0.86589987, 0.84945249,  0.83785209])"
   ]
  },
  {
   "cell_type": "code",
   "execution_count": null,
   "metadata": {},
   "outputs": [],
   "source": [
    "# Careful about the path of the files!\n",
    "FIGSIZE_REQD = 0.6\n",
    "eps_list = [0.1,0.2,0.3,0.4,0.5,0.6,0.7,0.8,0.9,0.95,0.985]\n",
    "plt.style.use('ggplot')\n",
    "fig, ax = plt.subplots(figsize = figsize(FIGSIZE_REQD))\n",
    "ax.plot(eps_list,opt_val_list, linewidth=3, label = 'Optimal precision')\n",
    "# ax.plot(eps_list,aa, linewidth=3, label = 'Optimal precision',color = 'black')\n",
    "\n",
    "# str = \"../build/P_matrices_n50_m3/theta_delta_peel.txt\"\n",
    "str = \"../build/temp_model/theta_delta_peel.txt\"\n",
    "data_t = open(str,'r')\n",
    "data_t = data_t.readlines()\n",
    "theta_peel = []\n",
    "delta_peel = []\n",
    "for lin in data_t:\n",
    "    temp_l=lin.split()\n",
    "    theta_peel.append(float(temp_l[0]))\n",
    "    delta_peel.append(float(temp_l[1]))\n",
    "theta_avg = np.mean(theta_peel)\n",
    "delta_avg = np.mean(delta_peel)\n",
    "# ax.plot(delta_avg, theta_avg, marker='o', markersize=5, \\\n",
    "#label = r'$(\\mathbb{E}[\\delta],\\mathbb{E}[\\theta])$',color = 'black', alpha = 0.7)\n",
    "ax.plot(delta_avg, theta_avg, marker='o', markersize=5,\\\n",
    "        color = '#00008B', alpha = 1)#,label = 'Averaged Peeling algorithm')\n",
    "plt.scatter(delta_peel,theta_peel, alpha=0.5, label = r'\\textsc{Peeling}',color = '#377eb8',edgecolors = 'white')\n",
    "ax.set_xlabel(r'$\\varepsilon$')\n",
    "ax.set_ylabel(r'$\\theta$')\n",
    "# ax.set_ylim(0.1,1.1)\n",
    "# plt.yticks(np.arange(0.1, 1.1, 1.0))\n",
    "\n",
    "# str_1 = \"../build/P_matrices_n50_m3/theta_delta_peel+.txt\"\n",
    "str_1 = \"../build/temp_model/theta_delta_peel+.txt\"\n",
    "data_t = open(str_1,'r')\n",
    "data_t = data_t.readlines()\n",
    "theta_guess = []\n",
    "delta_guess = []\n",
    "for lin in data_t:\n",
    "    temp_l=lin.split()\n",
    "    theta_guess.append(float(temp_l[0]))\n",
    "    delta_guess.append(float(temp_l[1]))\n",
    "theta_guess_avg = np.mean(theta_guess)\n",
    "delta_guess_avg = np.mean(delta_guess)\n",
    "# ax.plot(delta_avg, theta_avg, marker='o', markersize=5, \\\n",
    "#label = r'$(\\mathbb{E}[\\delta],\\mathbb{E}[\\theta])$',color = 'black', alpha = 0.7)\n",
    "ax.plot(delta_guess_avg, theta_guess_avg, marker='o', markersize=5,color = '#006400', alpha = 1)\n",
    "        #,label = r'Averaged $p_{u,v}$ based algorithm')\n",
    "plt.scatter(delta_guess,theta_guess, alpha=0.5,color = '#4daf4a',\\\n",
    "            label = r'\\textsc{Peeling}+',edgecolors = 'white')\n",
    "\n",
    "# str_1 = \"../build/P_matrices_n50_m3/theta_delta_guess_0.6-0.4.txt\".format(i)\n",
    "# data_t = open(str_1,'r')\n",
    "# data_t = data_t.readlines()\n",
    "# theta_guess = []\n",
    "# delta_guess = []\n",
    "# for lin in data_t:\n",
    "#     temp_l=lin.split()\n",
    "#     theta_guess.append(float(temp_l[0]))\n",
    "#     delta_guess.append(float(temp_l[1]))\n",
    "# theta_guess_avg = np.mean(theta_guess)\n",
    "# delta_guess_avg = np.mean(delta_guess)\n",
    "# # ax.plot(delta_avg, theta_avg, marker='o', markersize=5, label = r'$(\\mathbb{E}[\\delta],\\mathbb{E}[\\theta])$',color = 'black', alpha = 0.7)\n",
    "# ax.plot(delta_guess_avg, theta_guess_avg, marker='o', markersize=5,color = '#422210', alpha = 1)\n",
    "#         #,label = r'Averaged $p_{u,v}$ based algorithm')\n",
    "# plt.scatter(delta_guess,theta_guess, alpha=0.5,color = '#a65628',label = r'$p_{u,v}$ based $0.6-0.4$ algorithm')\n",
    "\n",
    "\n",
    "# str_1 = \"../build/P_matrices_n50_m3/theta_delta_perf.txt\"\n",
    "str_1 = \"../build/temp_model/theta_delta_perf.txt\"\n",
    "data_t = open(str_1,'r')\n",
    "data_t = data_t.readlines()\n",
    "theta_guess = []\n",
    "delta_guess = []\n",
    "for lin in data_t:\n",
    "    temp_l=lin.split()\n",
    "    theta_guess.append(float(temp_l[0]))\n",
    "    delta_guess.append(float(temp_l[1]))\n",
    "theta_guess_avg = np.mean(theta_guess)\n",
    "delta_guess_avg = np.mean(delta_guess)\n",
    "# ax.plot(delta_avg, theta_avg, marker='o', markersize=5, label = r'$(\\mathbb{E}[\\delta],\\mathbb{E}[\\theta])$',color = 'black', alpha = 0.7)\n",
    "ax.plot(delta_guess_avg, theta_guess_avg, marker='o', markersize=5,color = '#7a3d00', alpha = 1)\n",
    "        #,label = r'Averaged $p_{u,v}$ based algorithm')\n",
    "plt.scatter(delta_guess,theta_guess, alpha=0.5,color = '#ffff33',label = r'Perfect-precision', edgecolors = 'black')\n",
    "\n",
    "str_1 = \"../build/temp_model/theta_delta_deg.txt\"\n",
    "data_t = open(str_1,'r')\n",
    "data_t = data_t.readlines()\n",
    "theta_guess = []\n",
    "delta_guess = []\n",
    "for lin in data_t:\n",
    "    temp_l=lin.split()\n",
    "    theta_guess.append(float(temp_l[0]))\n",
    "    delta_guess.append(float(temp_l[1]))\n",
    "theta_guess_avg = np.mean(theta_guess)\n",
    "delta_guess_avg = np.mean(delta_guess)\n",
    "# ax.plot(delta_avg, theta_avg, marker='o', markersize=5, label = r'$(\\mathbb{E}[\\delta],\\mathbb{E}[\\theta])$',color = 'black', alpha = 0.7)\n",
    "ax.plot(delta_guess_avg, theta_guess_avg, marker='o', markersize=5,color = '#824465', alpha = 1)\n",
    "        #,label = r'Averaged $p_{u,v}$ based algorithm')\n",
    "plt.scatter(delta_guess,theta_guess, alpha=0.5,color = '#f781bf',label = r'Degree', edgecolors = 'white')\n",
    "\n",
    "\n",
    "str_1 = \"../build/temp_model/theta_delta_ML.txt\"\n",
    "data_t = open(str_1,'r')\n",
    "data_t = data_t.readlines()\n",
    "theta_guess = []\n",
    "delta_guess = []\n",
    "for lin in data_t:\n",
    "    temp_l=lin.split()\n",
    "    theta_guess.append(float(temp_l[0]))\n",
    "    delta_guess.append(float(temp_l[1]))\n",
    "theta_guess_avg = np.mean(theta_guess)\n",
    "delta_guess_avg = np.mean(delta_guess)\n",
    "# ax.plot(delta_avg, theta_avg, marker='o', markersize=5, label = r'$(\\mathbb{E}[\\delta],\\mathbb{E}[\\theta])$',color = 'black', alpha = 0.7)\n",
    "ax.plot(delta_guess_avg, theta_guess_avg, marker='o', markersize=5,color = '#603116', alpha = 1)\n",
    "        #,label = r'Averaged $p_{u,v}$ based algorithm')\n",
    "plt.scatter(delta_guess,theta_guess, alpha=0.5,color = '#a65628',label = r'MLE', edgecolors = 'white')\n",
    "\n",
    "\n",
    "\n",
    "ax.yaxis.set_ticks(np.arange(0.2, 1.2, 0.1))\n",
    "ax.legend(loc=[0.1,0.1])\n",
    "plt.savefig('optimal_precision_LP.pdf',bbox_inches='tight',pad_inches = 0.05)"
   ]
  },
  {
   "cell_type": "markdown",
   "metadata": {},
   "source": [
    "I am not sure if this is useful, but let's keep it.\n",
    "\n",
    "array([ 1.        ,  0.99997279,  0.99789538,  0.99327198,  0.98959247,\n",
    "        0.98373753,  0.96356879,  0.93145027,  0.895198  ])"
   ]
  },
  {
   "cell_type": "code",
   "execution_count": null,
   "metadata": {},
   "outputs": [],
   "source": [
    "import matplotlib\n",
    "matplotlib.rcParams['text.usetex'] = True\n",
    "matplotlib.rcParams['text.latex.preamble']=[r\"\\usepackage{amsmath,amssymb,amsfonts}\"]"
   ]
  },
  {
   "cell_type": "markdown",
   "metadata": {},
   "source": [
    "## For Cooper-Freize model - Journal work"
   ]
  },
  {
   "cell_type": "code",
   "execution_count": null,
   "metadata": {},
   "outputs": [],
   "source": [
    "P = {}\n",
    "eps_list = [0.1,0.25,0.45,0.65,0.8,0.9,0.95,0.98,0.99]\n",
    "# eps_list = [0.95,0.985]\n",
    "opt_val_list = np.zeros(len(eps_list))\n",
    "iter_input = 1;\n",
    "for iter_input_ind in range(200):\n",
    "    iter_input =  iter_input_ind+1\n",
    "    str = \"../build/temp_model/P_matrix_RW_ratio_{0}.txt\".format(iter_input_ind)\n",
    "    print(str)\n",
    "    data_t = open(str,'r')\n",
    "    data_t = data_t.readlines()\n",
    "    temp_l=data_t[2].split()\n",
    "    n = int(temp_l[0]) \n",
    "    for lin in data_t[3:]:\n",
    "        temp_l=lin.split()\n",
    "        P[int(temp_l[0]), int(temp_l[1])] = float(temp_l[2])\n",
    "\n",
    "    for ind,eps in enumerate(eps_list):\n",
    "        m = Model(\"Optimization in Node Age Problem\")\n",
    "        #Add variables\n",
    "        y = {}\n",
    "        nC2 = n*(n-1)/2\n",
    "        s = m.addVar(lb=0.0, ub=1/(eps*nC2), obj=0, vtype=GRB.CONTINUOUS, name=\"s\")        \n",
    "        for i in range(n):\n",
    "            for j in chain(range(i),range(i+1,n)): #TRICK: to combine range in Python 3\n",
    "                y[i,j] = m.addVar(lb=0.0, obj=-P[i,j], vtype = GRB.CONTINUOUS, name=\"y[%s,%s]\"%(i,j))\n",
    "        #         y[i,j] = model.addVar(obj=P[i,j], vtype = GRB.BINARY, name=\"y[%s,%s]\"%(i,j))\n",
    "        m.update()\n",
    "        #Add constraints\n",
    "        var = []\n",
    "        for i in range(n):\n",
    "            for j in chain(range(i),range(i+1,n)):\n",
    "                m.addConstr(y[i,j], GRB.LESS_EQUAL, s)\n",
    "                m.addConstr(y[i,j]+y[j,i], GRB.LESS_EQUAL, s)\n",
    "                var.append(y[i,j])\n",
    "\n",
    "        coef = [1 for j in range(n*(n-1))]\n",
    "        m.addConstr(LinExpr(coef,var), \"=\", 1)\n",
    "\n",
    "        for i in range(n):\n",
    "            for j in chain(range(i),range(i+1,n)):\n",
    "                k_1 = min(i,j)\n",
    "                k_2 = max(i,j)\n",
    "                for k in chain(range(k_1), range(k_1+1,k_2), range(k_2+1,n)):\n",
    "                    m.addConstr(y[i,j]+y[j,k]-y[i,k], GRB.LESS_EQUAL, s)\n",
    "        m.update()\n",
    "        m.optimize()\n",
    "        if m.status == GRB.OPTIMAL:\n",
    "            print(\"Optimization successfull\")\n",
    "            print(\"Run time:\",m.runtime)\n",
    "            opt_val = -m.ObjVal\n",
    "            print(\"Optimal value:\",opt_val)\n",
    "            if iter_input == 1:\n",
    "                opt_val_list[ind] = opt_val\n",
    "            else:\n",
    "                opt_val_list[ind] = opt_val_list[ind]*iter_input/(iter_input+1) + opt_val/(iter_input+1)"
   ]
  },
  {
   "cell_type": "code",
   "execution_count": null,
   "metadata": {},
   "outputs": [],
   "source": [
    "opt_val_list"
   ]
  },
  {
   "cell_type": "markdown",
   "metadata": {},
   "source": [
    "This is the opt_val_list for standard PA attachment graph with n = 200, m = Unif[1,20]\n",
    "\n",
    "opt_val_list = np.array([ 1.        ,  1.        ,  0.99992231,  0.98778575,  0.95153584, 0.91847535,  0.90025869,  0.88892543,  0.88510844])"
   ]
  },
  {
   "cell_type": "code",
   "execution_count": null,
   "metadata": {},
   "outputs": [],
   "source": [
    "opt_val_list = np.array([ 1.,  1. ,  0.99992231,  0.98778575,  0.95153584, 0.91847535,  \\\n",
    "                         0.90025869,  0.88892543,  0.88510844])"
   ]
  },
  {
   "cell_type": "markdown",
   "metadata": {},
   "source": [
    "cust_color=[\"#e41a1c\", \"#377eb8\", \"#4daf4a\", \"#984ea3\", \"#ff7f00\", \n",
    "            \"#ffff33\", \"#a65628\", \"#f781bf\"]"
   ]
  },
  {
   "cell_type": "code",
   "execution_count": null,
   "metadata": {},
   "outputs": [],
   "source": [
    "FIGSIZE_REQD = 0.6\n",
    "eps_list = [0.1,0.25,0.45,0.65,0.8,0.9,0.95,0.98,0.99]\n",
    "plt.style.use('ggplot')\n",
    "fig, ax = plt.subplots(figsize = figsize(FIGSIZE_REQD))\n",
    "ax.plot(eps_list,opt_val_list, linewidth=3, label = 'Optimal precision')\n",
    "# ax.plot(eps_list,aa, linewidth=3, label = 'Optimal precision',color = 'black')\n",
    "str = \"../build/P_matrices_n50_m-unif_1-10/theta_delta_peel.txt\"\n",
    "data_t = open(str,'r')\n",
    "data_t = data_t.readlines()\n",
    "theta_peel = []\n",
    "delta_peel = []\n",
    "for lin in data_t:\n",
    "    temp_l=lin.split()\n",
    "    theta_peel.append(float(temp_l[0]))\n",
    "    delta_peel.append(float(temp_l[1]))\n",
    "theta_avg = np.mean(theta_peel)\n",
    "delta_avg = np.mean(delta_peel)\n",
    "# ax.plot(delta_avg, theta_avg, marker='o', markersize=5, \\\n",
    "#label = r'$(\\mathbb{E}[\\delta],\\mathbb{E}[\\theta])$',color = 'black', alpha = 0.7)\n",
    "ax.plot(delta_avg, theta_avg, marker='o', markersize=5,\\\n",
    "        color = '#00008B', alpha = 1)#,label = 'Averaged Peeling algorithm')\n",
    "plt.scatter(delta_peel,theta_peel, alpha=0.75, label = r'\\textsc{Peeling}',color = '#377eb8',s=8,edgecolors = 'white')\n",
    "ax.set_xlabel(r'$\\varepsilon$')\n",
    "ax.set_ylabel(r'$\\theta$')\n",
    "# ax.set_ylim(0.1,1.1)\n",
    "# plt.yticks(np.arange(0.1, 1.1, 1.0))\n",
    "\n",
    "# str_1 = \"../build/P_matrices_n50_m3/theta_delta_peel+.txt\".format(i)\n",
    "# data_t = open(str_1,'r')\n",
    "# data_t = data_t.readlines()\n",
    "# theta_guess = []\n",
    "# delta_guess = []\n",
    "# for lin in data_t:\n",
    "#     temp_l=lin.split()\n",
    "#     theta_guess.append(float(temp_l[0]))\n",
    "#     delta_guess.append(float(temp_l[1]))\n",
    "# theta_guess_avg = np.mean(theta_guess)\n",
    "# delta_guess_avg = np.mean(delta_guess)\n",
    "# # ax.plot(delta_avg, theta_avg, marker='o', markersize=5, \\\n",
    "# #label = r'$(\\mathbb{E}[\\delta],\\mathbb{E}[\\theta])$',color = 'black', alpha = 0.7)\n",
    "# ax.plot(delta_guess_avg, theta_guess_avg, marker='o', markersize=5,color = '#006400', alpha = 1)\n",
    "#         #,label = r'Averaged $p_{u,v}$ based algorithm')\n",
    "# plt.scatter(delta_guess,theta_guess, alpha=0.5,color = '#4daf4a',\\\n",
    "#             label = r'\\textsc{Peeling}+')\n",
    "\n",
    "# str_1 = \"../build/P_matrices_n50_m3/theta_delta_guess_0.6-0.4.txt\".format(i)\n",
    "# data_t = open(str_1,'r')\n",
    "# data_t = data_t.readlines()\n",
    "# theta_guess = []\n",
    "# delta_guess = []\n",
    "# for lin in data_t:\n",
    "#     temp_l=lin.split()\n",
    "#     theta_guess.append(float(temp_l[0]))\n",
    "#     delta_guess.append(float(temp_l[1]))\n",
    "# theta_guess_avg = np.mean(theta_guess)\n",
    "# delta_guess_avg = np.mean(delta_guess)\n",
    "# # ax.plot(delta_avg, theta_avg, marker='o', markersize=5, label = r'$(\\mathbb{E}[\\delta],\\mathbb{E}[\\theta])$',color = 'black', alpha = 0.7)\n",
    "# ax.plot(delta_guess_avg, theta_guess_avg, marker='o', markersize=5,color = '#422210', alpha = 1)\n",
    "#         #,label = r'Averaged $p_{u,v}$ based algorithm')\n",
    "# plt.scatter(delta_guess,theta_guess, alpha=0.5,color = '#a65628',label = r'$p_{u,v}$ based $0.6-0.4$ algorithm')\n",
    "\n",
    "\n",
    "str_1 = \"../build/P_matrices_n50_m-unif_1-10/theta_delta_perf.txt\"\n",
    "data_t = open(str_1,'r')\n",
    "data_t = data_t.readlines()\n",
    "theta_guess = []\n",
    "delta_guess = []\n",
    "for lin in data_t:\n",
    "    temp_l=lin.split()\n",
    "    theta_guess.append(float(temp_l[0]))\n",
    "    delta_guess.append(float(temp_l[1]))\n",
    "theta_guess_avg = np.mean(theta_guess)\n",
    "delta_guess_avg = np.mean(delta_guess)\n",
    "# ax.plot(delta_avg, theta_avg, marker='o', markersize=5, label = r'$(\\mathbb{E}[\\delta],\\mathbb{E}[\\theta])$',color = 'black', alpha = 0.7)\n",
    "ax.plot(delta_guess_avg, theta_guess_avg, marker='o', markersize=5,color = '#7a3d00', alpha = 1)\n",
    "        #,label = r'Averaged $p_{u,v}$ based algorithm')\n",
    "plt.scatter(delta_guess,theta_guess, alpha=0.5,color = '#ffff33',label = r'Perfect-precision', edgecolors = 'black')\n",
    "\n",
    "\n",
    "ax.yaxis.set_ticks(np.arange(0.2, 1.2, 0.1))\n",
    "ax.legend(loc=[0.1,0.1])\n",
    "plt.savefig('optimal_precision_LP.pdf',bbox_inches='tight',pad_inches = 0.05)"
   ]
  },
  {
   "cell_type": "markdown",
   "metadata": {
    "collapsed": true
   },
   "source": [
    "# Recall matrix"
   ]
  },
  {
   "cell_type": "code",
   "execution_count": null,
   "metadata": {},
   "outputs": [],
   "source": [
    "width_box = 10\n",
    "corr_matrix = np.zeros((width_box,width_box))\n",
    "str = \"../build/temp_model/Recall_matrix.txt\"\n",
    "data_t = open(str,'r')\n",
    "data_t = data_t.readlines()\n",
    "temp_l=data_t[2].split()\n",
    "n = int(temp_l[0]) \n",
    "for lin in data_t[0:]:\n",
    "    temp_l=lin.split()\n",
    "    corr_matrix[int(temp_l[0]), int(temp_l[1])] = float(temp_l[2])\n",
    "\n",
    "FIGSIZE_REQD = 2\n",
    "plt.style.use('default')\n",
    "fig, ax = plt.subplots(figsize = figsize(FIGSIZE_REQD))\n",
    "cax = ax.matshow(corr_matrix, interpolation='nearest',cmap='viridis_r')\n",
    "fig.colorbar(cax)"
   ]
  },
  {
   "cell_type": "code",
   "execution_count": null,
   "metadata": {},
   "outputs": [],
   "source": [
    "width_box = 10\n",
    "corr_matrix_deg = np.zeros((width_box,width_box))\n",
    "str = \"../build/temp_model/Recall_deg_matrix.txt\"\n",
    "data_t = open(str,'r')\n",
    "data_t = data_t.readlines()\n",
    "temp_l=data_t[2].split()\n",
    "n = int(temp_l[0]) \n",
    "for lin in data_t[0:]:\n",
    "    temp_l=lin.split()\n",
    "    corr_matrix_deg[int(temp_l[0]), int(temp_l[1])] = float(temp_l[2])\n",
    "\n",
    "FIGSIZE_REQD = 0.6\n",
    "plt.style.use('default')\n",
    "fig, ax = plt.subplots(figsize = figsize(FIGSIZE_REQD))\n",
    "cax = ax.matshow(corr_matrix_deg,cmap='viridis_r')\n",
    "fig.colorbar(cax)"
   ]
  },
  {
   "cell_type": "code",
   "execution_count": null,
   "metadata": {},
   "outputs": [],
   "source": [
    "width_box = 10\n",
    "corr_matrix_rel_diff = (np.absolute(corr_matrix_deg-corr_matrix)/corr_matrix_deg)*100\n",
    "FIGSIZE_REQD = 0.6\n",
    "fig, ax = plt.subplots(figsize = figsize(FIGSIZE_REQD))\n",
    "cax = ax.matshow(corr_matrix_rel_diff,cmap='viridis_r')\n",
    "fig.colorbar(cax)\n",
    "labels = list(range(0,100,20))\n",
    "ax.set_xticklabels(['']+labels)\n",
    "ax.set_yticklabels(['']+labels)\n",
    "ax.set_xlabel('Time')\n",
    "ax.set_ylabel('Time')\n",
    "# ax.set_title('Percentage relative improvement between Peeling and Degree-based estimator for PA(n=100, m=3)')\n",
    "plt.savefig('relative_diff_time.pdf',bbox_inches='tight',pad_inches = 0.05)"
   ]
  }
 ],
 "metadata": {
  "kernelspec": {
   "display_name": "Python [default]",
   "language": "python",
   "name": "python3"
  },
  "language_info": {
   "codemirror_mode": {
    "name": "ipython",
    "version": 3
   },
   "file_extension": ".py",
   "mimetype": "text/x-python",
   "name": "python",
   "nbconvert_exporter": "python",
   "pygments_lexer": "ipython3",
   "version": "3.5.6"
  },
  "toc": {
   "base_numbering": 1,
   "nav_menu": {},
   "number_sections": true,
   "sideBar": true,
   "skip_h1_title": false,
   "title_cell": "Table of Contents",
   "title_sidebar": "Contents",
   "toc_cell": false,
   "toc_position": {},
   "toc_section_display": true,
   "toc_window_display": false
  }
 },
 "nbformat": 4,
 "nbformat_minor": 2
}
