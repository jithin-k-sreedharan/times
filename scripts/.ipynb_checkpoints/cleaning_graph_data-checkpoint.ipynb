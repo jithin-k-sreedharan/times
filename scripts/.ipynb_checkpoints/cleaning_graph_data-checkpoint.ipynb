{
 "cells": [
  {
   "cell_type": "code",
   "execution_count": 1,
   "metadata": {},
   "outputs": [],
   "source": [
    "%matplotlib inline"
   ]
  },
  {
   "cell_type": "code",
   "execution_count": 2,
   "metadata": {},
   "outputs": [],
   "source": [
    "# To turn off display of presentation toolbar at bottom left"
   ]
  },
  {
   "cell_type": "code",
   "execution_count": 3,
   "metadata": {},
   "outputs": [
    {
     "data": {
      "application/javascript": [
       "$('.nbp-app-bar').toggle()"
      ],
      "text/plain": [
       "<IPython.core.display.Javascript object>"
      ]
     },
     "metadata": {},
     "output_type": "display_data"
    }
   ],
   "source": [
    "%%javascript\n",
    "$('.nbp-app-bar').toggle()"
   ]
  },
  {
   "cell_type": "code",
   "execution_count": 4,
   "metadata": {},
   "outputs": [],
   "source": [
    "import numpy as np\n",
    "from scipy import stats\n",
    "import matplotlib.pyplot as plt\n",
    "import networkx as nx\n",
    "import matplotlib\n",
    "from collections import defaultdict\n",
    "import itertools #Iterating over marker styles in Figures\n",
    "# import nx_jks_routines as nx_jks`\n",
    "import matplotlib.ticker as ticker\n",
    "import sys\n",
    "import random"
   ]
  },
  {
   "cell_type": "code",
   "execution_count": 5,
   "metadata": {},
   "outputs": [],
   "source": [
    "def figsize(scale):\n",
    "    fig_width_pt = 503.295     # Get this from LaTeX using \\the\\textwidth\n",
    "    inches_per_pt = 1.0/72.27   # Convert pt to inch\n",
    "    golden_mean = (np.sqrt(5.0)-1.0)/2.0    # Aesthetic ratio (you could change this)\n",
    "    fig_width = fig_width_pt*inches_per_pt*scale # width in inches\n",
    "    fig_height = fig_width*golden_mean  # height in inches\n",
    "    fig_size = [fig_width,fig_height]\n",
    "    return fig_size\n",
    "publication_with_latex = {  # setup matplotlib to use latex for output\n",
    "    \"pgf.texsystem\": \"pdflatex\", # change this if using xetex or lautex\n",
    "    \"text.usetex\": True, # use LaTeX to write all text\n",
    "    \"font.family\": \"serif\",\n",
    "    \"font.serif\": [],   # blank entries should cause plots to inherit fonts from the document\n",
    "    \"font.sans-serif\": [],\n",
    "    \"font.monospace\": [],\n",
    "#     \"axes.labelsize\": 8,  # LaTeX default is 10pt font.\n",
    "#     \"font.size\": 8,\n",
    "#     \"legend.fontsize\": 8,  # Make the legend/label fonts a little smaller\n",
    "#     \"xtick.labelsize\": 8,\n",
    "#     \"ytick.labelsize\": 8,\n",
    "#     \"figure.figsize\": figsize(0.9),  # default fig size of 0.9 textwidth\n",
    "    \"pgf.preamble\": [\n",
    "        r\"\\usepackage[utf8x]{inputenc}\", # use utf8 fonts becasue your computer can handle it :)\n",
    "        r\"\\usepackage[T1]{fontenc}\", # plots will be generated using this preamble\n",
    "        ]\n",
    "    }\n",
    "# matplotlib.rcParams.update(publication_with_latex)\n",
    "cust_color=[\"#e41a1c\", \"#377eb8\", \"#4daf4a\", \"#984ea3\", \"#ff7f00\", \n",
    "            \"#ffff33\", \"#a65628\", \"#f781bf\"]"
   ]
  },
  {
   "cell_type": "code",
   "execution_count": 6,
   "metadata": {},
   "outputs": [],
   "source": [
    "inline_rc = dict(matplotlib.rcParams) #Sepcific for Matploblib inline Ipython notebook\n",
    "matplotlib.rcParams['savefig.dpi'] = 125\n",
    "matplotlib.rcParams['text.latex.preamble']=[r\"\\usepackage{amsmath,amssymb,amsfonts}\"]"
   ]
  },
  {
   "cell_type": "code",
   "execution_count": 7,
   "metadata": {},
   "outputs": [],
   "source": [
    "## Plot Degree Distribution\n",
    "\n",
    "def plot_degree_dist(G):\n",
    "    degs = {}\n",
    "    for n in G.nodes():\n",
    "        deg = G.degree(n) \n",
    "        if deg not in degs:\n",
    "            degs[deg] = 0 \n",
    "        degs[deg] += 1\n",
    "    items = sorted(degs.items())\n",
    "    fig = plt.figure()\n",
    "    ax = fig.add_subplot(111)\n",
    "    ax.plot([k for (k,v) in items], [v for (k,v) in items]) \n",
    "    ax.set_xscale('log') \n",
    "    ax.set_yscale('log')\n",
    "    plt.title(\"Degree Distribution\")"
   ]
  },
  {
   "cell_type": "code",
   "execution_count": 8,
   "metadata": {},
   "outputs": [],
   "source": [
    "## Plot Degree Distribution\n",
    "\n",
    "def plot_indegree_dist(G):\n",
    "    degs = {}\n",
    "    for n in G.nodes():\n",
    "        deg = G.in_degree(n) \n",
    "        if deg not in degs:\n",
    "            degs[deg] = 0 \n",
    "        degs[deg] += 1\n",
    "    items = sorted(degs.items())\n",
    "    fig = plt.figure()\n",
    "    ax = fig.add_subplot(111)\n",
    "    ax.plot([k for (k,v) in items], [v for (k,v) in items]) \n",
    "    ax.set_xscale('log') \n",
    "    ax.set_yscale('log')\n",
    "    plt.title(\"In-degree Distribution\")"
   ]
  },
  {
   "cell_type": "code",
   "execution_count": 9,
   "metadata": {},
   "outputs": [],
   "source": [
    "## Plot Degree Distribution\n",
    "\n",
    "def plot_outdegree_dist(G):\n",
    "    degs = {}\n",
    "    for n in G.nodes():\n",
    "        deg = G.out_degree(n) \n",
    "        if deg not in degs:\n",
    "            degs[deg] = 0 \n",
    "        degs[deg] += 1\n",
    "    items = sorted(degs.items())\n",
    "    fig = plt.figure()\n",
    "    ax = fig.add_subplot(111)\n",
    "    ax.plot([k for (k,v) in items], [v for (k,v) in items]) \n",
    "    ax.set_xscale('log') \n",
    "    ax.set_yscale('log')\n",
    "    plt.title(\"Out-degree Distribution\")"
   ]
  },
  {
   "cell_type": "markdown",
   "metadata": {},
   "source": [
    "# Arxiv HEP-TH graph (KDD 2003 cup)"
   ]
  },
  {
   "cell_type": "markdown",
   "metadata": {},
   "source": [
    "Data from http://www.cs.cornell.edu/projects/kddcup/datasets.html"
   ]
  },
  {
   "cell_type": "code",
   "execution_count": 8,
   "metadata": {
    "collapsed": true
   },
   "outputs": [],
   "source": [
    "in_file = \"../data/ArXiv-HEP-TH_from_KDD03/hep-th-citations\""
   ]
  },
  {
   "cell_type": "code",
   "execution_count": 15,
   "metadata": {
    "collapsed": true
   },
   "outputs": [],
   "source": [
    "H = nx.read_edgelist(in_file+'.txt', nodetype =  int, create_using=nx.DiGraph())"
   ]
  },
  {
   "cell_type": "code",
   "execution_count": 16,
   "metadata": {},
   "outputs": [
    {
     "data": {
      "text/plain": [
       "'Name: \\nType: DiGraph\\nNumber of nodes: 27770\\nNumber of edges: 352807\\nAverage in degree:  12.7046\\nAverage out degree:  12.7046'"
      ]
     },
     "execution_count": 16,
     "metadata": {},
     "output_type": "execute_result"
    }
   ],
   "source": [
    "nx.info(H)"
   ]
  },
  {
   "cell_type": "code",
   "execution_count": 17,
   "metadata": {},
   "outputs": [
    {
     "name": "stdout",
     "output_type": "stream",
     "text": [
      "False False\n"
     ]
    }
   ],
   "source": [
    "print(nx.is_strongly_connected(H), nx.is_weakly_connected(H))"
   ]
  },
  {
   "cell_type": "code",
   "execution_count": 18,
   "metadata": {},
   "outputs": [
    {
     "data": {
      "text/plain": [
       "'Name: \\nType: DiGraph\\nNumber of nodes: 7464\\nNumber of edges: 116268\\nAverage in degree:  15.5772\\nAverage out degree:  15.5772'"
      ]
     },
     "execution_count": 18,
     "metadata": {},
     "output_type": "execute_result"
    }
   ],
   "source": [
    "G = sorted(nx.strongly_connected_component_subgraphs(H), key = len, reverse=True)[0]\n",
    "nx.info(G)"
   ]
  },
  {
   "cell_type": "code",
   "execution_count": 19,
   "metadata": {
    "collapsed": true
   },
   "outputs": [],
   "source": [
    "# G = sorted(nx.weakly_connected_component_subgraphs(H), key = len, reverse=True)[0]\n",
    "# nx.info(G)"
   ]
  },
  {
   "cell_type": "code",
   "execution_count": 20,
   "metadata": {
    "collapsed": true
   },
   "outputs": [],
   "source": [
    "# G = H.copy()"
   ]
  },
  {
   "cell_type": "code",
   "execution_count": 21,
   "metadata": {},
   "outputs": [
    {
     "name": "stdout",
     "output_type": "stream",
     "text": [
      "True True True\n"
     ]
    }
   ],
   "source": [
    "print(nx.is_directed(G), nx.is_strongly_connected(G), nx.is_weakly_connected(G))"
   ]
  },
  {
   "cell_type": "code",
   "execution_count": 22,
   "metadata": {
    "collapsed": true
   },
   "outputs": [],
   "source": [
    "nx.write_edgelist(G,in_file+'_strongly_connected'+'.txt',data=False)"
   ]
  },
  {
   "cell_type": "markdown",
   "metadata": {},
   "source": [
    "## Clean data"
   ]
  },
  {
   "cell_type": "code",
   "execution_count": 44,
   "metadata": {
    "collapsed": true
   },
   "outputs": [],
   "source": [
    "import datetime\n",
    "\n",
    "data_file = in_file + '_data'+ '.txt'\n",
    "data = open(data_file,'r')\n",
    "data = data.readlines()\n",
    "data_tt ={}\n",
    "for lin in data:\n",
    "    temp_l=lin.split()\n",
    "    data_tt[int(temp_l[0])]=temp_l[1]\n",
    "    \n",
    "G_nodes = G.nodes();\n",
    "\n",
    "i = 0\n",
    "data_t ={}\n",
    "nodes_to_remove = []\n",
    "for k in G_nodes:\n",
    "    if k in data_tt:\n",
    "        data_t[k] = data_tt[k]\n",
    "#     elif int(str(11) + str(k)) in data_tt:\n",
    "#         data_t[k] = data_tt[int(str(11) + str(k))]\n",
    "#     elif int(str(0) + str(k)) in data_tt:\n",
    "#         data_t[k] = data_tt[int(str(0) + str(k))]\n",
    "    else:\n",
    "        i +=1\n",
    "        nodes_to_remove.append(k)\n",
    "\n",
    "temp = data_t.values()\n",
    "temp_s = sorted(set(temp), key = lambda x: datetime.datetime.strptime(x, '%Y-%m-%d'))\n",
    "r = {key:rank for rank, key in enumerate(temp_s)}\n",
    "data_cld = {k: r[v] for k,v in data_t.items()}"
   ]
  },
  {
   "cell_type": "code",
   "execution_count": 45,
   "metadata": {},
   "outputs": [
    {
     "name": "stdout",
     "output_type": "stream",
     "text": [
      "No. of nodes: 27400\n",
      "Time data not known for 0 nodes\n",
      "No. of bins in the original ranking: 2764\n"
     ]
    }
   ],
   "source": [
    "print(\"No. of nodes:\",G.number_of_nodes())\n",
    "print(\"Time data not known for {} nodes\".format(i))\n",
    "print(\"No. of bins in the original ranking:\", len(r))"
   ]
  },
  {
   "cell_type": "code",
   "execution_count": 46,
   "metadata": {},
   "outputs": [
    {
     "data": {
      "image/png": "[encoded data removed]",
      "text/plain": [
       "<matplotlib.figure.Figure at 0x192ea98d0>"
      ]
     },
     "metadata": {},
     "output_type": "display_data"
    },
    {
     "data": {
      "image/png": "[encoded data removed]",
      "text/plain": [
       "<matplotlib.figure.Figure at 0x192ea9828>"
      ]
     },
     "metadata": {},
     "output_type": "display_data"
    },
    {
     "data": {
      "image/png": "[encoded data removed]",
      "text/plain": [
       "<matplotlib.figure.Figure at 0x1ef792668>"
      ]
     },
     "metadata": {},
     "output_type": "display_data"
    }
   ],
   "source": [
    "plot_degree_dist(G);plot_indegree_dist(G);plot_outdegree_dist(G)"
   ]
  },
  {
   "cell_type": "code",
   "execution_count": 47,
   "metadata": {
    "collapsed": true
   },
   "outputs": [],
   "source": [
    "orig_rank_file = in_file+'_orig_rank'+'.csv'\n",
    "with open(orig_rank_file, 'w') as f:\n",
    "    for key, value in data_cld.items():\n",
    "        f.write('%d %d\\n' % (key, value))\n",
    "        \n",
    "G.remove_nodes_from(nodes_to_remove)\n",
    "nx.write_edgelist(G, in_file+'_cleaned'+'.txt',data=False)"
   ]
  },
  {
   "cell_type": "markdown",
   "metadata": {},
   "source": [
    "# Temp"
   ]
  },
  {
   "cell_type": "code",
   "execution_count": 16,
   "metadata": {
    "collapsed": true
   },
   "outputs": [],
   "source": [
    "G = nx.erdos_renyi_graph(10000, 0.3)"
   ]
  },
  {
   "cell_type": "code",
   "execution_count": 17,
   "metadata": {},
   "outputs": [
    {
     "data": {
      "image/png": "[encoded data removed]",
      "text/plain": [
       "<matplotlib.figure.Figure at 0x128ba7ef0>"
      ]
     },
     "metadata": {},
     "output_type": "display_data"
    }
   ],
   "source": [
    "plot_degree_dist(G)"
   ]
  },
  {
   "cell_type": "code",
   "execution_count": 334,
   "metadata": {},
   "outputs": [
    {
     "data": {
      "text/plain": [
       "256"
      ]
     },
     "execution_count": 334,
     "metadata": {},
     "output_type": "execute_result"
    }
   ],
   "source": [
    "16*16"
   ]
  },
  {
   "cell_type": "markdown",
   "metadata": {},
   "source": [
    "# BioGRID_full_human Extended"
   ]
  },
  {
   "cell_type": "code",
   "execution_count": 53,
   "metadata": {},
   "outputs": [
    {
     "data": {
      "text/plain": [
       "'Name: \\nType: DiGraph\\nNumber of nodes: 14867\\nNumber of edges: 126593\\nAverage in degree:   8.5150\\nAverage out degree:   8.5150'"
      ]
     },
     "execution_count": 53,
     "metadata": {},
     "output_type": "execute_result"
    }
   ],
   "source": [
    "H = nx.read_edgelist('../data/BioGRID_full_human/BioGRID_full_human_net.txt', nodetype =  int, create_using=nx.DiGraph())\n",
    "nx.info(H)"
   ]
  },
  {
   "cell_type": "code",
   "execution_count": 54,
   "metadata": {},
   "outputs": [
    {
     "data": {
      "text/plain": [
       "True"
      ]
     },
     "execution_count": 54,
     "metadata": {},
     "output_type": "execute_result"
    }
   ],
   "source": [
    "H.is_directed()"
   ]
  },
  {
   "cell_type": "code",
   "execution_count": 55,
   "metadata": {
    "collapsed": true
   },
   "outputs": [],
   "source": [
    "# for i in H.nodes():\n",
    "#     print(\"node:{0}, in_degree:{1}, out_degree:{2}\".format(H.degree(i), H.in_degree(i), H.out_degree(i)))"
   ]
  },
  {
   "cell_type": "code",
   "execution_count": 56,
   "metadata": {},
   "outputs": [
    {
     "data": {
      "text/plain": [
       "False"
      ]
     },
     "execution_count": 56,
     "metadata": {},
     "output_type": "execute_result"
    }
   ],
   "source": [
    "nx.is_strongly_connected(H)"
   ]
  },
  {
   "cell_type": "code",
   "execution_count": 57,
   "metadata": {},
   "outputs": [
    {
     "data": {
      "text/plain": [
       "False"
      ]
     },
     "execution_count": 57,
     "metadata": {},
     "output_type": "execute_result"
    }
   ],
   "source": [
    "nx.is_weakly_connected(H)"
   ]
  },
  {
   "cell_type": "code",
   "execution_count": 58,
   "metadata": {},
   "outputs": [
    {
     "data": {
      "image/png": "[encoded data removed]",
      "text/plain": [
       "<matplotlib.figure.Figure at 0x108bcc550>"
      ]
     },
     "metadata": {},
     "output_type": "display_data"
    },
    {
     "data": {
      "image/png": "[encoded data removed]",
      "text/plain": [
       "<matplotlib.figure.Figure at 0x119935518>"
      ]
     },
     "metadata": {},
     "output_type": "display_data"
    },
    {
     "data": {
      "image/png": "[encoded data removed]",
      "text/plain": [
       "<matplotlib.figure.Figure at 0x119941710>"
      ]
     },
     "metadata": {},
     "output_type": "display_data"
    }
   ],
   "source": [
    "plot_degree_dist(H);plot_indegree_dist(H);plot_outdegree_dist(H)"
   ]
  },
  {
   "cell_type": "code",
   "execution_count": 61,
   "metadata": {
    "collapsed": true
   },
   "outputs": [],
   "source": [
    "data = open(\"../data/BioGRID_full_human/BioGRID_full_human_xdbref.txt\",'r')\n",
    "data = data.readlines()\n",
    "data_tt =[]\n",
    "id_gene_map = {}\n",
    "gene_map_id = {}\n",
    "for lin in data[1:]:\n",
    "    temp_l=lin.split()\n",
    "    data_tt.append(temp_l[1])\n",
    "    gene_map_id[temp_l[1]] = int(temp_l[2])\n",
    "    id_gene_map[int(temp_l[2])] = temp_l[1]"
   ]
  },
  {
   "cell_type": "code",
   "execution_count": 63,
   "metadata": {
    "collapsed": true
   },
   "outputs": [],
   "source": [
    "rank_temp = \"rank_temp.txt\"\n",
    "with open(rank_temp, 'w') as f:\n",
    "    for ttt in data_tt:\n",
    "        f.write('{0}\\n'.format(ttt))        "
   ]
  },
  {
   "cell_type": "code",
   "execution_count": 64,
   "metadata": {
    "collapsed": true
   },
   "outputs": [],
   "source": [
    "# G = H.copy()"
   ]
  },
  {
   "cell_type": "code",
   "execution_count": 65,
   "metadata": {},
   "outputs": [
    {
     "data": {
      "text/plain": [
       "'Name: \\nType: DiGraph\\nNumber of nodes: 14814\\nNumber of edges: 126565\\nAverage in degree:   8.5436\\nAverage out degree:   8.5436'"
      ]
     },
     "execution_count": 65,
     "metadata": {},
     "output_type": "execute_result"
    }
   ],
   "source": [
    "G = sorted(nx.weakly_connected_component_subgraphs(H), key = len, reverse=True)[0]\n",
    "nx.info(G)"
   ]
  },
  {
   "cell_type": "code",
   "execution_count": 66,
   "metadata": {
    "collapsed": true
   },
   "outputs": [],
   "source": [
    "# G = sorted(nx.strongly_connected_component_subgraphs(H), key = len, reverse=True)[0]\n",
    "# nx.info(G)"
   ]
  },
  {
   "cell_type": "code",
   "execution_count": 67,
   "metadata": {},
   "outputs": [
    {
     "name": "stdout",
     "output_type": "stream",
     "text": [
      "Time data not known for 1054 nodes\n",
      "No. of bins in the original ranking:  16\n"
     ]
    }
   ],
   "source": [
    "data_t = open(\"../data/BioGRID_full_human/ProteinHistorian_age_estimated_cleaned.txt\",'r')\n",
    "# data_t = open(\"./data/BioGRID_full_human/check_rank.txt\",'r')\n",
    "data_t = data_t.readlines()\n",
    "rank_temp_t = {}\n",
    "check =[]\n",
    "for lin in data_t:\n",
    "    temp_l=lin.split()\n",
    "    string_t = temp_l[0].split(\"~\",2)[2]\n",
    "    rank_temp_t[string_t] = float(temp_l[1])\n",
    "    check.append(float(temp_l[1]))\n",
    "    \n",
    "G_nodes = G.nodes();\n",
    "\n",
    "i = 0\n",
    "rank_temp ={}\n",
    "nodes_to_remove = []\n",
    "for k in G_nodes:\n",
    "    if id_gene_map[k] in rank_temp_t:\n",
    "        rank_temp[k] = rank_temp_t[id_gene_map[k]]\n",
    "    else:\n",
    "        i +=1\n",
    "        nodes_to_remove.append(k)\n",
    "print(\"Time data not known for {} nodes\".format(i))\n",
    "\n",
    "temp = rank_temp.values()\n",
    "temp_s = sorted(set(temp), reverse = True)\n",
    "r = {key:rank for rank, key in enumerate(temp_s)}\n",
    "# data_cld_1 = {k: r[v] for k,v in rank_temp.items()}\n",
    "# data_cld = {rank_temp[k]: r[v] for k,v in rank_temp.items()}\n",
    "data_cld = {k: r[v] for k,v in rank_temp.items()}\n",
    "print(\"No. of bins in the original ranking: \", len(r))"
   ]
  },
  {
   "cell_type": "code",
   "execution_count": 70,
   "metadata": {},
   "outputs": [
    {
     "name": "stdout",
     "output_type": "stream",
     "text": [
      "85263786\n"
     ]
    }
   ],
   "source": [
    "kkk = list(data_cld.keys())\n",
    "i_range = len(kkk)\n",
    "no_orig_pairs = 0\n",
    "for i in range(i_range-1):\n",
    "    for j in range(i+1,i_range):\n",
    "        if (data_cld[kkk[i]]!=data_cld[kkk[j]]):\n",
    "            no_orig_pairs += 1\n",
    "print(no_orig_pairs)    "
   ]
  },
  {
   "cell_type": "code",
   "execution_count": 71,
   "metadata": {},
   "outputs": [
    {
     "data": {
      "text/plain": [
       "13760"
      ]
     },
     "execution_count": 71,
     "metadata": {},
     "output_type": "execute_result"
    }
   ],
   "source": [
    "len(data_cld)"
   ]
  },
  {
   "cell_type": "code",
   "execution_count": 68,
   "metadata": {
    "collapsed": true
   },
   "outputs": [],
   "source": [
    "orig_rank_file = '../data/BioGrid_full_human/'+'BioGRID_full_human_net'+'_cleaned_rank'+'.csv'\n",
    "with open(orig_rank_file, 'w') as f:\n",
    "    for key, value in data_cld.items():\n",
    "        f.write('%d %d\\n' % (key, value))\n",
    "        \n",
    "G.remove_nodes_from(nodes_to_remove)\n",
    "nx.write_edgelist(G,'../data/BioGrid_full_human/'+'BioGRID_full_human_net'+'_cleaned'+'.txt',data=False)"
   ]
  },
  {
   "cell_type": "code",
   "execution_count": 69,
   "metadata": {},
   "outputs": [
    {
     "data": {
      "text/plain": [
       "'Name: \\nType: DiGraph\\nNumber of nodes: 13760\\nNumber of edges: 119392\\nAverage in degree:   8.6767\\nAverage out degree:   8.6767'"
      ]
     },
     "execution_count": 69,
     "metadata": {},
     "output_type": "execute_result"
    }
   ],
   "source": [
    "nx.info(G)"
   ]
  },
  {
   "cell_type": "code",
   "execution_count": 368,
   "metadata": {
    "collapsed": true
   },
   "outputs": [],
   "source": [
    "aa = [k for k,v in data_cld.items() if v == 15]"
   ]
  },
  {
   "cell_type": "markdown",
   "metadata": {},
   "source": [
    "# BioGrid_full_yeast"
   ]
  },
  {
   "cell_type": "code",
   "execution_count": 432,
   "metadata": {},
   "outputs": [
    {
     "data": {
      "text/plain": [
       "'Name: \\nType: DiGraph\\nNumber of nodes: 5850\\nNumber of edges: 79458\\nAverage in degree:  13.5826\\nAverage out degree:  13.5826'"
      ]
     },
     "execution_count": 432,
     "metadata": {},
     "output_type": "execute_result"
    }
   ],
   "source": [
    "H = nx.read_edgelist('./data/BioGRID_full_yeast/BioGRID_full_yeast_net.txt', nodetype =  int, create_using=nx.DiGraph())\n",
    "nx.info(H)"
   ]
  },
  {
   "cell_type": "code",
   "execution_count": 433,
   "metadata": {},
   "outputs": [
    {
     "data": {
      "text/plain": [
       "True"
      ]
     },
     "execution_count": 433,
     "metadata": {},
     "output_type": "execute_result"
    }
   ],
   "source": [
    "H.is_directed()"
   ]
  },
  {
   "cell_type": "code",
   "execution_count": 434,
   "metadata": {
    "collapsed": true
   },
   "outputs": [],
   "source": [
    "# for i in H.nodes():\n",
    "#     print(\"node:{0}, in_degree:{1}, out_degree:{2}\".format(H.degree(i), H.in_degree(i), H.out_degree(i)))"
   ]
  },
  {
   "cell_type": "code",
   "execution_count": 435,
   "metadata": {},
   "outputs": [
    {
     "name": "stdout",
     "output_type": "stream",
     "text": [
      "False True\n"
     ]
    }
   ],
   "source": [
    "print(nx.is_strongly_connected(H),nx.is_weakly_connected(H))"
   ]
  },
  {
   "cell_type": "code",
   "execution_count": 436,
   "metadata": {},
   "outputs": [
    {
     "data": {
      "image/png": "[encoded data removed]",
      "text/plain": [
       "<matplotlib.figure.Figure at 0x11e274c18>"
      ]
     },
     "metadata": {},
     "output_type": "display_data"
    },
    {
     "data": {
      "image/png": "[encoded data removed]",
      "text/plain": [
       "<matplotlib.figure.Figure at 0x11e274080>"
      ]
     },
     "metadata": {},
     "output_type": "display_data"
    },
    {
     "data": {
      "image/png": "[encoded data removed]",
      "text/plain": [
       "<matplotlib.figure.Figure at 0x118b3da58>"
      ]
     },
     "metadata": {},
     "output_type": "display_data"
    }
   ],
   "source": [
    "plot_degree_dist(H);plot_indegree_dist(H);plot_outdegree_dist(H)"
   ]
  },
  {
   "cell_type": "code",
   "execution_count": 437,
   "metadata": {
    "collapsed": true
   },
   "outputs": [],
   "source": [
    "data = open(\"./data/BioGRID_full_yeast/BioGRID_full_yeast_xdbref.txt\",'r')\n",
    "data = data.readlines()\n",
    "data_tt =[]\n",
    "id_gene_map = {}\n",
    "gene_map_id = {}\n",
    "for lin in data[1:]:\n",
    "    temp_l=lin.split()\n",
    "    data_tt.append(temp_l[1])\n",
    "    gene_map_id[temp_l[1]] = int(temp_l[2])\n",
    "    id_gene_map[int(temp_l[2])] = temp_l[1]"
   ]
  },
  {
   "cell_type": "code",
   "execution_count": 438,
   "metadata": {
    "collapsed": true
   },
   "outputs": [],
   "source": [
    "rank_temp = \"rank_temp.txt\"\n",
    "with open(rank_temp, 'w') as f:\n",
    "    for ttt in data_tt:\n",
    "        f.write('{0}\\n'.format(ttt))        "
   ]
  },
  {
   "cell_type": "code",
   "execution_count": 220,
   "metadata": {
    "collapsed": true
   },
   "outputs": [],
   "source": [
    "G = H.copy()"
   ]
  },
  {
   "cell_type": "code",
   "execution_count": 221,
   "metadata": {
    "collapsed": true
   },
   "outputs": [],
   "source": [
    "# G = sorted(nx.weakly_connected_component_subgraphs(H), key = len, reverse=True)[0]\n",
    "# nx.info(G)"
   ]
  },
  {
   "cell_type": "code",
   "execution_count": 222,
   "metadata": {
    "collapsed": true
   },
   "outputs": [],
   "source": [
    "data_t = open(\"./data/BioGRID_full_yeast/ProteinHistorian_age_estimated_cleaned.txt\",'r')\n",
    "data_t = data_t.readlines()\n",
    "rank_temp_t = {}\n",
    "check =[]\n",
    "for lin in data_t:\n",
    "    temp_l=lin.split()\n",
    "    string_t = temp_l[0].split(\"~\",2)[2]\n",
    "    rank_temp_t[string_t] = float(temp_l[1])\n",
    "    check.append(float(temp_l[1]))\n",
    "    \n",
    "G_nodes = G.nodes();\n",
    "\n",
    "i = 0\n",
    "rank_temp ={}\n",
    "nodes_to_remove = []\n",
    "for k in G_nodes:\n",
    "    if id_gene_map[k] in rank_temp_t:\n",
    "        rank_temp[k] = rank_temp_t[id_gene_map[k]]\n",
    "    else:\n",
    "        i +=1\n",
    "        nodes_to_remove.append(k)\n",
    "temp = rank_temp.values()\n",
    "temp_s = sorted(set(temp))\n",
    "r = {key:rank for rank, key in enumerate(temp_s)}\n",
    "# data_cld_1 = {k: r[v] for k,v in rank_temp.items()}\n",
    "# data_cld = {rank_temp[k]: r[v] for k,v in rank_temp.items()}\n",
    "data_cld = {k: r[v] for k,v in rank_temp.items()}"
   ]
  },
  {
   "cell_type": "code",
   "execution_count": 223,
   "metadata": {},
   "outputs": [
    {
     "name": "stdout",
     "output_type": "stream",
     "text": [
      "No. of nodes: 5850\n",
      "Time data known only for 621 nodes and not known for 5229 nodes\n",
      "No. of bins in the original ranking: 16\n"
     ]
    }
   ],
   "source": [
    "print(\"No. of nodes:\",G.number_of_nodes())\n",
    "print(\"Time data known only for {0} nodes and not known for {1} nodes\".format(len(rank_temp),i))\n",
    "print(\"No. of bins in the original ranking:\", len(r))"
   ]
  },
  {
   "cell_type": "code",
   "execution_count": 158,
   "metadata": {
    "collapsed": true
   },
   "outputs": [],
   "source": [
    "orig_rank_file = './data/BioGRID_full'+'BioGRID_full_human_net'+'_orig_rank'+'.csv'\n",
    "with open(orig_rank_file, 'w') as f:\n",
    "    for key, value in data_cld.items():\n",
    "        f.write('%d %d\\n' % (key, value))\n",
    "        \n",
    "G.remove_nodes_from(nodes_to_remove)\n",
    "nx.write_edgelist(G,'./data/BioGRID_full'+'BioGRID_full_human_net'+'_cleaned'+'.txt',data=False)"
   ]
  },
  {
   "cell_type": "markdown",
   "metadata": {},
   "source": [
    "# Friendster"
   ]
  },
  {
   "cell_type": "code",
   "execution_count": 25,
   "metadata": {
    "collapsed": true
   },
   "outputs": [],
   "source": [
    "import datetime\n",
    "\n",
    "data_file = './data/Friendster/Friendster_data.csv'\n",
    "data = open(data_file,'r')\n",
    "data = data.readlines()\n",
    "data_tt ={}\n",
    "for lin in data[1:]:\n",
    "    temp_l=lin.split(',')\n",
    "    data_tt[int(temp_l[0])]=temp_l[1]"
   ]
  },
  {
   "cell_type": "code",
   "execution_count": 21,
   "metadata": {
    "collapsed": true
   },
   "outputs": [],
   "source": [
    "temp = data_tt.values()\n",
    "temp_s = sorted(set(temp), key = lambda x: datetime.datetime.strptime(x, '%b %Y\\n'))\n",
    "r = {key:rank for rank, key in enumerate(temp_s)}\n",
    "data_cld = {k: r[v] for k,v in data_tt.items()}"
   ]
  },
  {
   "cell_type": "code",
   "execution_count": 26,
   "metadata": {
    "collapsed": true
   },
   "outputs": [],
   "source": [
    "orig_rank_file = './data/Friendster/Friendster_data_cleaned.csv'\n",
    "with open(orig_rank_file, 'w') as f:\n",
    "    for key, value in data_cld.items():\n",
    "        f.write('%d %d\\n' % (key, value))"
   ]
  },
  {
   "cell_type": "code",
   "execution_count": 28,
   "metadata": {},
   "outputs": [
    {
     "name": "stdout",
     "output_type": "stream",
     "text": [
      "No. of bins in the original ranking:  83\n"
     ]
    }
   ],
   "source": [
    "print(\"No. of bins in the original ranking: \", len(r))"
   ]
  },
  {
   "cell_type": "code",
   "execution_count": 29,
   "metadata": {},
   "outputs": [
    {
     "data": {
      "text/plain": [
       "{0: 21,\n",
       " 1: 21,\n",
       " 2: 62,\n",
       " 3: 62,\n",
       " 4: 62,\n",
       " 5: 54,\n",
       " 6: 22,\n",
       " 7: 22,\n",
       " 8: 22,\n",
       " 9: 22,\n",
       " 10: 22,\n",
       " 11: 5,\n",
       " 12: 12,\n",
       " 13: 12,\n",
       " 14: 12,\n",
       " 15: 13,\n",
       " 16: 13,\n",
       " 17: 13,\n",
       " 18: 13,\n",
       " 19: 13,\n",
       " 20: 13,\n",
       " 21: 13,\n",
       " 22: 13,\n",
       " 23: 11,\n",
       " 24: 12,\n",
       " 25: 12,\n",
       " 26: 13,\n",
       " 27: 13,\n",
       " 28: 13,\n",
       " 29: 14,\n",
       " 30: 14,\n",
       " 31: 14,\n",
       " 32: 14,\n",
       " 33: 14,\n",
       " 34: 14,\n",
       " 35: 14,\n",
       " 36: 14,\n",
       " 37: 14,\n",
       " 38: 14,\n",
       " 39: 14,\n",
       " 40: 14,\n",
       " 41: 14,\n",
       " 42: 14,\n",
       " 43: 14,\n",
       " 44: 14,\n",
       " 45: 14,\n",
       " 46: 14,\n",
       " 47: 14,\n",
       " 48: 15,\n",
       " 49: 15,\n",
       " 50: 15,\n",
       " 51: 15,\n",
       " 52: 15,\n",
       " 53: 15,\n",
       " 54: 15,\n",
       " 55: 15,\n",
       " 56: 15,\n",
       " 57: 15,\n",
       " 58: 15,\n",
       " 59: 15,\n",
       " 60: 15,\n",
       " 61: 15,\n",
       " 62: 15,\n",
       " 63: 15,\n",
       " 64: 15,\n",
       " 65: 15,\n",
       " 66: 15,\n",
       " 67: 15,\n",
       " 68: 15,\n",
       " 69: 15,\n",
       " 70: 15,\n",
       " 71: 15,\n",
       " 72: 16,\n",
       " 73: 16,\n",
       " 74: 16,\n",
       " 75: 16,\n",
       " 76: 16,\n",
       " 77: 17,\n",
       " 78: 17,\n",
       " 79: 17,\n",
       " 80: 15,\n",
       " 81: 15,\n",
       " 82: 15,\n",
       " 83: 15,\n",
       " 84: 16,\n",
       " 85: 16,\n",
       " 86: 17,\n",
       " 87: 17,\n",
       " 88: 17,\n",
       " 89: 17,\n",
       " 90: 17,\n",
       " 91: 17,\n",
       " 92: 17,\n",
       " 93: 17,\n",
       " 94: 17,\n",
       " 95: 18,\n",
       " 96: 18,\n",
       " 97: 18,\n",
       " 98: 18,\n",
       " 99: 18,\n",
       " 100: 18,\n",
       " 101: 18,\n",
       " 102: 18,\n",
       " 103: 18,\n",
       " 104: 18,\n",
       " 105: 18,\n",
       " 106: 19,\n",
       " 107: 19,\n",
       " 108: 19,\n",
       " 109: 19,\n",
       " 110: 19,\n",
       " 111: 19,\n",
       " 112: 19,\n",
       " 113: 19,\n",
       " 114: 19,\n",
       " 115: 19,\n",
       " 116: 19,\n",
       " 117: 19,\n",
       " 118: 20,\n",
       " 119: 20,\n",
       " 120: 20,\n",
       " 121: 20,\n",
       " 122: 20,\n",
       " 123: 20,\n",
       " 124: 20,\n",
       " 125: 20,\n",
       " 126: 21,\n",
       " 127: 21,\n",
       " 128: 21,\n",
       " 129: 21,\n",
       " 130: 20,\n",
       " 131: 20,\n",
       " 132: 20,\n",
       " 133: 20,\n",
       " 134: 20,\n",
       " 135: 20,\n",
       " 136: 20,\n",
       " 137: 20,\n",
       " 138: 20,\n",
       " 139: 20,\n",
       " 140: 20,\n",
       " 141: 20,\n",
       " 142: 20,\n",
       " 143: 20,\n",
       " 144: 21,\n",
       " 145: 21,\n",
       " 146: 21,\n",
       " 147: 21,\n",
       " 148: 21,\n",
       " 149: 21,\n",
       " 150: 21,\n",
       " 151: 21,\n",
       " 152: 21,\n",
       " 153: 21,\n",
       " 154: 21,\n",
       " 155: 21,\n",
       " 156: 21,\n",
       " 157: 21,\n",
       " 158: 21,\n",
       " 159: 21,\n",
       " 160: 21,\n",
       " 161: 21,\n",
       " 162: 21,\n",
       " 163: 22,\n",
       " 164: 22,\n",
       " 165: 23,\n",
       " 166: 22,\n",
       " 167: 22,\n",
       " 168: 22,\n",
       " 169: 23,\n",
       " 170: 23,\n",
       " 171: 23,\n",
       " 172: 23,\n",
       " 173: 23,\n",
       " 174: 23,\n",
       " 175: 23,\n",
       " 176: 23,\n",
       " 177: 23,\n",
       " 178: 23,\n",
       " 179: 23,\n",
       " 180: 23,\n",
       " 181: 23,\n",
       " 182: 23,\n",
       " 183: 23,\n",
       " 184: 23,\n",
       " 185: 23,\n",
       " 186: 23,\n",
       " 187: 24,\n",
       " 188: 24,\n",
       " 189: 24,\n",
       " 190: 24,\n",
       " 191: 24,\n",
       " 192: 24,\n",
       " 193: 24,\n",
       " 194: 24,\n",
       " 195: 24,\n",
       " 196: 24,\n",
       " 197: 24,\n",
       " 198: 24,\n",
       " 199: 24,\n",
       " 200: 24,\n",
       " 201: 24,\n",
       " 202: 24,\n",
       " 203: 24,\n",
       " 204: 25,\n",
       " 205: 25,\n",
       " 206: 25,\n",
       " 207: 25,\n",
       " 208: 25,\n",
       " 209: 25,\n",
       " 210: 25,\n",
       " 211: 25,\n",
       " 212: 25,\n",
       " 213: 25,\n",
       " 214: 25,\n",
       " 215: 25,\n",
       " 216: 25,\n",
       " 217: 25,\n",
       " 218: 25,\n",
       " 219: 25,\n",
       " 220: 25,\n",
       " 221: 25,\n",
       " 222: 25,\n",
       " 223: 25,\n",
       " 224: 26,\n",
       " 225: 26,\n",
       " 226: 26,\n",
       " 227: 26,\n",
       " 228: 26,\n",
       " 229: 26,\n",
       " 230: 26,\n",
       " 231: 26,\n",
       " 232: 26,\n",
       " 233: 26,\n",
       " 234: 26,\n",
       " 235: 26,\n",
       " 236: 26,\n",
       " 237: 26,\n",
       " 238: 26,\n",
       " 239: 26,\n",
       " 240: 26,\n",
       " 241: 26,\n",
       " 242: 26,\n",
       " 243: 26,\n",
       " 244: 26,\n",
       " 245: 26,\n",
       " 246: 26,\n",
       " 247: 27,\n",
       " 248: 27,\n",
       " 249: 27,\n",
       " 250: 27,\n",
       " 251: 27,\n",
       " 252: 27,\n",
       " 253: 27,\n",
       " 254: 27,\n",
       " 255: 27,\n",
       " 256: 27,\n",
       " 257: 27,\n",
       " 258: 27,\n",
       " 259: 27,\n",
       " 260: 27,\n",
       " 261: 28,\n",
       " 262: 28,\n",
       " 263: 28,\n",
       " 264: 28,\n",
       " 265: 28,\n",
       " 266: 28,\n",
       " 267: 28,\n",
       " 268: 28,\n",
       " 269: 28,\n",
       " 270: 28,\n",
       " 271: 28,\n",
       " 272: 28,\n",
       " 273: 28,\n",
       " 274: 28,\n",
       " 275: 28,\n",
       " 276: 28,\n",
       " 277: 29,\n",
       " 278: 28,\n",
       " 279: 28,\n",
       " 280: 29,\n",
       " 281: 29,\n",
       " 282: 29,\n",
       " 283: 29,\n",
       " 284: 29,\n",
       " 285: 29,\n",
       " 286: 30,\n",
       " 287: 30,\n",
       " 288: 30,\n",
       " 289: 30,\n",
       " 290: 30,\n",
       " 291: 30,\n",
       " 292: 30,\n",
       " 293: 30,\n",
       " 294: 30,\n",
       " 295: 30,\n",
       " 296: 30,\n",
       " 297: 30,\n",
       " 298: 30,\n",
       " 299: 30,\n",
       " 300: 30,\n",
       " 301: 30,\n",
       " 302: 30,\n",
       " 303: 31,\n",
       " 304: 31,\n",
       " 305: 31,\n",
       " 306: 31,\n",
       " 307: 31,\n",
       " 308: 31,\n",
       " 309: 31,\n",
       " 310: 31,\n",
       " 311: 31,\n",
       " 312: 31,\n",
       " 313: 31,\n",
       " 314: 31,\n",
       " 315: 31,\n",
       " 316: 31,\n",
       " 317: 31,\n",
       " 318: 31,\n",
       " 319: 31,\n",
       " 320: 31,\n",
       " 321: 31,\n",
       " 322: 31,\n",
       " 323: 32,\n",
       " 324: 32,\n",
       " 325: 32,\n",
       " 326: 32,\n",
       " 327: 32,\n",
       " 328: 32,\n",
       " 329: 32,\n",
       " 330: 32,\n",
       " 331: 32,\n",
       " 332: 32,\n",
       " 333: 32,\n",
       " 334: 32,\n",
       " 335: 32,\n",
       " 336: 32,\n",
       " 337: 32,\n",
       " 338: 32,\n",
       " 339: 32,\n",
       " 340: 32,\n",
       " 341: 33,\n",
       " 342: 33,\n",
       " 343: 33,\n",
       " 344: 36,\n",
       " 345: 37,\n",
       " 346: 37,\n",
       " 347: 37,\n",
       " 348: 37,\n",
       " 349: 37,\n",
       " 350: 40,\n",
       " 351: 40,\n",
       " 352: 42,\n",
       " 353: 43,\n",
       " 354: 43,\n",
       " 355: 42,\n",
       " 356: 43,\n",
       " 357: 45,\n",
       " 358: 45,\n",
       " 359: 48,\n",
       " 360: 48,\n",
       " 361: 48,\n",
       " 362: 48,\n",
       " 363: 48,\n",
       " 364: 48,\n",
       " 365: 48,\n",
       " 366: 48,\n",
       " 367: 54,\n",
       " 368: 54,\n",
       " 369: 54,\n",
       " 370: 58,\n",
       " 371: 58,\n",
       " 372: 54,\n",
       " 373: 54,\n",
       " 374: 54,\n",
       " 375: 58,\n",
       " 376: 58,\n",
       " 377: 58,\n",
       " 378: 58,\n",
       " 379: 58,\n",
       " 380: 58,\n",
       " 381: 58,\n",
       " 382: 60,\n",
       " 383: 60,\n",
       " 384: 62,\n",
       " 385: 62,\n",
       " 386: 62,\n",
       " 387: 62,\n",
       " 388: 65,\n",
       " 389: 65,\n",
       " 390: 62,\n",
       " 391: 68,\n",
       " 392: 68,\n",
       " 393: 68,\n",
       " 394: 65,\n",
       " 395: 65,\n",
       " 396: 77,\n",
       " 397: 72,\n",
       " 398: 72,\n",
       " 399: 72,\n",
       " 400: 72,\n",
       " 401: 75,\n",
       " 402: 75,\n",
       " 403: 77,\n",
       " 404: 77,\n",
       " 405: 77,\n",
       " 406: 77,\n",
       " 407: 77,\n",
       " 408: 70,\n",
       " 409: 70,\n",
       " 410: 70,\n",
       " 411: 77,\n",
       " 412: 76,\n",
       " 413: 76,\n",
       " 414: 77,\n",
       " 415: 78,\n",
       " 416: 78,\n",
       " 417: 80,\n",
       " 418: 80,\n",
       " 419: 79,\n",
       " 420: 81,\n",
       " 421: 81,\n",
       " 422: 81,\n",
       " 423: 81,\n",
       " 424: 25,\n",
       " 425: 25,\n",
       " 426: 54,\n",
       " 427: 21,\n",
       " 428: 21,\n",
       " 429: 21,\n",
       " 430: 62,\n",
       " 431: 54,\n",
       " 432: 62,\n",
       " 433: 54,\n",
       " 434: 54,\n",
       " 435: 22,\n",
       " 436: 22,\n",
       " 437: 22,\n",
       " 438: 12,\n",
       " 439: 12,\n",
       " 440: 10,\n",
       " 441: 12,\n",
       " 442: 12,\n",
       " 443: 12,\n",
       " 444: 13,\n",
       " 445: 10,\n",
       " 446: 13,\n",
       " 447: 13,\n",
       " 448: 13,\n",
       " 449: 13,\n",
       " 450: 13,\n",
       " 451: 13,\n",
       " 452: 13,\n",
       " 453: 11,\n",
       " 454: 11,\n",
       " 455: 12,\n",
       " 456: 13,\n",
       " 457: 13,\n",
       " 458: 13,\n",
       " 459: 14,\n",
       " 460: 14,\n",
       " 461: 14,\n",
       " 462: 14,\n",
       " 463: 14,\n",
       " 464: 14,\n",
       " 465: 14,\n",
       " 466: 14,\n",
       " 467: 14,\n",
       " 468: 14,\n",
       " 469: 14,\n",
       " 470: 14,\n",
       " 471: 14,\n",
       " 472: 14,\n",
       " 473: 14,\n",
       " 474: 14,\n",
       " 475: 14,\n",
       " 476: 14,\n",
       " 477: 14,\n",
       " 478: 14,\n",
       " 479: 14,\n",
       " 480: 14,\n",
       " 481: 14,\n",
       " 482: 15,\n",
       " 483: 15,\n",
       " 484: 15,\n",
       " 485: 15,\n",
       " 486: 15,\n",
       " 487: 15,\n",
       " 488: 15,\n",
       " 489: 15,\n",
       " 490: 15,\n",
       " 491: 15,\n",
       " 492: 15,\n",
       " 493: 15,\n",
       " 494: 15,\n",
       " 495: 15,\n",
       " 496: 15,\n",
       " 497: 15,\n",
       " 498: 15,\n",
       " 499: 15,\n",
       " 500: 15,\n",
       " 501: 15,\n",
       " 502: 15,\n",
       " 503: 15,\n",
       " 504: 15,\n",
       " 505: 15,\n",
       " 506: 16,\n",
       " 507: 16,\n",
       " 508: 16,\n",
       " 509: 16,\n",
       " 510: 16,\n",
       " 511: 16,\n",
       " 512: 17,\n",
       " 513: 17,\n",
       " 514: 17,\n",
       " 515: 15,\n",
       " 516: 16,\n",
       " 517: 32,\n",
       " 518: 17,\n",
       " 519: 17,\n",
       " 520: 17,\n",
       " 521: 17,\n",
       " 522: 17,\n",
       " 523: 17,\n",
       " 524: 17,\n",
       " 525: 18,\n",
       " 526: 18,\n",
       " 527: 18,\n",
       " 528: 18,\n",
       " 529: 18,\n",
       " 530: 18,\n",
       " 531: 18,\n",
       " 532: 18,\n",
       " 533: 18,\n",
       " 534: 18,\n",
       " 535: 18,\n",
       " 536: 18,\n",
       " 537: 18,\n",
       " 538: 18,\n",
       " 539: 18,\n",
       " 540: 18,\n",
       " 541: 18,\n",
       " 542: 18,\n",
       " 543: 18,\n",
       " 544: 19,\n",
       " 545: 19,\n",
       " 546: 19,\n",
       " 547: 19,\n",
       " 548: 19,\n",
       " 549: 19,\n",
       " 550: 19,\n",
       " 551: 19,\n",
       " 552: 19,\n",
       " 553: 19,\n",
       " 554: 19,\n",
       " 555: 19,\n",
       " 556: 19,\n",
       " 557: 19,\n",
       " 558: 19,\n",
       " 559: 19,\n",
       " 560: 19,\n",
       " 561: 19,\n",
       " 562: 19,\n",
       " 563: 19,\n",
       " 564: 19,\n",
       " 565: 19,\n",
       " 566: 19,\n",
       " 567: 19,\n",
       " 568: 19,\n",
       " 569: 20,\n",
       " 570: 20,\n",
       " 571: 20,\n",
       " 572: 20,\n",
       " 573: 20,\n",
       " 574: 20,\n",
       " 575: 20,\n",
       " 576: 20,\n",
       " 577: 21,\n",
       " 578: 21,\n",
       " 579: 21,\n",
       " 580: 20,\n",
       " 581: 20,\n",
       " 582: 20,\n",
       " 583: 20,\n",
       " 584: 20,\n",
       " 585: 20,\n",
       " 586: 20,\n",
       " 587: 20,\n",
       " 588: 20,\n",
       " 589: 20,\n",
       " 590: 20,\n",
       " 591: 20,\n",
       " 592: 20,\n",
       " 593: 20,\n",
       " 594: 20,\n",
       " 595: 20,\n",
       " 596: 20,\n",
       " 597: 20,\n",
       " 598: 20,\n",
       " 599: 21,\n",
       " 600: 21,\n",
       " 601: 21,\n",
       " 602: 21,\n",
       " 603: 21,\n",
       " 604: 21,\n",
       " 605: 21,\n",
       " 606: 21,\n",
       " 607: 21,\n",
       " 608: 21,\n",
       " 609: 21,\n",
       " 610: 21,\n",
       " 611: 21,\n",
       " 612: 21,\n",
       " 613: 21,\n",
       " 614: 21,\n",
       " 615: 21,\n",
       " 616: 22,\n",
       " 617: 22,\n",
       " 618: 22,\n",
       " 619: 22,\n",
       " 620: 23,\n",
       " 621: 23,\n",
       " 622: 23,\n",
       " 623: 23,\n",
       " 624: 23,\n",
       " 625: 23,\n",
       " 626: 23,\n",
       " 627: 23,\n",
       " 628: 23,\n",
       " 629: 23,\n",
       " 630: 23,\n",
       " 631: 23,\n",
       " 632: 23,\n",
       " 633: 23,\n",
       " 634: 23,\n",
       " 635: 23,\n",
       " 636: 23,\n",
       " 637: 23,\n",
       " 638: 23,\n",
       " 639: 23,\n",
       " 640: 23,\n",
       " 641: 24,\n",
       " 642: 24,\n",
       " 643: 24,\n",
       " 644: 24,\n",
       " 645: 24,\n",
       " 646: 24,\n",
       " 647: 24,\n",
       " 648: 24,\n",
       " 649: 24,\n",
       " 650: 24,\n",
       " 651: 24,\n",
       " 652: 24,\n",
       " 653: 24,\n",
       " 654: 24,\n",
       " 655: 24,\n",
       " 656: 24,\n",
       " 657: 24,\n",
       " 658: 25,\n",
       " 659: 25,\n",
       " 660: 25,\n",
       " 661: 25,\n",
       " 662: 25,\n",
       " 663: 25,\n",
       " 664: 25,\n",
       " 665: 25,\n",
       " 666: 25,\n",
       " 667: 25,\n",
       " 668: 25,\n",
       " 669: 25,\n",
       " 670: 25,\n",
       " 671: 25,\n",
       " 672: 26,\n",
       " 673: 26,\n",
       " 674: 26,\n",
       " 675: 26,\n",
       " 676: 26,\n",
       " 677: 26,\n",
       " 678: 26,\n",
       " 679: 26,\n",
       " 680: 26,\n",
       " 681: 26,\n",
       " 682: 26,\n",
       " 683: 26,\n",
       " 684: 26,\n",
       " 685: 26,\n",
       " 686: 26,\n",
       " 687: 26,\n",
       " 688: 27,\n",
       " 689: 27,\n",
       " 690: 27,\n",
       " 691: 27,\n",
       " 692: 27,\n",
       " 693: 27,\n",
       " 694: 27,\n",
       " 695: 27,\n",
       " 696: 27,\n",
       " 697: 27,\n",
       " 698: 27,\n",
       " 699: 27,\n",
       " 700: 27,\n",
       " 701: 28,\n",
       " 702: 28,\n",
       " 703: 28,\n",
       " 704: 28,\n",
       " 705: 28,\n",
       " 706: 28,\n",
       " 707: 28,\n",
       " 708: 28,\n",
       " 709: 28,\n",
       " 710: 28,\n",
       " 711: 28,\n",
       " 712: 28,\n",
       " 713: 28,\n",
       " 714: 28,\n",
       " 715: 28,\n",
       " 716: 28,\n",
       " 717: 28,\n",
       " 718: 28,\n",
       " 719: 29,\n",
       " 720: 29,\n",
       " 721: 28,\n",
       " 722: 28,\n",
       " 723: 29,\n",
       " 724: 29,\n",
       " 725: 29,\n",
       " 726: 29,\n",
       " 727: 29,\n",
       " 728: 29,\n",
       " 729: 29,\n",
       " 730: 30,\n",
       " 731: 30,\n",
       " 732: 30,\n",
       " 733: 30,\n",
       " 734: 30,\n",
       " 735: 30,\n",
       " 736: 30,\n",
       " 737: 30,\n",
       " 738: 30,\n",
       " 739: 30,\n",
       " 740: 30,\n",
       " 741: 30,\n",
       " 742: 30,\n",
       " 743: 30,\n",
       " 744: 30,\n",
       " 745: 30,\n",
       " 746: 30,\n",
       " 747: 30,\n",
       " 748: 31,\n",
       " 749: 31,\n",
       " 750: 31,\n",
       " 751: 31,\n",
       " 752: 31,\n",
       " 753: 31,\n",
       " 754: 31,\n",
       " 755: 31,\n",
       " 756: 31,\n",
       " 757: 31,\n",
       " 758: 31,\n",
       " 759: 31,\n",
       " 760: 31,\n",
       " 761: 31,\n",
       " 762: 31,\n",
       " 763: 31,\n",
       " 764: 31,\n",
       " 765: 31,\n",
       " 766: 31,\n",
       " 767: 31,\n",
       " 768: 31,\n",
       " 769: 31,\n",
       " 770: 31,\n",
       " 771: 31,\n",
       " 772: 32,\n",
       " 773: 32,\n",
       " 774: 32,\n",
       " 775: 32,\n",
       " 776: 32,\n",
       " 777: 32,\n",
       " 778: 32,\n",
       " 779: 32,\n",
       " 780: 32,\n",
       " 781: 32,\n",
       " 782: 32,\n",
       " 783: 32,\n",
       " 784: 32,\n",
       " 785: 32,\n",
       " 786: 32,\n",
       " 787: 32,\n",
       " 788: 32,\n",
       " 789: 33,\n",
       " 790: 33,\n",
       " 791: 37,\n",
       " 792: 37,\n",
       " 793: 37,\n",
       " 794: 37,\n",
       " 795: 37,\n",
       " 796: 37,\n",
       " 797: 37,\n",
       " 798: 37,\n",
       " 799: 40,\n",
       " 800: 42,\n",
       " 801: 42,\n",
       " 802: 43,\n",
       " 803: 43,\n",
       " 804: 43,\n",
       " 805: 43,\n",
       " 806: 45,\n",
       " 807: 45,\n",
       " 808: 45,\n",
       " 809: 48,\n",
       " 810: 48,\n",
       " 811: 48,\n",
       " 812: 48,\n",
       " 813: 48,\n",
       " 814: 48,\n",
       " 815: 48,\n",
       " 816: 48,\n",
       " 817: 48,\n",
       " 818: 48,\n",
       " 819: 48,\n",
       " 820: 48,\n",
       " 821: 48,\n",
       " 822: 54,\n",
       " 823: 54,\n",
       " 824: 54,\n",
       " 825: 58,\n",
       " 826: 54,\n",
       " 827: 58,\n",
       " 828: 58,\n",
       " 829: 58,\n",
       " 830: 58,\n",
       " 831: 58,\n",
       " 832: 58,\n",
       " 833: 58,\n",
       " 834: 60,\n",
       " 835: 62,\n",
       " 836: 62,\n",
       " 837: 62,\n",
       " 838: 62,\n",
       " 839: 65,\n",
       " 840: 65,\n",
       " 841: 65,\n",
       " 842: 62,\n",
       " 843: 62,\n",
       " 844: 68,\n",
       " 845: 68,\n",
       " 846: 65,\n",
       " 847: 65,\n",
       " 848: 65,\n",
       " 849: 65,\n",
       " 850: 72,\n",
       " 851: 72,\n",
       " 852: 75,\n",
       " 853: 77,\n",
       " 854: 77,\n",
       " 855: 70,\n",
       " 856: 70,\n",
       " 857: 76,\n",
       " 858: 76,\n",
       " 859: 78,\n",
       " 860: 79,\n",
       " 861: 80,\n",
       " 862: 79,\n",
       " 863: 79,\n",
       " 864: 79,\n",
       " 865: 25,\n",
       " 866: 62,\n",
       " 867: 62,\n",
       " 868: 54,\n",
       " 869: 54,\n",
       " 870: 22,\n",
       " 871: 22,\n",
       " 872: 22,\n",
       " 873: 22,\n",
       " 874: 12,\n",
       " 875: 12,\n",
       " 876: 22,\n",
       " 877: 10,\n",
       " 878: 12,\n",
       " 879: 13,\n",
       " 880: 13,\n",
       " 881: 13,\n",
       " 882: 13,\n",
       " 883: 13,\n",
       " 884: 13,\n",
       " 885: 13,\n",
       " 886: 13,\n",
       " 887: 13,\n",
       " 888: 13,\n",
       " 889: 13,\n",
       " 890: 13,\n",
       " 891: 11,\n",
       " 892: 11,\n",
       " 893: 12,\n",
       " 894: 12,\n",
       " 895: 13,\n",
       " 896: 14,\n",
       " 897: 14,\n",
       " 898: 14,\n",
       " 899: 14,\n",
       " 900: 14,\n",
       " 901: 14,\n",
       " 902: 14,\n",
       " 903: 14,\n",
       " 904: 14,\n",
       " 905: 14,\n",
       " 906: 14,\n",
       " 907: 14,\n",
       " 908: 14,\n",
       " 909: 14,\n",
       " 910: 14,\n",
       " 911: 14,\n",
       " 912: 14,\n",
       " 913: 14,\n",
       " 914: 14,\n",
       " 915: 14,\n",
       " 916: 15,\n",
       " 917: 15,\n",
       " 918: 15,\n",
       " 919: 15,\n",
       " 920: 15,\n",
       " 921: 15,\n",
       " 922: 15,\n",
       " 923: 15,\n",
       " 924: 15,\n",
       " 925: 15,\n",
       " 926: 15,\n",
       " 927: 15,\n",
       " 928: 15,\n",
       " 929: 15,\n",
       " 930: 15,\n",
       " 931: 15,\n",
       " 932: 15,\n",
       " 933: 15,\n",
       " 934: 15,\n",
       " 935: 15,\n",
       " 936: 15,\n",
       " 937: 15,\n",
       " 938: 15,\n",
       " 939: 15,\n",
       " 940: 15,\n",
       " 941: 15,\n",
       " 942: 15,\n",
       " 943: 15,\n",
       " 944: 16,\n",
       " 945: 16,\n",
       " 946: 16,\n",
       " 947: 16,\n",
       " 948: 16,\n",
       " 949: 16,\n",
       " 950: 17,\n",
       " 951: 15,\n",
       " 952: 15,\n",
       " 953: 15,\n",
       " 954: 16,\n",
       " 955: 16,\n",
       " 956: 32,\n",
       " 957: 17,\n",
       " 958: 17,\n",
       " 959: 17,\n",
       " 960: 17,\n",
       " 961: 17,\n",
       " 962: 17,\n",
       " 963: 17,\n",
       " 964: 17,\n",
       " 965: 18,\n",
       " 966: 18,\n",
       " 967: 18,\n",
       " 968: 18,\n",
       " 969: 18,\n",
       " 970: 18,\n",
       " 971: 18,\n",
       " 972: 18,\n",
       " 973: 18,\n",
       " 974: 18,\n",
       " 975: 18,\n",
       " 976: 18,\n",
       " 977: 18,\n",
       " 978: 18,\n",
       " 979: 18,\n",
       " 980: 18,\n",
       " 981: 19,\n",
       " 982: 19,\n",
       " 983: 19,\n",
       " 984: 19,\n",
       " 985: 19,\n",
       " 986: 19,\n",
       " 987: 19,\n",
       " 988: 19,\n",
       " 989: 19,\n",
       " 990: 19,\n",
       " 991: 19,\n",
       " 992: 19,\n",
       " 993: 19,\n",
       " 994: 19,\n",
       " 995: 19,\n",
       " 996: 19,\n",
       " 997: 19,\n",
       " 998: 19,\n",
       " 999: 19,\n",
       " ...}"
      ]
     },
     "execution_count": 29,
     "metadata": {},
     "output_type": "execute_result"
    }
   ],
   "source": [
    "data_cld"
   ]
  },
  {
   "cell_type": "markdown",
   "metadata": {
    "collapsed": true
   },
   "source": [
    "# Wikipedia, simple en (dynamic)"
   ]
  },
  {
   "cell_type": "code",
   "execution_count": 1,
   "metadata": {
    "collapsed": true
   },
   "outputs": [],
   "source": [
    "data_file = '../data/dynamic-simplewiki/dynamic-simplewiki.txt'\n",
    "data = open(data_file,'r')\n",
    "data = data.readlines()\n",
    "# data_tt ={}\n",
    "# for lin in data[1:]:\n",
    "#     temp_l=lin.split(',')\n",
    "#     data_tt[int(temp_l[0])]=temp_l[1]"
   ]
  },
  {
   "cell_type": "code",
   "execution_count": 2,
   "metadata": {},
   "outputs": [
    {
     "data": {
      "text/plain": [
       "['% asym dynamic\\n',\n",
       " '% 1627472 100312 100312\\n',\n",
       " '1 2 +1 1048757088\\n',\n",
       " '1 3 +1 1048757088\\n',\n",
       " '1 4 +1 1048757088\\n',\n",
       " '1 5 +1 1048757088\\n',\n",
       " '1 6 +1 1048757088\\n',\n",
       " '1 7 +1 1048757088\\n',\n",
       " '1 8 +1 1048757088\\n',\n",
       " '1 9 +1 1048757088\\n',\n",
       " '1 10 +1 1048757088\\n',\n",
       " '1 11 +1 1048757088\\n',\n",
       " '1 12 +1 1048757088\\n',\n",
       " '1 13 +1 1048757088\\n',\n",
       " '1 14 +1 1048757088\\n',\n",
       " '1 3 -1 1082411980\\n',\n",
       " '1 5 -1 1082411980\\n',\n",
       " '1 6 -1 1082411980\\n',\n",
       " '1 7 -1 1082411980\\n',\n",
       " '1 8 -1 1082411980\\n',\n",
       " '1 9 -1 1082411980\\n',\n",
       " '1 12 -1 1082411980\\n',\n",
       " '1 2 -1 1128843963\\n',\n",
       " '1 15 +1 1128843963\\n',\n",
       " '1 16 +1 1128843963\\n',\n",
       " '1 17 +1 1128843963\\n',\n",
       " '1 18 +1 1147880934\\n',\n",
       " '1 18 -1 1147881205\\n',\n",
       " '1 19 +1 1178216710\\n',\n",
       " '1 19 -1 1178217328\\n',\n",
       " '1 14 -1 1235573939\\n',\n",
       " '1 20 +1 1235573939\\n',\n",
       " '1 10 -1 1263824421\\n',\n",
       " '1 4 -1 1263824421\\n',\n",
       " '1 20 -1 1263824421\\n',\n",
       " '1 11 -1 1263824421\\n',\n",
       " '1 15 -1 1263824421\\n',\n",
       " '1 13 -1 1263824421\\n',\n",
       " '1 16 -1 1263824421\\n',\n",
       " '1 17 -1 1263824421\\n',\n",
       " '1 10 +1 1263824454\\n',\n",
       " '1 4 +1 1263824454\\n',\n",
       " '1 20 +1 1263824454\\n',\n",
       " '1 11 +1 1263824454\\n',\n",
       " '1 15 +1 1263824454\\n',\n",
       " '1 13 +1 1263824454\\n',\n",
       " '1 16 +1 1263824454\\n',\n",
       " '1 17 +1 1263824454\\n',\n",
       " '1 10 -1 1267256453\\n',\n",
       " '1 4 -1 1267256453\\n',\n",
       " '1 20 -1 1267256453\\n',\n",
       " '1 11 -1 1267256453\\n',\n",
       " '1 15 -1 1267256453\\n',\n",
       " '1 13 -1 1267256453\\n',\n",
       " '1 16 -1 1267256453\\n',\n",
       " '1 17 -1 1267256453\\n',\n",
       " '1 10 +1 1267256515\\n',\n",
       " '1 4 +1 1267256515\\n',\n",
       " '1 20 +1 1267256515\\n',\n",
       " '1 11 +1 1267256515\\n',\n",
       " '1 15 +1 1267256515\\n',\n",
       " '1 13 +1 1267256515\\n',\n",
       " '1 16 +1 1267256515\\n',\n",
       " '1 17 +1 1267256515\\n',\n",
       " '1 10 -1 1269914645\\n',\n",
       " '1 4 -1 1269914645\\n',\n",
       " '1 20 -1 1269914645\\n',\n",
       " '1 11 -1 1269914645\\n',\n",
       " '1 15 -1 1269914645\\n',\n",
       " '1 13 -1 1269914645\\n',\n",
       " '1 16 -1 1269914645\\n',\n",
       " '1 17 -1 1269914645\\n',\n",
       " '1 10 +1 1269914652\\n',\n",
       " '1 4 +1 1269914652\\n',\n",
       " '1 20 +1 1269914652\\n',\n",
       " '1 11 +1 1269914652\\n',\n",
       " '1 15 +1 1269914652\\n',\n",
       " '1 13 +1 1269914652\\n',\n",
       " '1 16 +1 1269914652\\n',\n",
       " '1 17 +1 1269914652\\n',\n",
       " '1 21 +1 1275676827\\n',\n",
       " '1 22 +1 1275676827\\n',\n",
       " '1 23 +1 1275676827\\n',\n",
       " '1 24 +1 1275676827\\n',\n",
       " '1 22 -1 1304134843\\n',\n",
       " '3 1 +1 1048762935\\n',\n",
       " '3 2 +1 1048762935\\n',\n",
       " '3 4 +1 1048762935\\n',\n",
       " '3 5 +1 1048762935\\n',\n",
       " '3 25 +1 1048762935\\n',\n",
       " '3 26 +1 1048762935\\n',\n",
       " '3 6 +1 1048762935\\n',\n",
       " '3 7 +1 1048762935\\n',\n",
       " '3 8 +1 1048762935\\n',\n",
       " '3 9 +1 1048762935\\n',\n",
       " '3 11 +1 1048762935\\n',\n",
       " '3 12 +1 1048762935\\n',\n",
       " '3 13 +1 1048762935\\n',\n",
       " '3 27 +1 1048762935\\n',\n",
       " '3 1 -1 1082412161\\n',\n",
       " '3 2 -1 1082412161\\n',\n",
       " '3 4 -1 1082412161\\n',\n",
       " '3 5 -1 1082412161\\n',\n",
       " '3 6 -1 1082412161\\n',\n",
       " '3 7 -1 1082412161\\n',\n",
       " '3 8 -1 1082412161\\n',\n",
       " '3 9 -1 1082412161\\n',\n",
       " '3 11 -1 1082412161\\n',\n",
       " '3 12 -1 1082412161\\n',\n",
       " '3 25 -1 1093182020\\n',\n",
       " '3 27 -1 1093182020\\n',\n",
       " '3 28 +1 1093182020\\n',\n",
       " '3 26 -1 1134751382\\n',\n",
       " '3 13 -1 1134751382\\n',\n",
       " '3 28 -1 1134751382\\n',\n",
       " '3 26 +1 1134753404\\n',\n",
       " '3 13 +1 1134753404\\n',\n",
       " '3 28 +1 1134753404\\n',\n",
       " '3 29 +1 1217485262\\n',\n",
       " '3 30 +1 1217485262\\n',\n",
       " '3 26 -1 1222454776\\n',\n",
       " '3 29 -1 1222454776\\n',\n",
       " '3 13 -1 1222454776\\n',\n",
       " '3 28 -1 1222454776\\n',\n",
       " '3 30 -1 1222454776\\n',\n",
       " '3 26 +1 1222454924\\n',\n",
       " '3 29 +1 1222454924\\n',\n",
       " '3 13 +1 1222454924\\n',\n",
       " '3 28 +1 1222454924\\n',\n",
       " '3 30 +1 1222454924\\n',\n",
       " '3 31 +1 1231297046\\n',\n",
       " '3 23 +1 1231297046\\n',\n",
       " '3 29 -1 1304136878\\n',\n",
       " '3 30 -1 1304136878\\n',\n",
       " '3 32 +1 1304136878\\n',\n",
       " '33 34 +1 1057979548\\n',\n",
       " '33 35 +1 1057979548\\n',\n",
       " '33 36 +1 1057979548\\n',\n",
       " '33 34 -1 1135556584\\n',\n",
       " '33 35 -1 1135556584\\n',\n",
       " '33 36 -1 1135556584\\n',\n",
       " '33 34 +1 1135558428\\n',\n",
       " '33 35 +1 1135558428\\n',\n",
       " '33 36 +1 1135558428\\n',\n",
       " '33 34 -1 1142428107\\n',\n",
       " '33 35 -1 1142428107\\n',\n",
       " '33 36 -1 1142428107\\n',\n",
       " '33 34 +1 1142433180\\n',\n",
       " '33 35 +1 1142433180\\n',\n",
       " '33 36 +1 1142433180\\n',\n",
       " '33 34 -1 1161440685\\n',\n",
       " '33 35 -1 1161440685\\n',\n",
       " '33 36 -1 1161440685\\n',\n",
       " '33 37 +1 1163201085\\n',\n",
       " '33 37 -1 1172232198\\n',\n",
       " '33 37 +1 1172236582\\n',\n",
       " '33 38 +1 1172850033\\n',\n",
       " '33 39 +1 1172850033\\n',\n",
       " '33 40 +1 1172850033\\n',\n",
       " '33 41 +1 1172850033\\n',\n",
       " '33 42 +1 1172850033\\n',\n",
       " '33 43 +1 1172850033\\n',\n",
       " '33 44 +1 1172850033\\n',\n",
       " '33 45 +1 1180984990\\n',\n",
       " '33 45 -1 1180993530\\n',\n",
       " '33 38 -1 1189618174\\n',\n",
       " '33 46 +1 1189618174\\n',\n",
       " '33 47 +1 1189618174\\n',\n",
       " '33 48 +1 1189618174\\n',\n",
       " '33 49 +1 1189618174\\n',\n",
       " '33 50 +1 1189618174\\n',\n",
       " '33 51 +1 1189618174\\n',\n",
       " '33 52 +1 1189618174\\n',\n",
       " '33 53 +1 1189618174\\n',\n",
       " '33 54 +1 1189618174\\n',\n",
       " '33 55 +1 1189618174\\n',\n",
       " '33 56 +1 1189618174\\n',\n",
       " '33 57 +1 1189618174\\n',\n",
       " '33 58 +1 1189618174\\n',\n",
       " '33 59 +1 1189618174\\n',\n",
       " '33 60 +1 1189618174\\n',\n",
       " '33 61 +1 1189618174\\n',\n",
       " '33 62 +1 1189618290\\n',\n",
       " '33 37 -1 1208499027\\n',\n",
       " '33 37 +1 1208515884\\n',\n",
       " '33 46 -1 1214178215\\n',\n",
       " '33 39 -1 1214178215\\n',\n",
       " '33 62 -1 1214178215\\n',\n",
       " '33 47 -1 1214178215\\n',\n",
       " '33 48 -1 1214178215\\n',\n",
       " '33 49 -1 1214178215\\n',\n",
       " '33 50 -1 1214178215\\n',\n",
       " '33 40 -1 1214178215\\n',\n",
       " '33 41 -1 1214178215\\n',\n",
       " '33 51 -1 1214178215\\n',\n",
       " '33 52 -1 1214178215\\n',\n",
       " '33 43 -1 1214178215\\n',\n",
       " '33 44 -1 1214178215\\n',\n",
       " '33 53 -1 1214178215\\n',\n",
       " '33 54 -1 1214178215\\n',\n",
       " '33 55 -1 1214178215\\n',\n",
       " '33 56 -1 1214178215\\n',\n",
       " '33 57 -1 1214178215\\n',\n",
       " '33 58 -1 1214178215\\n',\n",
       " '33 59 -1 1214178215\\n',\n",
       " '33 42 -1 1214178215\\n',\n",
       " '33 60 -1 1214178215\\n',\n",
       " '33 61 -1 1214178215\\n',\n",
       " '33 46 +1 1214179719\\n',\n",
       " '33 39 +1 1214179719\\n',\n",
       " '33 62 +1 1214179719\\n',\n",
       " '33 47 +1 1214179719\\n',\n",
       " '33 48 +1 1214179719\\n',\n",
       " '33 49 +1 1214179719\\n',\n",
       " '33 50 +1 1214179719\\n',\n",
       " '33 40 +1 1214179719\\n',\n",
       " '33 41 +1 1214179719\\n',\n",
       " '33 51 +1 1214179719\\n',\n",
       " '33 52 +1 1214179719\\n',\n",
       " '33 43 +1 1214179719\\n',\n",
       " '33 44 +1 1214179719\\n',\n",
       " '33 53 +1 1214179719\\n',\n",
       " '33 54 +1 1214179719\\n',\n",
       " '33 55 +1 1214179719\\n',\n",
       " '33 56 +1 1214179719\\n',\n",
       " '33 57 +1 1214179719\\n',\n",
       " '33 58 +1 1214179719\\n',\n",
       " '33 59 +1 1214179719\\n',\n",
       " '33 42 +1 1214179719\\n',\n",
       " '33 60 +1 1214179719\\n',\n",
       " '33 61 +1 1214179719\\n',\n",
       " '33 63 +1 1214607829\\n',\n",
       " '33 63 -1 1214608190\\n',\n",
       " '33 64 +1 1215999511\\n',\n",
       " '33 65 +1 1217852508\\n',\n",
       " '33 39 -1 1220607972\\n',\n",
       " '33 62 -1 1220607972\\n',\n",
       " '33 65 -1 1220607972\\n',\n",
       " '33 50 -1 1220607972\\n',\n",
       " '33 40 -1 1220607972\\n',\n",
       " '33 41 -1 1220607972\\n',\n",
       " '33 51 -1 1220607972\\n',\n",
       " '33 52 -1 1220607972\\n',\n",
       " '33 43 -1 1220607972\\n',\n",
       " '33 56 -1 1220607972\\n',\n",
       " '33 58 -1 1220607972\\n',\n",
       " '33 42 -1 1220607972\\n',\n",
       " '33 60 -1 1220607972\\n',\n",
       " '33 46 -1 1220607972\\n',\n",
       " '33 47 -1 1220607972\\n',\n",
       " '33 48 -1 1220607972\\n',\n",
       " '33 49 -1 1220607972\\n',\n",
       " '33 44 -1 1220607972\\n',\n",
       " '33 53 -1 1220607972\\n',\n",
       " '33 54 -1 1220607972\\n',\n",
       " '33 55 -1 1220607972\\n',\n",
       " '33 57 -1 1220607972\\n',\n",
       " '33 59 -1 1220607972\\n',\n",
       " '33 61 -1 1220607972\\n',\n",
       " '33 37 -1 1220607972\\n',\n",
       " '33 64 -1 1220607972\\n',\n",
       " '33 39 +1 1220608722\\n',\n",
       " '33 62 +1 1220608722\\n',\n",
       " '33 65 +1 1220608722\\n',\n",
       " '33 50 +1 1220608722\\n',\n",
       " '33 40 +1 1220608722\\n',\n",
       " '33 41 +1 1220608722\\n',\n",
       " '33 51 +1 1220608722\\n',\n",
       " '33 52 +1 1220608722\\n',\n",
       " '33 43 +1 1220608722\\n',\n",
       " '33 56 +1 1220608722\\n',\n",
       " '33 58 +1 1220608722\\n',\n",
       " '33 42 +1 1220608722\\n',\n",
       " '33 60 +1 1220608722\\n',\n",
       " '33 46 +1 1220608722\\n',\n",
       " '33 47 +1 1220608722\\n',\n",
       " '33 48 +1 1220608722\\n',\n",
       " '33 49 +1 1220608722\\n',\n",
       " '33 44 +1 1220608722\\n',\n",
       " '33 53 +1 1220608722\\n',\n",
       " '33 54 +1 1220608722\\n',\n",
       " '33 55 +1 1220608722\\n',\n",
       " '33 57 +1 1220608722\\n',\n",
       " '33 59 +1 1220608722\\n',\n",
       " '33 61 +1 1220608722\\n',\n",
       " '33 37 +1 1220608722\\n',\n",
       " '33 64 +1 1220608722\\n',\n",
       " '33 39 -1 1253540235\\n',\n",
       " '33 62 -1 1253540235\\n',\n",
       " '33 65 -1 1253540235\\n',\n",
       " '33 50 -1 1253540235\\n',\n",
       " '33 40 -1 1253540235\\n',\n",
       " '33 41 -1 1253540235\\n',\n",
       " '33 51 -1 1253540235\\n',\n",
       " '33 52 -1 1253540235\\n',\n",
       " '33 43 -1 1253540235\\n',\n",
       " '33 56 -1 1253540235\\n',\n",
       " '33 58 -1 1253540235\\n',\n",
       " '33 42 -1 1253540235\\n',\n",
       " '33 60 -1 1253540235\\n',\n",
       " '33 46 -1 1253540235\\n',\n",
       " '33 47 -1 1253540235\\n',\n",
       " '33 48 -1 1253540235\\n',\n",
       " '33 49 -1 1253540235\\n',\n",
       " '33 44 -1 1253540235\\n',\n",
       " '33 53 -1 1253540235\\n',\n",
       " '33 54 -1 1253540235\\n',\n",
       " '33 55 -1 1253540235\\n',\n",
       " '33 57 -1 1253540235\\n',\n",
       " '33 59 -1 1253540235\\n',\n",
       " '33 61 -1 1253540235\\n',\n",
       " '33 37 -1 1253540235\\n',\n",
       " '33 64 -1 1253540235\\n',\n",
       " '33 39 +1 1253540251\\n',\n",
       " '33 62 +1 1253540251\\n',\n",
       " '33 65 +1 1253540251\\n',\n",
       " '33 50 +1 1253540251\\n',\n",
       " '33 40 +1 1253540251\\n',\n",
       " '33 41 +1 1253540251\\n',\n",
       " '33 51 +1 1253540251\\n',\n",
       " '33 52 +1 1253540251\\n',\n",
       " '33 43 +1 1253540251\\n',\n",
       " '33 56 +1 1253540251\\n',\n",
       " '33 58 +1 1253540251\\n',\n",
       " '33 42 +1 1253540251\\n',\n",
       " '33 60 +1 1253540251\\n',\n",
       " '33 46 +1 1253540251\\n',\n",
       " '33 47 +1 1253540251\\n',\n",
       " '33 48 +1 1253540251\\n',\n",
       " '33 49 +1 1253540251\\n',\n",
       " '33 44 +1 1253540251\\n',\n",
       " '33 53 +1 1253540251\\n',\n",
       " '33 54 +1 1253540251\\n',\n",
       " '33 55 +1 1253540251\\n',\n",
       " '33 57 +1 1253540251\\n',\n",
       " '33 59 +1 1253540251\\n',\n",
       " '33 61 +1 1253540251\\n',\n",
       " '33 37 +1 1253540251\\n',\n",
       " '33 64 +1 1253540251\\n',\n",
       " '33 39 -1 1253540361\\n',\n",
       " '33 62 -1 1253540361\\n',\n",
       " '33 65 -1 1253540361\\n',\n",
       " '33 50 -1 1253540361\\n',\n",
       " '33 40 -1 1253540361\\n',\n",
       " '33 41 -1 1253540361\\n',\n",
       " '33 51 -1 1253540361\\n',\n",
       " '33 52 -1 1253540361\\n',\n",
       " '33 43 -1 1253540361\\n',\n",
       " '33 56 -1 1253540361\\n',\n",
       " '33 58 -1 1253540361\\n',\n",
       " '33 42 -1 1253540361\\n',\n",
       " '33 60 -1 1253540361\\n',\n",
       " '33 46 -1 1253540361\\n',\n",
       " '33 47 -1 1253540361\\n',\n",
       " '33 48 -1 1253540361\\n',\n",
       " '33 49 -1 1253540361\\n',\n",
       " '33 44 -1 1253540361\\n',\n",
       " '33 53 -1 1253540361\\n',\n",
       " '33 54 -1 1253540361\\n',\n",
       " '33 55 -1 1253540361\\n',\n",
       " '33 57 -1 1253540361\\n',\n",
       " '33 59 -1 1253540361\\n',\n",
       " '33 61 -1 1253540361\\n',\n",
       " '33 37 -1 1253540361\\n',\n",
       " '33 64 -1 1253540361\\n',\n",
       " '33 39 +1 1253540365\\n',\n",
       " '33 62 +1 1253540365\\n',\n",
       " '33 65 +1 1253540365\\n',\n",
       " '33 50 +1 1253540365\\n',\n",
       " '33 40 +1 1253540365\\n',\n",
       " '33 41 +1 1253540365\\n',\n",
       " '33 51 +1 1253540365\\n',\n",
       " '33 52 +1 1253540365\\n',\n",
       " '33 43 +1 1253540365\\n',\n",
       " '33 56 +1 1253540365\\n',\n",
       " '33 58 +1 1253540365\\n',\n",
       " '33 42 +1 1253540365\\n',\n",
       " '33 60 +1 1253540365\\n',\n",
       " '33 46 +1 1253540365\\n',\n",
       " '33 47 +1 1253540365\\n',\n",
       " '33 48 +1 1253540365\\n',\n",
       " '33 49 +1 1253540365\\n',\n",
       " '33 44 +1 1253540365\\n',\n",
       " '33 53 +1 1253540365\\n',\n",
       " '33 54 +1 1253540365\\n',\n",
       " '33 55 +1 1253540365\\n',\n",
       " '33 57 +1 1253540365\\n',\n",
       " '33 59 +1 1253540365\\n',\n",
       " '33 61 +1 1253540365\\n',\n",
       " '33 37 +1 1253540365\\n',\n",
       " '33 64 +1 1253540365\\n',\n",
       " '33 66 +1 1282944485\\n',\n",
       " '33 67 +1 1285740185\\n',\n",
       " '33 68 +1 1294261590\\n',\n",
       " '33 69 +1 1294328553\\n',\n",
       " '33 70 +1 1294491372\\n',\n",
       " '33 65 -1 1303790032\\n',\n",
       " '33 64 -1 1303790054\\n',\n",
       " '33 65 +1 1303791377\\n',\n",
       " '33 64 +1 1303791377\\n',\n",
       " '71 72 +1 1076187841\\n',\n",
       " '71 73 +1 1076187841\\n',\n",
       " '71 74 +1 1095352419\\n',\n",
       " '71 75 +1 1101162223\\n',\n",
       " '71 75 -1 1101177157\\n',\n",
       " '71 76 +1 1161150232\\n',\n",
       " '71 74 -1 1167247843\\n',\n",
       " '71 76 -1 1167247843\\n',\n",
       " '71 72 -1 1167247843\\n',\n",
       " '71 73 -1 1167247843\\n',\n",
       " '71 77 +1 1167247843\\n',\n",
       " '71 77 -1 1167247890\\n',\n",
       " '71 74 +1 1167247890\\n',\n",
       " '71 76 +1 1167247890\\n',\n",
       " '71 72 +1 1167247890\\n',\n",
       " '71 73 +1 1167247890\\n',\n",
       " '71 78 +1 1174587425\\n',\n",
       " '71 74 -1 1178545809\\n',\n",
       " '71 76 -1 1178545809\\n',\n",
       " '71 72 -1 1178545809\\n',\n",
       " '71 73 -1 1178545809\\n',\n",
       " '71 78 -1 1178545809\\n',\n",
       " '71 74 +1 1178545824\\n',\n",
       " '71 76 +1 1178545824\\n',\n",
       " '71 72 +1 1178545824\\n',\n",
       " '71 73 +1 1178545824\\n',\n",
       " '71 78 +1 1178545824\\n',\n",
       " '71 72 -1 1202764801\\n',\n",
       " '71 74 -1 1202764825\\n',\n",
       " '71 73 -1 1202764825\\n',\n",
       " '71 74 +1 1202768224\\n',\n",
       " '71 72 +1 1202768224\\n',\n",
       " '71 73 +1 1202768224\\n',\n",
       " '71 74 -1 1202768292\\n',\n",
       " '71 72 -1 1202768292\\n',\n",
       " '71 73 -1 1202768292\\n',\n",
       " '71 76 -1 1203670101\\n',\n",
       " '71 78 -1 1203670101\\n',\n",
       " '71 76 +1 1203670577\\n',\n",
       " '71 78 +1 1203670577\\n',\n",
       " '71 77 +1 1213057917\\n',\n",
       " '71 79 +1 1213057917\\n',\n",
       " '71 80 +1 1213057917\\n',\n",
       " '71 80 -1 1213058052\\n',\n",
       " '71 81 +1 1213058052\\n',\n",
       " '71 82 +1 1213058052\\n',\n",
       " '71 83 +1 1213058052\\n',\n",
       " '71 77 -1 1213123230\\n',\n",
       " '71 79 -1 1213123230\\n',\n",
       " '71 77 +1 1213123429\\n',\n",
       " '71 79 +1 1213123429\\n',\n",
       " '71 76 -1 1226101238\\n',\n",
       " '71 78 -1 1226101238\\n',\n",
       " '71 84 +1 1226101238\\n',\n",
       " '71 85 +1 1226101679\\n',\n",
       " '71 77 -1 1235013505\\n',\n",
       " '71 81 -1 1235013505\\n',\n",
       " '71 79 -1 1235013505\\n',\n",
       " '71 82 -1 1235013505\\n',\n",
       " '71 84 -1 1235013505\\n',\n",
       " '71 83 -1 1235013505\\n',\n",
       " '71 85 -1 1235013505\\n',\n",
       " '71 77 +1 1235013557\\n',\n",
       " '71 81 +1 1235013557\\n',\n",
       " '71 79 +1 1235013557\\n',\n",
       " '71 82 +1 1235013557\\n',\n",
       " '71 84 +1 1235013557\\n',\n",
       " '71 83 +1 1235013557\\n',\n",
       " '71 85 +1 1235013557\\n',\n",
       " '71 81 -1 1238791639\\n',\n",
       " '71 83 -1 1238791639\\n',\n",
       " '71 77 -1 1239759481\\n',\n",
       " '71 79 -1 1239759481\\n',\n",
       " '71 82 -1 1239759481\\n',\n",
       " '71 84 -1 1239759481\\n',\n",
       " '71 85 -1 1239759481\\n',\n",
       " '71 77 +1 1239759556\\n',\n",
       " '71 79 +1 1239759556\\n',\n",
       " '71 82 +1 1239759556\\n',\n",
       " '71 84 +1 1239759556\\n',\n",
       " '71 85 +1 1239759556\\n',\n",
       " '71 77 -1 1259296687\\n',\n",
       " '71 79 -1 1259296687\\n',\n",
       " '71 82 -1 1259296687\\n',\n",
       " '71 84 -1 1259296687\\n',\n",
       " '71 85 -1 1259296687\\n',\n",
       " '71 77 +1 1259296691\\n',\n",
       " '71 79 +1 1259296691\\n',\n",
       " '71 82 +1 1259296691\\n',\n",
       " '71 84 +1 1259296691\\n',\n",
       " '71 85 +1 1259296691\\n',\n",
       " '71 77 -1 1264229530\\n',\n",
       " '71 79 -1 1264229530\\n',\n",
       " '71 82 -1 1264229530\\n',\n",
       " '71 84 -1 1264229530\\n',\n",
       " '71 85 -1 1264229530\\n',\n",
       " '71 77 +1 1264229537\\n',\n",
       " '71 79 +1 1264229537\\n',\n",
       " '71 82 +1 1264229537\\n',\n",
       " '71 84 +1 1264229537\\n',\n",
       " '71 85 +1 1264229537\\n',\n",
       " '71 71 +1 1269361724\\n',\n",
       " '71 86 +1 1269361724\\n',\n",
       " '71 73 +1 1300574509\\n',\n",
       " '71 77 -1 1312958150\\n',\n",
       " '71 71 -1 1312958150\\n',\n",
       " '71 79 -1 1312958150\\n',\n",
       " '71 86 -1 1312958150\\n',\n",
       " '71 82 -1 1312958150\\n',\n",
       " '71 73 -1 1312958150\\n',\n",
       " '71 84 -1 1312958150\\n',\n",
       " '71 85 -1 1312958150\\n',\n",
       " '71 77 +1 1312958154\\n',\n",
       " '71 71 +1 1312958154\\n',\n",
       " '71 79 +1 1312958154\\n',\n",
       " '71 86 +1 1312958154\\n',\n",
       " '71 82 +1 1312958154\\n',\n",
       " '71 73 +1 1312958154\\n',\n",
       " '71 84 +1 1312958154\\n',\n",
       " '71 85 +1 1312958154\\n',\n",
       " '87 88 +1 1061158270\\n',\n",
       " '87 89 +1 1061158270\\n',\n",
       " '87 88 -1 1084951939\\n',\n",
       " '87 88 +1 1084958432\\n',\n",
       " '87 88 -1 1089311599\\n',\n",
       " '87 90 +1 1089311599\\n',\n",
       " '87 75 +1 1101162418\\n',\n",
       " '87 75 -1 1101177120\\n',\n",
       " '87 87 +1 1107742985\\n',\n",
       " '87 87 -1 1107746351\\n',\n",
       " '87 90 -1 1130880263\\n',\n",
       " '87 90 +1 1130891332\\n',\n",
       " '87 90 -1 1134471580\\n',\n",
       " '87 89 -1 1134471580\\n',\n",
       " '87 90 +1 1134489782\\n',\n",
       " '87 89 +1 1134489782\\n',\n",
       " '87 90 -1 1139823670\\n',\n",
       " '87 91 +1 1139823670\\n',\n",
       " '87 92 +1 1139823670\\n',\n",
       " '87 93 +1 1139823670\\n',\n",
       " '87 94 +1 1139823670\\n',\n",
       " '87 91 -1 1143552179\\n',\n",
       " '87 93 -1 1143552179\\n',\n",
       " '87 94 -1 1143552179\\n',\n",
       " '87 89 -1 1143552179\\n',\n",
       " '87 91 +1 1143553060\\n',\n",
       " '87 93 +1 1143553060\\n',\n",
       " '87 94 +1 1143553060\\n',\n",
       " '87 89 +1 1143553060\\n',\n",
       " '87 95 +1 1157351304\\n',\n",
       " '87 96 +1 1157351304\\n',\n",
       " '87 97 +1 1157351304\\n',\n",
       " '87 98 +1 1157351304\\n',\n",
       " '87 99 +1 1157351304\\n',\n",
       " '87 100 +1 1157351304\\n',\n",
       " '87 101 +1 1157351304\\n',\n",
       " '87 102 +1 1157351304\\n',\n",
       " '87 92 -1 1160024620\\n',\n",
       " '87 95 -1 1160024620\\n',\n",
       " '87 96 -1 1160024620\\n',\n",
       " '87 97 -1 1160024620\\n',\n",
       " '87 98 -1 1160024620\\n',\n",
       " '87 99 -1 1160024620\\n',\n",
       " '87 100 -1 1160024620\\n',\n",
       " '87 101 -1 1160024620\\n',\n",
       " '87 102 -1 1160024620\\n',\n",
       " '87 92 +1 1160025929\\n',\n",
       " '87 95 +1 1160025929\\n',\n",
       " '87 96 +1 1160025929\\n',\n",
       " '87 97 +1 1160025929\\n',\n",
       " '87 98 +1 1160025929\\n',\n",
       " '87 99 +1 1160025929\\n',\n",
       " '87 100 +1 1160025929\\n',\n",
       " '87 101 +1 1160025929\\n',\n",
       " '87 102 +1 1160025929\\n',\n",
       " '87 103 +1 1160691345\\n',\n",
       " '87 104 +1 1178505972\\n',\n",
       " '87 92 -1 1181267127\\n',\n",
       " '87 92 +1 1181271287\\n',\n",
       " '87 105 +1 1190931666\\n',\n",
       " '87 105 -1 1193603601\\n',\n",
       " '87 91 -1 1204402758\\n',\n",
       " '87 94 -1 1204402758\\n',\n",
       " '87 93 -1 1204402758\\n',\n",
       " '87 89 -1 1204402758\\n',\n",
       " '87 91 +1 1204402815\\n',\n",
       " '87 94 +1 1204402815\\n',\n",
       " '87 93 +1 1204402815\\n',\n",
       " '87 89 +1 1204402815\\n',\n",
       " '87 91 -1 1209513099\\n',\n",
       " '87 94 -1 1209513099\\n',\n",
       " '87 93 -1 1209513099\\n',\n",
       " '87 89 -1 1209513099\\n',\n",
       " '87 91 +1 1209513143\\n',\n",
       " '87 94 +1 1209513143\\n',\n",
       " '87 93 +1 1209513143\\n',\n",
       " '87 89 +1 1209513143\\n',\n",
       " '87 91 -1 1209513224\\n',\n",
       " '87 94 -1 1209513224\\n',\n",
       " '87 93 -1 1209513224\\n',\n",
       " '87 89 -1 1209513224\\n',\n",
       " '87 91 +1 1209513242\\n',\n",
       " '87 94 +1 1209513242\\n',\n",
       " '87 93 +1 1209513242\\n',\n",
       " '87 89 +1 1209513242\\n',\n",
       " '87 91 -1 1213092067\\n',\n",
       " '87 94 -1 1213092067\\n',\n",
       " '87 93 -1 1213092067\\n',\n",
       " '87 89 -1 1213092067\\n',\n",
       " '87 91 +1 1213099496\\n',\n",
       " '87 94 +1 1213099496\\n',\n",
       " '87 93 +1 1213099496\\n',\n",
       " '87 89 +1 1213099496\\n',\n",
       " '87 91 -1 1218970784\\n',\n",
       " '87 94 -1 1218970784\\n',\n",
       " '87 93 -1 1218970784\\n',\n",
       " '87 89 -1 1218970784\\n',\n",
       " '87 91 +1 1218970864\\n',\n",
       " '87 94 +1 1218970864\\n',\n",
       " '87 93 +1 1218970864\\n',\n",
       " '87 89 +1 1218970864\\n',\n",
       " '87 91 -1 1222698007\\n',\n",
       " '87 94 -1 1222698007\\n',\n",
       " '87 93 -1 1222698007\\n',\n",
       " '87 89 -1 1222698007\\n',\n",
       " '87 91 +1 1222698023\\n',\n",
       " '87 94 +1 1222698023\\n',\n",
       " '87 93 +1 1222698023\\n',\n",
       " '87 89 +1 1222698023\\n',\n",
       " '87 94 -1 1227780739\\n',\n",
       " '87 89 -1 1227780739\\n',\n",
       " '87 94 +1 1227780823\\n',\n",
       " '87 89 +1 1227780823\\n',\n",
       " '87 104 -1 1231863516\\n',\n",
       " '87 92 -1 1231863516\\n',\n",
       " '87 103 -1 1231863516\\n',\n",
       " '87 95 -1 1231863516\\n',\n",
       " '87 91 -1 1231863516\\n',\n",
       " '87 96 -1 1231863516\\n',\n",
       " '87 97 -1 1231863516\\n',\n",
       " '87 98 -1 1231863516\\n',\n",
       " '87 99 -1 1231863516\\n',\n",
       " '87 100 -1 1231863516\\n',\n",
       " '87 101 -1 1231863516\\n',\n",
       " '87 102 -1 1231863516\\n',\n",
       " '87 94 -1 1231863516\\n',\n",
       " '87 93 -1 1231863516\\n',\n",
       " '87 89 -1 1231863516\\n',\n",
       " '87 104 +1 1231863545\\n',\n",
       " '87 92 +1 1231863545\\n',\n",
       " '87 103 +1 1231863545\\n',\n",
       " '87 95 +1 1231863545\\n',\n",
       " '87 91 +1 1231863545\\n',\n",
       " '87 96 +1 1231863545\\n',\n",
       " '87 97 +1 1231863545\\n',\n",
       " '87 98 +1 1231863545\\n',\n",
       " '87 99 +1 1231863545\\n',\n",
       " '87 100 +1 1231863545\\n',\n",
       " '87 101 +1 1231863545\\n',\n",
       " '87 102 +1 1231863545\\n',\n",
       " '87 94 +1 1231863545\\n',\n",
       " '87 93 +1 1231863545\\n',\n",
       " '87 89 +1 1231863545\\n',\n",
       " '87 103 -1 1235134823\\n',\n",
       " '87 103 +1 1235134889\\n',\n",
       " '87 104 -1 1235480108\\n',\n",
       " '87 95 -1 1235480108\\n',\n",
       " '87 96 -1 1235480108\\n',\n",
       " '87 98 -1 1235480108\\n',\n",
       " '87 99 -1 1235480108\\n',\n",
       " '87 100 -1 1235480108\\n',\n",
       " '87 101 -1 1235480108\\n',\n",
       " '87 102 -1 1235480108\\n',\n",
       " '106 107 +1 1061442895\\n',\n",
       " '106 108 +1 1061442895\\n',\n",
       " '106 109 +1 1061442895\\n',\n",
       " '106 110 +1 1061442895\\n',\n",
       " '106 111 +1 1061442895\\n',\n",
       " '106 112 +1 1061442895\\n',\n",
       " '106 113 +1 1061442895\\n',\n",
       " '106 114 +1 1061442895\\n',\n",
       " '106 115 +1 1061442895\\n',\n",
       " '106 116 +1 1061442895\\n',\n",
       " '106 117 +1 1061442895\\n',\n",
       " '106 118 +1 1061442895\\n',\n",
       " '106 119 +1 1061442895\\n',\n",
       " '106 120 +1 1061442895\\n',\n",
       " '106 121 +1 1061442895\\n',\n",
       " '106 122 +1 1061442895\\n',\n",
       " '106 123 +1 1061442895\\n',\n",
       " '106 124 +1 1061442895\\n',\n",
       " '106 125 +1 1061442895\\n',\n",
       " '106 126 +1 1061442895\\n',\n",
       " '106 127 +1 1061442895\\n',\n",
       " '106 128 +1 1061442895\\n',\n",
       " '106 129 +1 1061442895\\n',\n",
       " '106 130 +1 1061442895\\n',\n",
       " '106 131 +1 1061442895\\n',\n",
       " '106 132 +1 1061442895\\n',\n",
       " '106 133 +1 1061442895\\n',\n",
       " '106 134 +1 1061442895\\n',\n",
       " '106 135 +1 1061442895\\n',\n",
       " '106 136 +1 1061442895\\n',\n",
       " '106 137 +1 1061442895\\n',\n",
       " '106 138 +1 1061442895\\n',\n",
       " '106 139 +1 1061442895\\n',\n",
       " '106 140 +1 1061442895\\n',\n",
       " '106 141 +1 1099779855\\n',\n",
       " '106 142 +1 1099779855\\n',\n",
       " '106 143 +1 1133332361\\n',\n",
       " '106 127 -1 1138245219\\n',\n",
       " '106 144 +1 1138245219\\n',\n",
       " '106 145 +1 1138245254\\n',\n",
       " '106 107 -1 1138249337\\n',\n",
       " '106 146 +1 1138249337\\n',\n",
       " '106 111 -1 1138253350\\n',\n",
       " '106 147 +1 1138253350\\n',\n",
       " '106 148 +1 1138295911\\n',\n",
       " '106 148 -1 1145752606\\n',\n",
       " '106 147 -1 1202773990\\n',\n",
       " '106 117 -1 1202773990\\n',\n",
       " '106 141 -1 1202773990\\n',\n",
       " '106 143 -1 1202773990\\n',\n",
       " '106 128 -1 1202773990\\n',\n",
       " '106 133 -1 1202773990\\n',\n",
       " '106 134 -1 1202773990\\n',\n",
       " '106 139 -1 1202773990\\n',\n",
       " '106 108 -1 1202774620\\n',\n",
       " '106 113 -1 1202774620\\n',\n",
       " '106 114 -1 1202774620\\n',\n",
       " '106 121 -1 1202774620\\n',\n",
       " '106 124 -1 1202774620\\n',\n",
       " '106 144 -1 1202774620\\n',\n",
       " '106 125 -1 1202774620\\n',\n",
       " '106 126 -1 1202774620\\n',\n",
       " '106 132 -1 1202774620\\n',\n",
       " '106 135 -1 1202774620\\n',\n",
       " '106 137 -1 1202774620\\n',\n",
       " '106 138 -1 1202774620\\n',\n",
       " '106 140 -1 1202774620\\n',\n",
       " '106 149 +1 1202774620\\n',\n",
       " '106 150 +1 1202774620\\n',\n",
       " '106 151 +1 1202774620\\n',\n",
       " '106 152 +1 1202774620\\n',\n",
       " '106 153 +1 1202774620\\n',\n",
       " '106 154 +1 1202774620\\n',\n",
       " '106 145 -1 1202774752\\n',\n",
       " '106 133 +1 1215080713\\n',\n",
       " '106 134 +1 1215080713\\n',\n",
       " '106 149 -1 1261015942\\n',\n",
       " '106 152 -1 1261015942\\n',\n",
       " '106 154 -1 1261015942\\n',\n",
       " '106 108 +1 1261015942\\n',\n",
       " '106 113 +1 1261015942\\n',\n",
       " '106 125 +1 1261015942\\n',\n",
       " '106 126 +1 1261015942\\n',\n",
       " '106 135 +1 1261015942\\n',\n",
       " '106 140 +1 1261015942\\n',\n",
       " '106 155 +1 1276963566\\n',\n",
       " '106 156 +1 1276963566\\n',\n",
       " '106 157 +1 1276963566\\n',\n",
       " '106 158 +1 1276963566\\n',\n",
       " '106 159 +1 1276963566\\n',\n",
       " '106 128 +1 1276964785\\n',\n",
       " '106 108 -1 1298028699\\n',\n",
       " '106 109 -1 1298028699\\n',\n",
       " '106 110 -1 1298028699\\n',\n",
       " '106 112 -1 1298028699\\n',\n",
       " '106 113 -1 1298028699\\n',\n",
       " '106 155 -1 1298028699\\n',\n",
       " '106 115 -1 1298028699\\n',\n",
       " '106 116 -1 1298028699\\n',\n",
       " '106 156 -1 1298028699\\n',\n",
       " '106 146 -1 1298028699\\n',\n",
       " '106 118 -1 1298028699\\n',\n",
       " '106 151 -1 1298028699\\n',\n",
       " '106 119 -1 1298028699\\n',\n",
       " '106 120 -1 1298028699\\n',\n",
       " '106 122 -1 1298028699\\n',\n",
       " '106 123 -1 1298028699\\n',\n",
       " '106 125 -1 1298028699\\n',\n",
       " '106 126 -1 1298028699\\n',\n",
       " '106 128 -1 1298028699\\n',\n",
       " '106 129 -1 1298028699\\n',\n",
       " '106 157 -1 1298028699\\n',\n",
       " '106 158 -1 1298028699\\n',\n",
       " '106 130 -1 1298028699\\n',\n",
       " '106 142 -1 1298028699\\n',\n",
       " '106 131 -1 1298028699\\n',\n",
       " '106 159 -1 1298028699\\n',\n",
       " '106 133 -1 1298028699\\n',\n",
       " '106 135 -1 1298028699\\n',\n",
       " '106 134 -1 1298028699\\n',\n",
       " '106 150 -1 1298028699\\n',\n",
       " '106 136 -1 1298028699\\n',\n",
       " '106 153 -1 1298028699\\n',\n",
       " '106 140 -1 1298028699\\n',\n",
       " '106 108 +1 1298028729\\n',\n",
       " '106 109 +1 1298028729\\n',\n",
       " '106 110 +1 1298028729\\n',\n",
       " '106 112 +1 1298028729\\n',\n",
       " '106 113 +1 1298028729\\n',\n",
       " '106 155 +1 1298028729\\n',\n",
       " '106 115 +1 1298028729\\n',\n",
       " '106 116 +1 1298028729\\n',\n",
       " '106 156 +1 1298028729\\n',\n",
       " '106 146 +1 1298028729\\n',\n",
       " '106 118 +1 1298028729\\n',\n",
       " '106 151 +1 1298028729\\n',\n",
       " '106 119 +1 1298028729\\n',\n",
       " '106 120 +1 1298028729\\n',\n",
       " '106 122 +1 1298028729\\n',\n",
       " '106 123 +1 1298028729\\n',\n",
       " '106 125 +1 1298028729\\n',\n",
       " '106 126 +1 1298028729\\n',\n",
       " '106 128 +1 1298028729\\n',\n",
       " '106 129 +1 1298028729\\n',\n",
       " '106 157 +1 1298028729\\n',\n",
       " '106 158 +1 1298028729\\n',\n",
       " '106 130 +1 1298028729\\n',\n",
       " '106 142 +1 1298028729\\n',\n",
       " '106 131 +1 1298028729\\n',\n",
       " '106 159 +1 1298028729\\n',\n",
       " '106 133 +1 1298028729\\n',\n",
       " '106 135 +1 1298028729\\n',\n",
       " '106 134 +1 1298028729\\n',\n",
       " '106 150 +1 1298028729\\n',\n",
       " '106 136 +1 1298028729\\n',\n",
       " '106 153 +1 1298028729\\n',\n",
       " '106 140 +1 1298028729\\n',\n",
       " '160 161 +1 1061630566\\n',\n",
       " '160 162 +1 1061630566\\n',\n",
       " '160 163 +1 1061630566\\n',\n",
       " '160 164 +1 1061630566\\n',\n",
       " '160 165 +1 1061630566\\n',\n",
       " '160 166 +1 1076189067\\n',\n",
       " '160 167 +1 1085455102\\n',\n",
       " '160 168 +1 1123293464\\n',\n",
       " '160 169 +1 1123293464\\n',\n",
       " '160 166 -1 1157208347\\n',\n",
       " '160 170 +1 1174587578\\n',\n",
       " '160 171 +1 1209240725\\n',\n",
       " '160 172 +1 1209240725\\n',\n",
       " '160 172 -1 1315526710\\n',\n",
       " '160 173 +1 1315526710\\n',\n",
       " '160 174 +1 1315526710\\n',\n",
       " '175 176 +1 1062477589\\n',\n",
       " '175 177 +1 1062477589\\n',\n",
       " '175 178 +1 1062477589\\n',\n",
       " '175 117 +1 1062477589\\n',\n",
       " '175 179 +1 1062477589\\n',\n",
       " '175 180 +1 1127572708\\n',\n",
       " '175 181 +1 1127572708\\n',\n",
       " '175 182 +1 1127572708\\n',\n",
       " '175 183 +1 1127572708\\n',\n",
       " '175 184 +1 1127572708\\n',\n",
       " '175 185 +1 1127572708\\n',\n",
       " '175 54 +1 1175807287\\n',\n",
       " '175 186 +1 1182086626\\n',\n",
       " '175 187 +1 1182086626\\n',\n",
       " '175 188 +1 1182086626\\n',\n",
       " '175 189 +1 1182086626\\n',\n",
       " '175 190 +1 1182086626\\n',\n",
       " '175 147 +1 1182086626\\n',\n",
       " '175 191 +1 1182086626\\n',\n",
       " '175 192 +1 1182086626\\n',\n",
       " '175 193 +1 1182086626\\n',\n",
       " '175 194 +1 1182086626\\n',\n",
       " '175 195 +1 1182086626\\n',\n",
       " '175 196 +1 1182086626\\n',\n",
       " '175 197 +1 1182086626\\n',\n",
       " '175 198 +1 1182086626\\n',\n",
       " '175 199 +1 1182086626\\n',\n",
       " '175 200 +1 1182086626\\n',\n",
       " '175 171 +1 1182117124\\n',\n",
       " '175 201 +1 1182117124\\n',\n",
       " '175 180 -1 1182249680\\n',\n",
       " '175 188 -1 1205999695\\n',\n",
       " '175 202 +1 1205999695\\n',\n",
       " '175 203 +1 1216158726\\n',\n",
       " '175 204 +1 1220486534\\n',\n",
       " '175 205 +1 1281130388\\n',\n",
       " '175 206 +1 1298156331\\n',\n",
       " '175 197 -1 1307971376\\n',\n",
       " '175 200 -1 1307971376\\n',\n",
       " '175 207 +1 1314549307\\n',\n",
       " '208 209 +1 1168170153\\n',\n",
       " '208 210 +1 1168170153\\n',\n",
       " '208 211 +1 1168170153\\n',\n",
       " '208 212 +1 1213279804\\n',\n",
       " '208 213 +1 1213279804\\n',\n",
       " '208 214 +1 1213279804\\n',\n",
       " '208 215 +1 1213279804\\n',\n",
       " '208 216 +1 1213279804\\n',\n",
       " '208 217 +1 1213279804\\n',\n",
       " '208 218 +1 1213279804\\n',\n",
       " '208 219 +1 1213279893\\n',\n",
       " '208 220 +1 1213279893\\n',\n",
       " '208 221 +1 1213279893\\n',\n",
       " '208 222 +1 1213279893\\n',\n",
       " '208 223 +1 1213279893\\n',\n",
       " '208 224 +1 1213279893\\n',\n",
       " '208 192 +1 1213279893\\n',\n",
       " '208 225 +1 1213279893\\n',\n",
       " '208 226 +1 1213279893\\n',\n",
       " '208 227 +1 1213279893\\n',\n",
       " '208 228 +1 1213279893\\n',\n",
       " '208 229 +1 1213279893\\n',\n",
       " '208 230 +1 1213279893\\n',\n",
       " '208 231 +1 1213279893\\n',\n",
       " '208 232 +1 1213279893\\n',\n",
       " '208 233 +1 1213279893\\n',\n",
       " '208 234 +1 1213279893\\n',\n",
       " '208 235 +1 1213279893\\n',\n",
       " '208 236 +1 1213279893\\n',\n",
       " '208 217 -1 1275143914\\n',\n",
       " '208 214 -1 1275143914\\n',\n",
       " '208 237 +1 1275143914\\n',\n",
       " '208 238 +1 1275143914\\n',\n",
       " '239 171 +1 1098020136\\n',\n",
       " '239 90 +1 1098020136\\n',\n",
       " '239 240 +1 1098020136\\n',\n",
       " '239 240 -1 1148263295\\n',\n",
       " '239 147 +1 1148263295\\n',\n",
       " '241 242 +1 1066504004\\n',\n",
       " '241 243 +1 1066504004\\n',\n",
       " '241 244 +1 1066504004\\n',\n",
       " '241 245 +1 1066504004\\n',\n",
       " '241 246 +1 1066504004\\n',\n",
       " '241 247 +1 1066504004\\n',\n",
       " '241 248 +1 1066504004\\n',\n",
       " '241 249 +1 1066504004\\n',\n",
       " '241 250 +1 1066504004\\n',\n",
       " '241 251 +1 1066504004\\n',\n",
       " '241 252 +1 1066504004\\n',\n",
       " '241 253 +1 1066504004\\n',\n",
       " '241 254 +1 1066504004\\n',\n",
       " '241 255 +1 1066504004\\n',\n",
       " '241 242 -1 1068757969\\n',\n",
       " '241 243 -1 1068757969\\n',\n",
       " '241 244 -1 1068757969\\n',\n",
       " '241 245 -1 1068757969\\n',\n",
       " '241 246 -1 1068757969\\n',\n",
       " '241 247 -1 1068757969\\n',\n",
       " '241 248 -1 1068757969\\n',\n",
       " '241 249 -1 1068757969\\n',\n",
       " '241 250 -1 1068757969\\n',\n",
       " '241 251 -1 1068757969\\n',\n",
       " '241 252 -1 1068757969\\n',\n",
       " '241 253 -1 1068757969\\n',\n",
       " '241 254 -1 1068757969\\n',\n",
       " '241 255 -1 1068757969\\n',\n",
       " '241 242 +1 1068760854\\n',\n",
       " '241 243 +1 1068760854\\n',\n",
       " '241 244 +1 1068760854\\n',\n",
       " '241 245 +1 1068760854\\n',\n",
       " '241 246 +1 1068760854\\n',\n",
       " '241 247 +1 1068760854\\n',\n",
       " '241 248 +1 1068760854\\n',\n",
       " '241 249 +1 1068760854\\n',\n",
       " '241 250 +1 1068760854\\n',\n",
       " '241 251 +1 1068760854\\n',\n",
       " '241 252 +1 1068760854\\n',\n",
       " '241 253 +1 1068760854\\n',\n",
       " '241 254 +1 1068760854\\n',\n",
       " '241 255 +1 1068760854\\n',\n",
       " '241 256 +1 1087040417\\n',\n",
       " '241 242 -1 1117585164\\n',\n",
       " '241 243 -1 1117585164\\n',\n",
       " '241 244 -1 1117585164\\n',\n",
       " '241 245 -1 1117585164\\n',\n",
       " '241 246 -1 1117585164\\n',\n",
       " '241 248 -1 1117585164\\n',\n",
       " '241 247 -1 1117585164\\n',\n",
       " '241 249 -1 1117585164\\n',\n",
       " '241 256 -1 1117585164\\n',\n",
       " '241 250 -1 1117585164\\n',\n",
       " '241 251 -1 1117585164\\n',\n",
       " '241 252 -1 1117585164\\n',\n",
       " '241 253 -1 1117585164\\n',\n",
       " '241 254 -1 1117585164\\n',\n",
       " '241 255 -1 1117585164\\n',\n",
       " '241 242 +1 1117585578\\n',\n",
       " '241 243 +1 1117585578\\n',\n",
       " '241 244 +1 1117585578\\n',\n",
       " '241 245 +1 1117585578\\n',\n",
       " '241 246 +1 1117585578\\n',\n",
       " '241 248 +1 1117585578\\n',\n",
       " '241 247 +1 1117585578\\n',\n",
       " '241 249 +1 1117585578\\n',\n",
       " '241 256 +1 1117585578\\n',\n",
       " '241 250 +1 1117585578\\n',\n",
       " '241 251 +1 1117585578\\n',\n",
       " '241 252 +1 1117585578\\n',\n",
       " '241 253 +1 1117585578\\n',\n",
       " '241 254 +1 1117585578\\n',\n",
       " '241 255 +1 1117585578\\n',\n",
       " '241 242 -1 1117594521\\n',\n",
       " '241 243 -1 1117594521\\n',\n",
       " '241 244 -1 1117594521\\n',\n",
       " ...]"
      ]
     },
     "execution_count": 2,
     "metadata": {},
     "output_type": "execute_result"
    }
   ],
   "source": [
    "data"
   ]
  },
  {
   "cell_type": "code",
   "execution_count": 19,
   "metadata": {
    "collapsed": true
   },
   "outputs": [],
   "source": [
    "# data_tt ={}\n",
    "# for lin in data[2:]:\n",
    "#     temp_l=lin.split()\n",
    "#     data_tt[int(temp_l[0])]=int(temp_l[3])\n",
    "\n",
    "data_tt = defaultdict(list)\n",
    "for lin in data[2:]:\n",
    "    temp_l=lin.split()\n",
    "    data_tt[int(temp_l[0])].append(int(temp_l[3]))"
   ]
  },
  {
   "cell_type": "code",
   "execution_count": 20,
   "metadata": {
    "collapsed": true
   },
   "outputs": [],
   "source": [
    "# temp_tt = {}\n",
    "# for lin in data[2:]:\n",
    "#     temp_l=lin.split()\n",
    "#     temp_tt[int(temp_l[0])]= (int(temp_l[1]))\n",
    "    \n",
    "new_graph_file = '../data/dynamic-simplewiki/dynamic-simplewiki_cleaned.txt'\n",
    "with open(new_graph_file, 'w') as f:\n",
    "    for lin in data[2:]:\n",
    "        temp_l=lin.split()\n",
    "        s = int(temp_l[0])\n",
    "        d = int(temp_l[1])\n",
    "        f.write('%d %d\\n' % (s, d))"
   ]
  },
  {
   "cell_type": "code",
   "execution_count": 21,
   "metadata": {
    "collapsed": true
   },
   "outputs": [],
   "source": [
    "# Remove duplicate lines from the file\n",
    "\n",
    "lines = open(new_graph_file, 'r').readlines()\n",
    "lines_set = set(lines)\n",
    "with open(new_graph_file,'w') as f:\n",
    "    for line in lines_set:\n",
    "        f.write(line)"
   ]
  },
  {
   "cell_type": "code",
   "execution_count": 22,
   "metadata": {
    "collapsed": true
   },
   "outputs": [],
   "source": [
    "time_n = {k: min(v) for k,v in data_tt.items()}"
   ]
  },
  {
   "cell_type": "code",
   "execution_count": 23,
   "metadata": {
    "collapsed": true
   },
   "outputs": [],
   "source": [
    "temp = time_n.values()\n",
    "temp_s = sorted(set(temp))\n",
    "r = {key:rank for rank, key in enumerate(temp_s)}\n",
    "data_cld = {k: r[v] for k,v in time_n.items()}"
   ]
  },
  {
   "cell_type": "code",
   "execution_count": 24,
   "metadata": {},
   "outputs": [
    {
     "data": {
      "text/plain": [
       "{1: 19,\n",
       " 2: 18,\n",
       " 3: 23,\n",
       " 4: 20,\n",
       " 5: 17,\n",
       " 6: 25,\n",
       " 7: 24,\n",
       " 8: 26,\n",
       " 9: 16,\n",
       " 10: 4842,\n",
       " 11: 29,\n",
       " 12: 21,\n",
       " 13: 22,\n",
       " 14: 61107,\n",
       " 15: 4045,\n",
       " 16: 2231,\n",
       " 17: 2337,\n",
       " 18: 3300,\n",
       " 19: 2324,\n",
       " 20: 9531,\n",
       " 21: 1379,\n",
       " 22: 3438,\n",
       " 23: 63,\n",
       " 24: 168,\n",
       " 25: 5032,\n",
       " 26: 1698,\n",
       " 27: 31,\n",
       " 28: 9994,\n",
       " 29: 22151,\n",
       " 30: 76508,\n",
       " 31: 4812,\n",
       " 32: 46905,\n",
       " 33: 48,\n",
       " 34: 352,\n",
       " 35: 920,\n",
       " 36: 1239,\n",
       " 37: 23003,\n",
       " 38: 65040,\n",
       " 39: 85615,\n",
       " 40: 24775,\n",
       " 41: 85729,\n",
       " 42: 31247,\n",
       " 43: 22792,\n",
       " 44: 27301,\n",
       " 45: 3971,\n",
       " 46: 64357,\n",
       " 47: 1194,\n",
       " 48: 1195,\n",
       " 49: 528,\n",
       " 50: 32,\n",
       " 51: 218,\n",
       " 52: 9729,\n",
       " 53: 12115,\n",
       " 54: 349,\n",
       " 55: 9471,\n",
       " 56: 25040,\n",
       " 57: 493,\n",
       " 58: 10208,\n",
       " 59: 1962,\n",
       " 60: 348,\n",
       " 61: 24647,\n",
       " 62: 8616,\n",
       " 63: 790,\n",
       " 64: 4257,\n",
       " 65: 2967,\n",
       " 66: 82144,\n",
       " 67: 83273,\n",
       " 68: 85653,\n",
       " 69: 3700,\n",
       " 70: 88211,\n",
       " 71: 518,\n",
       " 72: 47596,\n",
       " 73: 521,\n",
       " 74: 9174,\n",
       " 76: 342,\n",
       " 77: 1629,\n",
       " 78: 7949,\n",
       " 79: 1634,\n",
       " 80: 13511,\n",
       " 81: 3694,\n",
       " 82: 5780,\n",
       " 83: 3440,\n",
       " 84: 47510,\n",
       " 85: 10965,\n",
       " 86: 1727,\n",
       " 87: 64,\n",
       " 88: 969,\n",
       " 89: 1221,\n",
       " 90: 346,\n",
       " 92: 55,\n",
       " 93: 39290,\n",
       " 94: 26661,\n",
       " 95: 1026,\n",
       " 96: 1003,\n",
       " 97: 7362,\n",
       " 98: 704,\n",
       " 99: 370,\n",
       " 100: 18222,\n",
       " 101: 374,\n",
       " 102: 13824,\n",
       " 103: 7659,\n",
       " 104: 7361,\n",
       " 105: 3875,\n",
       " 106: 74,\n",
       " 107: 6778,\n",
       " 108: 1137,\n",
       " 109: 1471,\n",
       " 110: 12071,\n",
       " 111: 5478,\n",
       " 112: 77212,\n",
       " 113: 8624,\n",
       " 114: 25420,\n",
       " 115: 48139,\n",
       " 116: 6956,\n",
       " 117: 136,\n",
       " 118: 6742,\n",
       " 119: 6744,\n",
       " 120: 6745,\n",
       " 121: 6797,\n",
       " 122: 6747,\n",
       " 123: 6748,\n",
       " 124: 6800,\n",
       " 125: 2171,\n",
       " 126: 6802,\n",
       " 127: 6753,\n",
       " 128: 73,\n",
       " 129: 20801,\n",
       " 130: 75,\n",
       " 131: 1491,\n",
       " 132: 6534,\n",
       " 133: 6256,\n",
       " 134: 6258,\n",
       " 135: 91399,\n",
       " 136: 12440,\n",
       " 137: 87,\n",
       " 138: 41896,\n",
       " 139: 1899,\n",
       " 140: 6772,\n",
       " 141: 435,\n",
       " 142: 595,\n",
       " 143: 441,\n",
       " 144: 6750,\n",
       " 145: 88262,\n",
       " 146: 3845,\n",
       " 147: 186,\n",
       " 148: 8706,\n",
       " 149: 72802,\n",
       " 150: 23698,\n",
       " 151: 6743,\n",
       " 152: 47284,\n",
       " 153: 41895,\n",
       " 154: 20103,\n",
       " 155: 4435,\n",
       " 156: 473,\n",
       " 157: 26612,\n",
       " 158: 6371,\n",
       " 159: 11516,\n",
       " 160: 89,\n",
       " 161: 3528,\n",
       " 162: 3429,\n",
       " 163: 3088,\n",
       " 164: 9684,\n",
       " 165: 2365,\n",
       " 166: 368,\n",
       " 167: 1002,\n",
       " 168: 2018,\n",
       " 169: 619,\n",
       " 170: 1671,\n",
       " 171: 478,\n",
       " 172: 3831,\n",
       " 173: 138,\n",
       " 174: 10785,\n",
       " 175: 97,\n",
       " 176: 1362,\n",
       " 177: 12652,\n",
       " 178: 577,\n",
       " 179: 1982,\n",
       " 180: 18042,\n",
       " 181: 2734,\n",
       " 182: 18502,\n",
       " 183: 20444,\n",
       " 184: 934,\n",
       " 185: 196,\n",
       " 186: 4260,\n",
       " 187: 3313,\n",
       " 188: 15784,\n",
       " 189: 2191,\n",
       " 190: 6089,\n",
       " 191: 1359,\n",
       " 192: 939,\n",
       " 193: 940,\n",
       " 194: 674,\n",
       " 195: 30742,\n",
       " 196: 68876,\n",
       " 197: 6566,\n",
       " 198: 13175,\n",
       " 199: 2556,\n",
       " 200: 344,\n",
       " 201: 774,\n",
       " 202: 17468,\n",
       " 203: 15303,\n",
       " 204: 47026,\n",
       " 205: 82682,\n",
       " 206: 96593,\n",
       " 207: 72343,\n",
       " 208: 15810,\n",
       " 209: 3281,\n",
       " 210: 31588,\n",
       " 211: 377,\n",
       " 212: 2221,\n",
       " 213: 40802,\n",
       " 214: 943,\n",
       " 215: 163,\n",
       " 216: 2063,\n",
       " 217: 3428,\n",
       " 218: 44642,\n",
       " 219: 22405,\n",
       " 220: 423,\n",
       " 221: 391,\n",
       " 222: 77897,\n",
       " 223: 26333,\n",
       " 224: 89523,\n",
       " 225: 60042,\n",
       " 226: 2493,\n",
       " 227: 5249,\n",
       " 228: 5508,\n",
       " 229: 16438,\n",
       " 230: 3954,\n",
       " 231: 2746,\n",
       " 232: 9479,\n",
       " 233: 4337,\n",
       " 234: 2802,\n",
       " 235: 6475,\n",
       " 236: 10641,\n",
       " 237: 4699,\n",
       " 238: 4670,\n",
       " 239: 1724,\n",
       " 240: 203,\n",
       " 241: 177,\n",
       " 242: 84127,\n",
       " 243: 1046,\n",
       " 245: 9878,\n",
       " 246: 1784,\n",
       " 247: 61997,\n",
       " 248: 806,\n",
       " 250: 28488,\n",
       " 251: 18025,\n",
       " 252: 16934,\n",
       " 253: 13349,\n",
       " 255: 16501,\n",
       " 256: 10966,\n",
       " 257: 12400,\n",
       " 258: 79620,\n",
       " 259: 6888,\n",
       " 260: 88212,\n",
       " 261: 1776,\n",
       " 262: 1310,\n",
       " 263: 4756,\n",
       " 264: 27655,\n",
       " 265: 3019,\n",
       " 266: 1311,\n",
       " 267: 531,\n",
       " 268: 5778,\n",
       " 270: 34332,\n",
       " 271: 42516,\n",
       " 272: 1040,\n",
       " 273: 6506,\n",
       " 274: 161,\n",
       " 275: 170,\n",
       " 276: 16155,\n",
       " 277: 17915,\n",
       " 279: 12809,\n",
       " 281: 18271,\n",
       " 282: 8109,\n",
       " 283: 606,\n",
       " 284: 1877,\n",
       " 285: 75728,\n",
       " 286: 42717,\n",
       " 287: 31413,\n",
       " 289: 24736,\n",
       " 290: 9089,\n",
       " 291: 8870,\n",
       " 292: 12183,\n",
       " 293: 17755,\n",
       " 294: 9173,\n",
       " 295: 17132,\n",
       " 296: 167,\n",
       " 297: 30114,\n",
       " 298: 166,\n",
       " 299: 476,\n",
       " 300: 6437,\n",
       " 301: 10926,\n",
       " 302: 445,\n",
       " 303: 1135,\n",
       " 304: 448,\n",
       " 305: 5012,\n",
       " 306: 17341,\n",
       " 307: 1243,\n",
       " 308: 184,\n",
       " 309: 1245,\n",
       " 310: 1246,\n",
       " 311: 1001,\n",
       " 312: 966,\n",
       " 313: 1924,\n",
       " 314: 22458,\n",
       " 315: 470,\n",
       " 316: 31166,\n",
       " 317: 75110,\n",
       " 318: 13168,\n",
       " 319: 1121,\n",
       " 320: 93192,\n",
       " 321: 44643,\n",
       " 322: 14500,\n",
       " 323: 3701,\n",
       " 324: 5120,\n",
       " 325: 2288,\n",
       " 326: 7485,\n",
       " 327: 9253,\n",
       " 328: 509,\n",
       " 329: 6854,\n",
       " 330: 14556,\n",
       " 331: 1612,\n",
       " 332: 13235,\n",
       " 333: 10927,\n",
       " 334: 13384,\n",
       " 335: 82934,\n",
       " 336: 9927,\n",
       " 337: 19296,\n",
       " 338: 19297,\n",
       " 339: 19195,\n",
       " 340: 2433,\n",
       " 341: 188,\n",
       " 342: 2285,\n",
       " 343: 81513,\n",
       " 344: 83,\n",
       " 345: 1892,\n",
       " 346: 329,\n",
       " 347: 1244,\n",
       " 348: 3446,\n",
       " 349: 84404,\n",
       " 350: 8123,\n",
       " 351: 326,\n",
       " 352: 10231,\n",
       " 353: 38600,\n",
       " 354: 2196,\n",
       " 355: 94335,\n",
       " 356: 36616,\n",
       " 357: 1859,\n",
       " 358: 6537,\n",
       " 359: 718,\n",
       " 360: 50064,\n",
       " 361: 10756,\n",
       " 362: 793,\n",
       " 363: 1304,\n",
       " 364: 13177,\n",
       " 365: 26591,\n",
       " 366: 43124,\n",
       " 367: 60809,\n",
       " 368: 434,\n",
       " 369: 1428,\n",
       " 370: 941,\n",
       " 371: 12749,\n",
       " 372: 42297,\n",
       " 373: 1416,\n",
       " 374: 41060,\n",
       " 375: 45585,\n",
       " 376: 12519,\n",
       " 377: 5315,\n",
       " 378: 5905,\n",
       " 379: 13167,\n",
       " 380: 12755,\n",
       " 381: 12756,\n",
       " 382: 6073,\n",
       " 383: 21849,\n",
       " 384: 43577,\n",
       " 385: 14650,\n",
       " 386: 24386,\n",
       " 387: 14348,\n",
       " 388: 87835,\n",
       " 389: 41287,\n",
       " 390: 4908,\n",
       " 391: 52138,\n",
       " 392: 64090,\n",
       " 393: 14081,\n",
       " 394: 15321,\n",
       " 396: 32359,\n",
       " 397: 84566,\n",
       " 398: 38875,\n",
       " 399: 13042,\n",
       " 400: 21847,\n",
       " 401: 65173,\n",
       " 402: 3505,\n",
       " 403: 768,\n",
       " 404: 2398,\n",
       " 405: 81606,\n",
       " 406: 12877,\n",
       " 407: 1482,\n",
       " 408: 7858,\n",
       " 409: 505,\n",
       " 410: 2197,\n",
       " 411: 7393,\n",
       " 412: 5077,\n",
       " 413: 32863,\n",
       " 414: 1382,\n",
       " 415: 86412,\n",
       " 416: 2621,\n",
       " 417: 7652,\n",
       " 418: 10925,\n",
       " 419: 11,\n",
       " 420: 19034,\n",
       " 421: 13836,\n",
       " 422: 45708,\n",
       " 423: 13371,\n",
       " 424: 7312,\n",
       " 425: 457,\n",
       " 426: 13137,\n",
       " 427: 13376,\n",
       " 428: 13385,\n",
       " 429: 37,\n",
       " 430: 46036,\n",
       " 431: 81081,\n",
       " 432: 13210,\n",
       " 433: 13041,\n",
       " 434: 4210,\n",
       " 435: 5357,\n",
       " 436: 21764,\n",
       " 437: 89599,\n",
       " 438: 89600,\n",
       " 439: 89602,\n",
       " 440: 89604,\n",
       " 441: 2735,\n",
       " 442: 48437,\n",
       " 443: 12197,\n",
       " 444: 71591,\n",
       " 445: 39384,\n",
       " 446: 1611,\n",
       " 447: 1614,\n",
       " 448: 1615,\n",
       " 449: 30341,\n",
       " 450: 1616,\n",
       " 451: 88730,\n",
       " 452: 22651,\n",
       " 453: 14228,\n",
       " 454: 10718,\n",
       " 455: 77397,\n",
       " 456: 42957,\n",
       " 457: 171,\n",
       " 458: 707,\n",
       " 459: 1016,\n",
       " 460: 230,\n",
       " 461: 8149,\n",
       " 462: 274,\n",
       " 463: 86878,\n",
       " 464: 2086,\n",
       " 465: 2861,\n",
       " 466: 122,\n",
       " 467: 824,\n",
       " 468: 733,\n",
       " 469: 812,\n",
       " 470: 2505,\n",
       " 471: 19143,\n",
       " 472: 9266,\n",
       " 473: 10172,\n",
       " 474: 1378,\n",
       " 475: 1322,\n",
       " 476: 1200,\n",
       " 477: 189,\n",
       " 478: 8112,\n",
       " 479: 197,\n",
       " 480: 1091,\n",
       " 481: 3699,\n",
       " 482: 44933,\n",
       " 483: 5427,\n",
       " 484: 209,\n",
       " 485: 1406,\n",
       " 486: 7505,\n",
       " 487: 1961,\n",
       " 488: 238,\n",
       " 489: 5756,\n",
       " 490: 305,\n",
       " 491: 1901,\n",
       " 492: 94725,\n",
       " 493: 5356,\n",
       " 494: 7440,\n",
       " 495: 229,\n",
       " 496: 20656,\n",
       " 497: 22085,\n",
       " 498: 2056,\n",
       " 499: 820,\n",
       " 500: 455,\n",
       " 501: 451,\n",
       " 502: 7561,\n",
       " 503: 4926,\n",
       " 504: 731,\n",
       " 505: 1186,\n",
       " 506: 247,\n",
       " 507: 9876,\n",
       " 508: 7870,\n",
       " 509: 7871,\n",
       " 510: 17492,\n",
       " 511: 1451,\n",
       " 512: 9454,\n",
       " 513: 15900,\n",
       " 514: 62504,\n",
       " 515: 55653,\n",
       " 516: 3578,\n",
       " 517: 6356,\n",
       " 518: 1119,\n",
       " 520: 15290,\n",
       " 521: 15605,\n",
       " 522: 15323,\n",
       " 523: 1324,\n",
       " 524: 46802,\n",
       " 525: 91098,\n",
       " 526: 21131,\n",
       " 527: 314,\n",
       " 528: 66245,\n",
       " 529: 15606,\n",
       " 530: 27608,\n",
       " 531: 73947,\n",
       " 533: 1470,\n",
       " 534: 1103,\n",
       " 535: 67075,\n",
       " 536: 17835,\n",
       " 537: 3703,\n",
       " 538: 5385,\n",
       " 539: 975,\n",
       " 540: 598,\n",
       " 541: 15111,\n",
       " 542: 2441,\n",
       " 543: 43004,\n",
       " 544: 3713,\n",
       " 545: 9017,\n",
       " 546: 16048,\n",
       " 547: 41104,\n",
       " 548: 32114,\n",
       " 549: 341,\n",
       " 550: 533,\n",
       " 551: 29396,\n",
       " 552: 276,\n",
       " 553: 16184,\n",
       " 554: 772,\n",
       " 555: 9710,\n",
       " 556: 41015,\n",
       " 557: 19946,\n",
       " 558: 23889,\n",
       " 559: 73399,\n",
       " 561: 10079,\n",
       " 562: 45635,\n",
       " 563: 15061,\n",
       " 564: 884,\n",
       " 565: 7547,\n",
       " 566: 8859,\n",
       " 567: 32327,\n",
       " 568: 13651,\n",
       " 569: 81825,\n",
       " 570: 4588,\n",
       " 571: 4031,\n",
       " 572: 11626,\n",
       " 573: 4154,\n",
       " 574: 93891,\n",
       " 575: 2771,\n",
       " 576: 10700,\n",
       " 577: 3671,\n",
       " 578: 8010,\n",
       " 579: 34304,\n",
       " 580: 29476,\n",
       " 581: 3678,\n",
       " 582: 14386,\n",
       " 583: 221,\n",
       " 584: 14619,\n",
       " 585: 4010,\n",
       " 586: 1467,\n",
       " 587: 5087,\n",
       " 588: 2125,\n",
       " 589: 10876,\n",
       " 590: 75013,\n",
       " 591: 571,\n",
       " 592: 86703,\n",
       " 593: 9931,\n",
       " 594: 258,\n",
       " 595: 1257,\n",
       " 596: 15630,\n",
       " 597: 253,\n",
       " 598: 1913,\n",
       " 599: 540,\n",
       " 600: 1660,\n",
       " 601: 1909,\n",
       " 602: 259,\n",
       " 603: 284,\n",
       " 604: 403,\n",
       " 605: 402,\n",
       " 606: 6040,\n",
       " 607: 8341,\n",
       " 608: 2864,\n",
       " 609: 1179,\n",
       " 610: 46523,\n",
       " 611: 751,\n",
       " 612: 12781,\n",
       " 613: 12782,\n",
       " 614: 948,\n",
       " 615: 29589,\n",
       " 616: 84997,\n",
       " 617: 5966,\n",
       " 618: 412,\n",
       " 619: 294,\n",
       " 620: 5054,\n",
       " 621: 5037,\n",
       " 622: 2603,\n",
       " 623: 23712,\n",
       " 624: 2261,\n",
       " 625: 2605,\n",
       " 626: 2604,\n",
       " 627: 2127,\n",
       " 628: 49212,\n",
       " 629: 7387,\n",
       " 630: 72840,\n",
       " 631: 29786,\n",
       " 632: 6722,\n",
       " 633: 1230,\n",
       " 634: 5365,\n",
       " 635: 11549,\n",
       " 636: 3502,\n",
       " 637: 21383,\n",
       " 638: 22181,\n",
       " 639: 4761,\n",
       " 640: 45460,\n",
       " 641: 59883,\n",
       " 642: 82067,\n",
       " 643: 59943,\n",
       " 644: 92650,\n",
       " 645: 394,\n",
       " 646: 1908,\n",
       " 648: 16287,\n",
       " 649: 45169,\n",
       " 650: 45170,\n",
       " 651: 2908,\n",
       " 652: 6248,\n",
       " 653: 84960,\n",
       " 654: 315,\n",
       " 655: 6382,\n",
       " 656: 83754,\n",
       " 657: 5911,\n",
       " 659: 2375,\n",
       " 661: 1887,\n",
       " 662: 3910,\n",
       " 663: 3093,\n",
       " 664: 3304,\n",
       " 665: 2831,\n",
       " 666: 14422,\n",
       " 667: 14407,\n",
       " 669: 89017,\n",
       " 670: 3425,\n",
       " 671: 3471,\n",
       " 672: 62674,\n",
       " 673: 3071,\n",
       " 674: 73509,\n",
       " 675: 288,\n",
       " 676: 322,\n",
       " 677: 18005,\n",
       " 678: 24394,\n",
       " 679: 3452,\n",
       " 680: 928,\n",
       " 681: 383,\n",
       " 682: 95551,\n",
       " 683: 929,\n",
       " 684: 3087,\n",
       " 685: 930,\n",
       " 686: 4722,\n",
       " 687: 931,\n",
       " 688: 932,\n",
       " 689: 2874,\n",
       " 690: 15629,\n",
       " 691: 1426,\n",
       " 692: 4086,\n",
       " 693: 3276,\n",
       " 694: 17962,\n",
       " 695: 3468,\n",
       " 696: 9506,\n",
       " 697: 43436,\n",
       " 698: 3762,\n",
       " 699: 79875,\n",
       " 700: 6277,\n",
       " 701: 1118,\n",
       " 702: 3498,\n",
       " 703: 6782,\n",
       " 704: 27421,\n",
       " 705: 5441,\n",
       " 706: 73565,\n",
       " 707: 32698,\n",
       " 708: 85551,\n",
       " 710: 965,\n",
       " 711: 14272,\n",
       " 712: 76914,\n",
       " 713: 21348,\n",
       " 714: 5395,\n",
       " 715: 90947,\n",
       " 716: 9547,\n",
       " 717: 3327,\n",
       " 718: 3168,\n",
       " 719: 10263,\n",
       " 720: 3657,\n",
       " 721: 3267,\n",
       " 722: 86021,\n",
       " 723: 2698,\n",
       " 724: 11438,\n",
       " 725: 68784,\n",
       " 726: 36663,\n",
       " 727: 73608,\n",
       " 728: 2506,\n",
       " 729: 87155,\n",
       " 730: 2955,\n",
       " 732: 4355,\n",
       " 733: 3537,\n",
       " 734: 2737,\n",
       " 735: 2739,\n",
       " 736: 3665,\n",
       " 737: 3413,\n",
       " 738: 40888,\n",
       " 740: 4229,\n",
       " 741: 3426,\n",
       " 743: 3320,\n",
       " 744: 2328,\n",
       " 745: 61646,\n",
       " 746: 1314,\n",
       " 748: 25317,\n",
       " 749: 96738,\n",
       " 750: 3004,\n",
       " 752: 10482,\n",
       " 753: 3411,\n",
       " 754: 2364,\n",
       " 755: 3640,\n",
       " 756: 5515,\n",
       " 757: 7372,\n",
       " 758: 498,\n",
       " 759: 65051,\n",
       " 760: 910,\n",
       " 761: 14620,\n",
       " 762: 13707,\n",
       " 763: 192,\n",
       " 764: 325,\n",
       " 766: 14396,\n",
       " 767: 7383,\n",
       " 768: 1740,\n",
       " 769: 821,\n",
       " 770: 79778,\n",
       " 771: 73547,\n",
       " 772: 8043,\n",
       " 773: 5954,\n",
       " 774: 16697,\n",
       " 775: 1014,\n",
       " 776: 7668,\n",
       " 777: 79443,\n",
       " 778: 78185,\n",
       " 779: 94232,\n",
       " 781: 323,\n",
       " 782: 333,\n",
       " 783: 334,\n",
       " 784: 330,\n",
       " 785: 337,\n",
       " 786: 289,\n",
       " 787: 335,\n",
       " 788: 1087,\n",
       " 789: 328,\n",
       " 790: 223,\n",
       " 791: 433,\n",
       " 792: 42560,\n",
       " 793: 10470,\n",
       " 794: 331,\n",
       " 795: 336,\n",
       " 796: 25375,\n",
       " 797: 1327,\n",
       " 798: 8266,\n",
       " 799: 4557,\n",
       " 800: 86380,\n",
       " 801: 21897,\n",
       " 802: 1129,\n",
       " 803: 1074,\n",
       " 804: 35581,\n",
       " 805: 29664,\n",
       " 806: 5180,\n",
       " 807: 4674,\n",
       " 808: 9916,\n",
       " 809: 1372,\n",
       " 810: 15347,\n",
       " 811: 989,\n",
       " 812: 1801,\n",
       " 813: 1214,\n",
       " 814: 3493,\n",
       " 815: 42185,\n",
       " 816: 8876,\n",
       " 817: 43330,\n",
       " 818: 43014,\n",
       " 819: 176,\n",
       " 820: 18595,\n",
       " 821: 11635,\n",
       " 822: 5535,\n",
       " 823: 1401,\n",
       " 824: 43072,\n",
       " 825: 16824,\n",
       " 826: 94417,\n",
       " 827: 15590,\n",
       " 828: 22647,\n",
       " 829: 101,\n",
       " 830: 898,\n",
       " 831: 2814,\n",
       " 832: 40281,\n",
       " 833: 1088,\n",
       " 834: 14263,\n",
       " 836: 24512,\n",
       " 837: 42716,\n",
       " 838: 12724,\n",
       " 839: 8857,\n",
       " 840: 42196,\n",
       " 841: 35039,\n",
       " 842: 61292,\n",
       " 843: 542,\n",
       " 844: 3396,\n",
       " 845: 1562,\n",
       " 846: 13024,\n",
       " 847: 36,\n",
       " 848: 68765,\n",
       " 849: 561,\n",
       " 850: 12933,\n",
       " 852: 11647,\n",
       " 853: 1063,\n",
       " 854: 7236,\n",
       " 855: 35995,\n",
       " 856: 4767,\n",
       " 857: 2177,\n",
       " 858: 77302,\n",
       " 859: 20295,\n",
       " 860: 38516,\n",
       " 861: 89708,\n",
       " 862: 1085,\n",
       " 864: 19475,\n",
       " 865: 431,\n",
       " 866: 94,\n",
       " 867: 14646,\n",
       " 869: 21065,\n",
       " 870: 25437,\n",
       " 871: 405,\n",
       " 872: 96454,\n",
       " 873: 7896,\n",
       " 874: 15298,\n",
       " 875: 77256,\n",
       " 876: 5827,\n",
       " 877: 24759,\n",
       " 878: 8408,\n",
       " 879: 36472,\n",
       " 880: 37431,\n",
       " 881: 82803,\n",
       " 882: 2333,\n",
       " 883: 29789,\n",
       " 884: 1464,\n",
       " 885: 66,\n",
       " 886: 2190,\n",
       " 887: 3403,\n",
       " 888: 31798,\n",
       " 889: 8481,\n",
       " 890: 21899,\n",
       " 891: 321,\n",
       " 892: 70,\n",
       " 893: 8364,\n",
       " 894: 9492,\n",
       " 895: 292,\n",
       " 896: 22642,\n",
       " 897: 12639,\n",
       " 898: 1180,\n",
       " 899: 74648,\n",
       " 900: 36553,\n",
       " 901: 42675,\n",
       " 902: 76088,\n",
       " 903: 25830,\n",
       " 904: 9066,\n",
       " 905: 428,\n",
       " 906: 623,\n",
       " 907: 4587,\n",
       " 908: 5480,\n",
       " 909: 20763,\n",
       " 910: 979,\n",
       " 911: 66186,\n",
       " 912: 5015,\n",
       " 913: 7248,\n",
       " 914: 75713,\n",
       " 915: 7255,\n",
       " 916: 20798,\n",
       " 917: 49637,\n",
       " 918: 1795,\n",
       " 919: 6762,\n",
       " 920: 2155,\n",
       " 921: 5042,\n",
       " 922: 26933,\n",
       " 923: 8568,\n",
       " 924: 4918,\n",
       " 925: 11655,\n",
       " 926: 7390,\n",
       " 927: 22914,\n",
       " 928: 88325,\n",
       " 929: 49640,\n",
       " 930: 22992,\n",
       " 931: 18038,\n",
       " 932: 24619,\n",
       " 933: 24236,\n",
       " 934: 24818,\n",
       " 935: 25393,\n",
       " 936: 17576,\n",
       " 937: 1446,\n",
       " 938: 22737,\n",
       " 939: 84437,\n",
       " 940: 79363,\n",
       " 941: 84438,\n",
       " 942: 85837,\n",
       " 943: 42496,\n",
       " 944: 10625,\n",
       " 945: 4388,\n",
       " 946: 9829,\n",
       " 947: 40853,\n",
       " 948: 3697,\n",
       " 949: 2192,\n",
       " 950: 67428,\n",
       " 951: 4960,\n",
       " 952: 4858,\n",
       " 953: 4750,\n",
       " 954: 7389,\n",
       " 955: 4863,\n",
       " 956: 2829,\n",
       " 957: 429,\n",
       " 958: 1508,\n",
       " 959: 4730,\n",
       " 960: 4111,\n",
       " 961: 2748,\n",
       " 962: 7437,\n",
       " 963: 887,\n",
       " 964: 41031,\n",
       " 965: 1856,\n",
       " 966: 5922,\n",
       " 967: 7455,\n",
       " 968: 4040,\n",
       " 969: 5975,\n",
       " 970: 1866,\n",
       " 971: 4939,\n",
       " 972: 7358,\n",
       " 973: 38933,\n",
       " 974: 77186,\n",
       " 975: 4845,\n",
       " 976: 6325,\n",
       " 977: 14875,\n",
       " 978: 2326,\n",
       " 979: 65161,\n",
       " 980: 52148,\n",
       " 981: 22461,\n",
       " 982: 37567,\n",
       " 983: 49073,\n",
       " 984: 3169,\n",
       " 985: 10496,\n",
       " 986: 81529,\n",
       " 987: 65219,\n",
       " 988: 14876,\n",
       " 989: 85794,\n",
       " 990: 14905,\n",
       " 991: 43455,\n",
       " 992: 46047,\n",
       " 993: 792,\n",
       " 994: 26343,\n",
       " 995: 10759,\n",
       " 996: 21623,\n",
       " 997: 66980,\n",
       " 998: 21638,\n",
       " 999: 1868,\n",
       " 1000: 20236,\n",
       " 1001: 17577,\n",
       " 1002: 66855,\n",
       " 1003: 32323,\n",
       " 1004: 58205,\n",
       " 1005: 19096,\n",
       " 1006: 3937,\n",
       " 1007: 48030,\n",
       " 1008: 65220,\n",
       " 1009: 42133,\n",
       " 1010: 96749,\n",
       " 1011: 40990,\n",
       " 1012: 1115,\n",
       " 1013: 41092,\n",
       " 1014: 8456,\n",
       " 1015: 1891,\n",
       " 1018: 25737,\n",
       " 1019: 2160,\n",
       " 1020: 11523,\n",
       " 1021: 23894,\n",
       " 1022: 32793,\n",
       " 1023: 5389,\n",
       " 1024: 534,\n",
       " 1025: 33894,\n",
       " 1026: 7180,\n",
       " 1027: 4556,\n",
       " 1028: 48853,\n",
       " 1029: 77466,\n",
       " 1030: 45788,\n",
       " 1031: 5031,\n",
       " ...}"
      ]
     },
     "execution_count": 24,
     "metadata": {},
     "output_type": "execute_result"
    }
   ],
   "source": [
    "data_cld"
   ]
  },
  {
   "cell_type": "code",
   "execution_count": 25,
   "metadata": {
    "collapsed": true
   },
   "outputs": [],
   "source": [
    "orig_rank_file = '../data/dynamic-simplewiki/dynamic-simplewiki_data_cleaned.csv'\n",
    "with open(orig_rank_file, 'w') as f:\n",
    "    for key, value in data_cld.items():\n",
    "        f.write('%d %d\\n' % (key, value))"
   ]
  },
  {
   "cell_type": "code",
   "execution_count": 26,
   "metadata": {
    "collapsed": true
   },
   "outputs": [],
   "source": [
    "H = nx.read_edgelist('../data/dynamic-simplewiki/dynamic-simplewiki_cleaned.txt', nodetype =  int, create_using=nx.DiGraph())"
   ]
  },
  {
   "cell_type": "code",
   "execution_count": 27,
   "metadata": {},
   "outputs": [
    {
     "data": {
      "text/plain": [
       "100312"
      ]
     },
     "execution_count": 27,
     "metadata": {},
     "output_type": "execute_result"
    }
   ],
   "source": [
    "H.number_of_nodes()"
   ]
  },
  {
   "cell_type": "code",
   "execution_count": 28,
   "metadata": {
    "collapsed": true
   },
   "outputs": [],
   "source": [
    "i = 0\n",
    "nodes_to_remove = []\n",
    "for k in H.nodes():\n",
    "    if k not in data_cld:\n",
    "        i +=1\n",
    "        nodes_to_remove.append(k)\n",
    "print(len(nodes_to_remove))"
   ]
  },
  {
   "cell_type": "code",
   "execution_count": 30,
   "metadata": {
    "collapsed": true
   },
   "outputs": [],
   "source": [
    "H.remove_nodes_from(nodes_to_remove)\n",
    "nx.write_edgelist(H, '../data/dynamic-simplewiki/dynamic-simplewiki_cleaned.txt',data=False)"
   ]
  },
  {
   "cell_type": "code",
   "execution_count": 31,
   "metadata": {},
   "outputs": [
    {
     "data": {
      "text/plain": [
       "96937"
      ]
     },
     "execution_count": 31,
     "metadata": {},
     "output_type": "execute_result"
    }
   ],
   "source": [
    "H.number_of_nodes()"
   ]
  },
  {
   "cell_type": "code",
   "execution_count": 32,
   "metadata": {},
   "outputs": [
    {
     "data": {
      "text/plain": [
       "876576"
      ]
     },
     "execution_count": 32,
     "metadata": {},
     "output_type": "execute_result"
    }
   ],
   "source": [
    "H.number_of_edges()"
   ]
  },
  {
   "cell_type": "markdown",
   "metadata": {},
   "source": [
    "# Certain pairs and Implied pairs"
   ]
  },
  {
   "cell_type": "code",
   "execution_count": 24,
   "metadata": {
    "collapsed": true
   },
   "outputs": [],
   "source": [
    "no_nodes = np.array([50,100,1000,5000,10000,25000,50000,75000])"
   ]
  },
  {
   "cell_type": "code",
   "execution_count": 25,
   "metadata": {
    "collapsed": true
   },
   "outputs": [],
   "source": [
    "#When divided by n*log(n)\n",
    "no_cert_pair_1 = np.array([2.80,3.91,12.52,31.34,44.09,71.93,109.30,136.71])"
   ]
  },
  {
   "cell_type": "code",
   "execution_count": 26,
   "metadata": {},
   "outputs": [
    {
     "data": {
      "text/plain": [
       "array([ 0.44708834,  0.36376193,  0.17314334,  0.10679289,  0.0812249 ,\n",
       "        0.05827502,  0.04730502,  0.04092329])"
      ]
     },
     "execution_count": 26,
     "metadata": {},
     "output_type": "execute_result"
    }
   ],
   "source": [
    "kk = no_cert_pair_1*(no_nodes*np.log(no_nodes))\n",
    "kk/(no_nodes*(no_nodes-1)/2)"
   ]
  },
  {
   "cell_type": "code",
   "execution_count": 27,
   "metadata": {
    "collapsed": true
   },
   "outputs": [],
   "source": [
    "no_cert_pair = no_cert_pair_1*(no_nodes*np.log(no_nodes))"
   ]
  },
  {
   "cell_type": "code",
   "execution_count": 28,
   "metadata": {},
   "outputs": [
    {
     "name": "stdout",
     "output_type": "stream",
     "text": [
      "[ 0.86144773  0.90244853  0.97037874  1.0521193   1.02003666  1.00858858\n",
      "  1.0435374   1.0404141 ]\n",
      "Variance:  0.00437938028326\n"
     ]
    }
   ],
   "source": [
    "# no_cert_pair_2 = no_cert_pair/(no_nodes*(np.log(no_nodes))**6)\n",
    "no_cert_pair_2 = no_cert_pair/(no_nodes**(1.65))\n",
    "print(no_cert_pair_2)\n",
    "print(\"Variance: \",(np.std(no_cert_pair_2))**2)"
   ]
  },
  {
   "cell_type": "markdown",
   "metadata": {},
   "source": [
    "$n^{1.65}$ seems like a good order"
   ]
  },
  {
   "cell_type": "code",
   "execution_count": 29,
   "metadata": {
    "collapsed": true
   },
   "outputs": [],
   "source": [
    "no_implied_pair_1 = np.array([4.85,8.25,54.75,221.79,411.00,934.137,1749.64,2528.99])"
   ]
  },
  {
   "cell_type": "code",
   "execution_count": 30,
   "metadata": {},
   "outputs": [
    {
     "data": {
      "text/plain": [
       "array([ 0.77442088,  0.76752836,  0.75715636,  0.75576246,  0.7571657 ,\n",
       "        0.75680314,  0.75724382,  0.75703751])"
      ]
     },
     "execution_count": 30,
     "metadata": {},
     "output_type": "execute_result"
    }
   ],
   "source": [
    "kk = no_implied_pair_1*(no_nodes*np.log(no_nodes))\n",
    "kk/(no_nodes*(no_nodes-1)/2)"
   ]
  },
  {
   "cell_type": "code",
   "execution_count": 31,
   "metadata": {
    "collapsed": true
   },
   "outputs": [],
   "source": [
    "no_implied_pair = no_implied_pair_1*(no_nodes*np.log(no_nodes))"
   ]
  },
  {
   "cell_type": "code",
   "execution_count": 32,
   "metadata": {},
   "outputs": [
    {
     "name": "stdout",
     "output_type": "stream",
     "text": [
      "[ 0.37946623  0.37992654  0.3781996   0.37780566  0.37854499  0.37838643\n",
      "  0.37861434  0.37851371]\n",
      "Variance:  4.12952406555e-07\n"
     ]
    }
   ],
   "source": [
    "# no_implied_pair_2 = no_implied_pair/(no_nodes*(np.log(no_nodes))**5)\n",
    "no_implied_pair_2 = no_implied_pair/(no_nodes**2)\n",
    "print(no_implied_pair_2)\n",
    "print(\"Variance: \",(np.std(no_implied_pair_2))**2)"
   ]
  },
  {
   "cell_type": "code",
   "execution_count": 245,
   "metadata": {},
   "outputs": [
    {
     "data": {
      "image/png": "[encoded data removed]",
      "text/plain": [
       "<matplotlib.figure.Figure at 0x10f55abe0>"
      ]
     },
     "metadata": {},
     "output_type": "display_data"
    }
   ],
   "source": [
    "fig, ax = plt.subplots()\n",
    "ax=plt.axes(frameon=1)\n",
    "ax.spines[\"top\"].set_visible(False)\n",
    "ax.spines[\"right\"].set_visible(False)\n",
    "ax.set_xlabel('no of nodes, n')\n",
    "ax.set_ylabel('no of pairs')\n",
    "\n",
    "plt.plot(no_nodes,no_cert_pair, label ='Certain pairs')\n",
    "# plt.plot(no_nodes,no_implied_pair_1, label ='Implied pairs')\n",
    "plt.grid(alpha = 0.7)\n",
    "\n",
    "legend=ax.legend(fancybox = True, framealpha=0.5,loc='best')\n",
    "frame = legend.get_frame()\n",
    "frame.set_facecolor('0.9')\n",
    "frame.set_edgecolor('0.75')\n",
    "\n",
    "matplotlib.rcParams['savefig.dpi'] = 125"
   ]
  },
  {
   "cell_type": "code",
   "execution_count": 33,
   "metadata": {},
   "outputs": [
    {
     "data": {
      "image/png": "[encoded data removed]",
      "text/plain": [
       "<matplotlib.figure.Figure at 0x1109bcef0>"
      ]
     },
     "metadata": {},
     "output_type": "display_data"
    }
   ],
   "source": [
    "fig, ax = plt.subplots()\n",
    "ax=plt.axes(frameon=1)\n",
    "ax.spines[\"top\"].set_visible(False)\n",
    "ax.spines[\"right\"].set_visible(False)\n",
    "ax.set_xlabel('no of nodes, n')\n",
    "ax.set_ylabel('no of pairs / n*log(n)')\n",
    "\n",
    "# plt.plot(no_nodes,no_cert_pair_2, label ='Certain pairs')\n",
    "plt.plot(no_nodes,no_implied_pair_2, label ='Correct pairs')\n",
    "plt.grid(alpha = 0.7)\n",
    "\n",
    "legend=ax.legend(fancybox = True, framealpha=0.5,loc='best')\n",
    "frame = legend.get_frame()\n",
    "frame.set_facecolor('0.9')\n",
    "frame.set_edgecolor('0.75')\n",
    "\n",
    "matplotlib.rcParams['savefig.dpi'] = 125"
   ]
  },
  {
   "cell_type": "code",
   "execution_count": 100,
   "metadata": {
    "collapsed": true
   },
   "outputs": [],
   "source": [
    "no_nodes = np.array([50,100,1000,2500,5000,7500,10000,25000,50000])"
   ]
  },
  {
   "cell_type": "markdown",
   "metadata": {},
   "source": [
    "## divided by n(n-1)/2"
   ]
  },
  {
   "cell_type": "code",
   "execution_count": 102,
   "metadata": {
    "collapsed": true
   },
   "outputs": [],
   "source": [
    "#m=1\n",
    "no_cert_pair_1_1 = np.array([0.0889796,0.0662626,0.00634635,0.00316415,0.00182324,0.00112132,\\\n",
    "                           0.00111061,0.000411981,0.000255547])\n",
    "no_implied_pair_1_1 = np.array([0.518367,0.415556,0.406364,0.412283,0.415806,0.409353, 0.399996,0.407202,0.411463])\n",
    "no_cert_pair_1 = no_cert_pair_1_1*(no_nodes*(no_nodes-1)/2)"
   ]
  },
  {
   "cell_type": "code",
   "execution_count": 103,
   "metadata": {},
   "outputs": [
    {
     "data": {
      "text/plain": [
       "array([ 0.55725649,  0.71224267,  0.45890477,  0.5053147 ,  0.53505753,\n",
       "        0.47120367,  0.60285445,  0.50851625,  0.59045084])"
      ]
     },
     "execution_count": 103,
     "metadata": {},
     "output_type": "execute_result"
    }
   ],
   "source": [
    "no_cert_pair_1/(no_nodes*np.log(no_nodes))"
   ]
  },
  {
   "cell_type": "code",
   "execution_count": 104,
   "metadata": {},
   "outputs": [
    {
     "data": {
      "text/plain": [
       "array([ 0.6464591 ,  0.7096821 ,  0.40015666,  0.35640659,  0.28022225,\n",
       "        0.2984092 ,  0.26724678,  0.24642957,  0.23200693])"
      ]
     },
     "execution_count": 104,
     "metadata": {},
     "output_type": "execute_result"
    }
   ],
   "source": [
    "#m=3\n",
    "no_cert_pair_1_3 = np.array([0.33551,0.286061,0.0713994,0.046118,0.0284433, 0.0262802, 0.0212807, 0.0142384,0.0105172])\n",
    "no_implied_pair_1_3 = np.array([0.733061,0.692121,0.656669,0.65625,0.659336, 0.66003, 0.662612,0.660304,0.659399])\n",
    "no_cert_pair_3 = no_cert_pair_1_3*(no_nodes*(no_nodes-1)/2)\n",
    "# no_cert_pair_3/(no_nodes*(np.log(no_nodes))**6)\n",
    "no_cert_pair_3/(no_nodes**(1.65))"
   ]
  },
  {
   "cell_type": "code",
   "execution_count": 105,
   "metadata": {},
   "outputs": [
    {
     "data": {
      "text/plain": [
       "array([ 0.86144772,  0.90244854,  0.97037876,  0.94585538,  1.05211928,\n",
       "        0.98061194,  1.02003661,  1.00858863,  1.04353748])"
      ]
     },
     "execution_count": 105,
     "metadata": {},
     "output_type": "execute_result"
    }
   ],
   "source": [
    "#m=5\n",
    "no_cert_pair_1_5 = np.array([ 0.44708834,  0.36376193,  0.17314334, 0.122391, 0.10679289, 0.0863602, 0.0812249 , \\\n",
    "                           0.05827502,  0.04730502])\n",
    "\n",
    "no_implied_pair_1_5 = np.array([ 0.77442088,  0.76752836,  0.75715636, 0.756854, 0.75576246, 0.760966, 0.7571657 ,\\\n",
    "        0.75680314,  0.75724382])\n",
    "no_cert_pair_5 = no_cert_pair_1_5*(no_nodes*(no_nodes-1)/2)\n",
    "no_cert_pair_5/(no_nodes**(1.65))"
   ]
  },
  {
   "cell_type": "code",
   "execution_count": 106,
   "metadata": {
    "collapsed": true
   },
   "outputs": [],
   "source": [
    "#m=50\n",
    "no_cert_pair_1_50 = np.array([0.945657,0.869069,0.834275,0.80844,0.800898,0.791934,0.764302])\n",
    "no_implied_pair_1_50 = np.array([0.977374,0.968456,0.967244,0.965798,0.967701,0.966536,0.966515])\n",
    "no_cert_pair_50 = no_cert_pair_1_50*(no_nodes[1:-1]*(no_nodes[1:-1]-1)/2)"
   ]
  },
  {
   "cell_type": "code",
   "execution_count": 68,
   "metadata": {},
   "outputs": [
    {
     "data": {
      "image/png": "[encoded data removed]",
      "text/plain": [
       "<matplotlib.figure.Figure at 0x111c5b550>"
      ]
     },
     "metadata": {},
     "output_type": "display_data"
    }
   ],
   "source": [
    "FIGSIZE_REQD = 0.4\n",
    "\n",
    "plt.style.use('ggplot')\n",
    "matplotlib.rcParams.update(publication_with_latex)\n",
    "marker = itertools.cycle(('x', '>', 'D', 'o', '*')) \n",
    "\n",
    "fig, ax = plt.subplots(figsize = figsize(FIGSIZE_REQD))\n",
    "ax=plt.axes(frameon=1)\n",
    "ax.spines[\"top\"].set_visible(False)\n",
    "ax.spines[\"right\"].set_visible(False)\n",
    "ax.set_xlabel('no of nodes, n')\n",
    "ax.set_ylabel(r'$\\mbox{\\# of perfect pairs}/\\binom{n}{2}$')\n",
    "\n",
    "# plt.plot(no_nodes,no_cert_pair_2, label ='Certain pairs')\n",
    "plt.plot(no_nodes[:-1],no_cert_pair_1_1[:-1], label ='$m=1$')\n",
    "plt.plot(no_nodes[:-1],no_cert_pair_1_3[:-1], label ='$m=3$')\n",
    "plt.plot(no_nodes[:-1],no_cert_pair_1_5[:-1], label ='$m=5$')\n",
    "# plt.plot(no_nodes[1:-1],no_cert_pair_1_50, label ='$m=50$')\n",
    "\n",
    "# plt.grid(alpha = 0.7)\n",
    "\n",
    "ax.legend(loc = 'best')\n",
    "# legend=ax.legend(fancybox = True, framealpha=0.5,loc='best')\n",
    "# frame = legend.get_frame()\n",
    "# frame.set_facecolor('0.9')\n",
    "# frame.set_edgecolor('0.75')\n",
    "\n",
    "plt.savefig('perfect_pairs.pdf',bbox_inches='tight',pad_inches = 0.05)\n"
   ]
  },
  {
   "cell_type": "code",
   "execution_count": 67,
   "metadata": {},
   "outputs": [
    {
     "name": "stdout",
     "output_type": "stream",
     "text": [
      "[2.2, 1.3596747752497689]\n"
     ]
    },
    {
     "data": {
      "image/png": "[encoded data removed]",
      "text/plain": [
       "<matplotlib.figure.Figure at 0x1106fd630>"
      ]
     },
     "metadata": {},
     "output_type": "display_data"
    }
   ],
   "source": [
    "FIGSIZE_REQD = 0.4\n",
    "plt.style.use('ggplot')\n",
    "matplotlib.rcParams.update(publication_with_latex)\n",
    "\n",
    "marker = itertools.cycle(('x', '>', 'D', 'o', '*')) \n",
    "print(figsize(FIGSIZE_REQD))\n",
    "# fig, ax = plt.subplots(1,2)\n",
    "# fig.set_figwidth(5.5)\n",
    "# fig.set_figheight(2.2)\n",
    "\n",
    "\n",
    "fig, ax = plt.subplots(figsize = figsize(FIGSIZE_REQD))\n",
    "ax=plt.axes(frameon=1)\n",
    "ax.spines[\"top\"].set_visible(False)\n",
    "ax.spines[\"right\"].set_visible(False)\n",
    "ax.set_xlabel('no of nodes, n')\n",
    "ax.set_ylabel(r'$\\mbox{\\# of perfect pairs}/(n \\log(n))$')\n",
    "\n",
    "x_1 = no_nodes[:-1]\n",
    "y_1 = no_cert_pair_1[:-1]/(x_1*np.log(x_1))\n",
    "plt.plot(x_1,y_1,label ='$m=1$')\n",
    "y_2 = no_cert_pair_3[:-1]/(x_1*np.log(x_1))\n",
    "plt.plot(x_1,y_2, label ='$m=3$')\n",
    "# plt.plot(no_nodes,no_cert_pair_5/(no_nodes*np.log(no_nodes)), label ='$m=5$',marker=next(marker),markersize =3)\n",
    "# plt.plot(no_nodes[1:-1],no_cert_pair_50, label ='$m=50$')\n",
    "\n",
    "# plt.grid(alpha = 0.7)\n",
    "\n",
    "ax.legend(loc = [0.5,0.18])\n",
    "\n",
    "# legend=ax.legend(fancybox = True, framealpha=0.5,loc='best')\n",
    "# frame = legend.get_frame()\n",
    "# frame.set_facecolor('0.9')\n",
    "# frame.set_edgecolor('0.75')\n",
    "\n",
    "# a = plt.axes([.55, .3, .3, .3])\n",
    "# # plt.ticklabel_format(style='sci', axis='x', scilimits=(0,0))\n",
    "# # plt.ticklabel_format(style='sci', axis='y', scilimits=(0,0))\n",
    "# plt.grid()\n",
    "# plt.plot(no_nodes,no_cert_pair_1/(no_nodes*np.log(no_nodes)), label ='$m=1$',marker=next(marker),markersize =3)\n",
    "# plt.tight_layout()\n",
    "\n",
    "plt.savefig('perfect_pairs_nlogn.pdf',bbox_inches='tight',pad_inches = 0.05)\n",
    "\n"
   ]
  },
  {
   "cell_type": "code",
   "execution_count": 117,
   "metadata": {},
   "outputs": [
    {
     "name": "stderr",
     "output_type": "stream",
     "text": [
      "/Users/jithin/anaconda/lib/python3.5/site-packages/ipykernel/__main__.py:16: DeprecationWarning: `spline` is deprecated!\n",
      "spline is deprecated in scipy 0.19.0, use Bspline class instead.\n"
     ]
    },
    {
     "data": {
      "image/png": "[encoded data removed]",
      "text/plain": [
       "<matplotlib.figure.Figure at 0x11babfc88>"
      ]
     },
     "metadata": {},
     "output_type": "display_data"
    }
   ],
   "source": [
    "# matplotlib.rcParams['savefig.dpi'] = 300\n",
    "# matplotlib.rcParams['text.usetex'] = True\n",
    "# matplotlib.rcParams['text.latex.preamble']=[r\"\\usepackage{amsmath,amssymb,amsfonts}\"]\n",
    "\n",
    "FIGSIZE_REQD = 0.4\n",
    "\n",
    "plt.style.use('ggplot')\n",
    "matplotlib.rcParams.update(publication_with_latex)\n",
    "marker = itertools.cycle(('x', '>', 'D', 'o', '*')) \n",
    "\n",
    "from scipy.interpolate import spline\n",
    "def smooth_data(x,y):\n",
    "#     xnew = np.linspace(x.min(),x.max(),5)\n",
    "#     xnew = np.linspace(x.min(),x.max())\n",
    "    xnew = x\n",
    "    ynew = spline(x,y,xnew)\n",
    "    return (xnew,ynew)\n",
    "    \n",
    "\n",
    "fig, ax = plt.subplots(figsize = figsize(FIGSIZE_REQD))\n",
    "ax=plt.axes(frameon=1)\n",
    "ax.spines[\"top\"].set_visible(False)\n",
    "ax.spines[\"right\"].set_visible(False)\n",
    "ax.set_xlabel(r'no of nodes, $n$')\n",
    "# ax.set_ylabel(r'$\\mbox{\\# of correct pairs}/\\binom{n}{2}$')\n",
    "ax.set_ylabel(r'$\\rho(\\sigma_{\\text{peel}})$')\n",
    "\n",
    "# plt.plot(no_nodes,no_cert_pair_2, label ='Certain pairs')\n",
    "(x,y) = smooth_data(no_nodes,no_implied_pair_1_1)\n",
    "plt.plot(x,y, label ='$m=1$')\n",
    "(x,y) = smooth_data(no_nodes,no_implied_pair_1_3)\n",
    "plt.plot(x,y, label ='$m=3$')\n",
    "(x,y) = smooth_data(no_nodes,no_implied_pair_1_5)\n",
    "plt.plot(x,y, label ='$m=5$')\n",
    "# plt.plot(no_nodes[1:-1],no_cert_pair_50, label ='$m=50$')\n",
    "\n",
    "plt.grid(alpha = 0.7)\n",
    "\n",
    "ax.legend(loc = [0.5,0.1])\n",
    "\n",
    "# legend=ax.legend(fancybox = True, framealpha=0.5,loc='best')\n",
    "# frame = legend.get_frame()\n",
    "# frame.set_facecolor('0.9')\n",
    "# frame.set_edgecolor('0.75')\n",
    "\n",
    "ax.yaxis.set_major_locator(ticker.MultipleLocator(0.1))\n",
    "plt.savefig('correct_pairs.pdf',bbox_inches='tight',pad_inches = 0.05)\n"
   ]
  },
  {
   "cell_type": "markdown",
   "metadata": {
    "collapsed": true
   },
   "source": [
    "# DNC network"
   ]
  },
  {
   "cell_type": "markdown",
   "metadata": {},
   "source": [
    "## Cleaning the graph"
   ]
  },
  {
   "cell_type": "markdown",
   "metadata": {},
   "source": [
    "### Graph"
   ]
  },
  {
   "cell_type": "code",
   "execution_count": 33,
   "metadata": {
    "collapsed": true
   },
   "outputs": [],
   "source": [
    "data_file = '../data/dnc_emailleak/dnctemporalGraph.txt'\n",
    "data = open(data_file,'r')\n",
    "data = data.readlines()\n",
    "new_graph_file = '../data/dnc_emailleak/dnctemporalGraph_cleaned.txt'\n",
    "with open(new_graph_file, 'w') as f:\n",
    "    for lin in data:\n",
    "        temp_l=lin.split() #What a wondeful command. TODO: Learn about it more\n",
    "        s = int(temp_l[0])\n",
    "        d = int(temp_l[1])\n",
    "        f.write('%d %d\\n' % (s, d))"
   ]
  },
  {
   "cell_type": "code",
   "execution_count": 34,
   "metadata": {
    "collapsed": true
   },
   "outputs": [],
   "source": [
    "# Remove duplicate lines from the file\n",
    "\n",
    "lines = open(new_graph_file, 'r').readlines()\n",
    "lines_set = set(lines)\n",
    "with open(new_graph_file,'w') as f:\n",
    "    for line in lines_set:\n",
    "        f.write(line)"
   ]
  },
  {
   "cell_type": "markdown",
   "metadata": {},
   "source": [
    "### Data"
   ]
  },
  {
   "cell_type": "code",
   "execution_count": 38,
   "metadata": {
    "collapsed": true
   },
   "outputs": [],
   "source": [
    "data_tt = defaultdict(list)\n",
    "for lin in data:\n",
    "    temp_l=lin.split()\n",
    "    data_tt[int(temp_l[0])].append(int(temp_l[3]))\n",
    "    #data_tt contains node:all time stamps\n",
    "    \n",
    "time_n = {k: min(v) for k,v in data_tt.items()}\n",
    "#time_n contains node:min_timestamp\n",
    "\n",
    "temp = time_n.values()\n",
    "temp_s = sorted(set(temp))\n",
    "r = {key:rank for rank, key in enumerate(temp_s)}\n",
    "data_cld = {k: r[v] for k,v in time_n.items()}\n",
    "#data_cld contains node:rank in timestamps\n",
    "\n",
    "rank_file = '../data/dnc_emailleak/dnctemporalGraph_data_cleaned.csv'\n",
    "with open(rank_file, 'w') as f:\n",
    "    for key, value in data_cld.items():\n",
    "        f.write('%d %d\\n' % (key, value))\n",
    "#writing this rank file"
   ]
  },
  {
   "cell_type": "code",
   "execution_count": 39,
   "metadata": {
    "collapsed": true
   },
   "outputs": [],
   "source": [
    "G = nx.read_edgelist('../data/dnc_emailleak/dnctemporalGraph_cleaned.txt', nodetype =  int, create_using=nx.DiGraph())"
   ]
  },
  {
   "cell_type": "code",
   "execution_count": 40,
   "metadata": {},
   "outputs": [
    {
     "data": {
      "text/plain": [
       "'Name: \\nType: DiGraph\\nNumber of nodes: 1891\\nNumber of edges: 5598\\nAverage in degree:   2.9603\\nAverage out degree:   2.9603'"
      ]
     },
     "execution_count": 40,
     "metadata": {},
     "output_type": "execute_result"
    }
   ],
   "source": [
    "nx.info(G)"
   ]
  },
  {
   "cell_type": "code",
   "execution_count": 41,
   "metadata": {},
   "outputs": [
    {
     "name": "stdout",
     "output_type": "stream",
     "text": [
      "797\n"
     ]
    }
   ],
   "source": [
    "i = 0\n",
    "nodes_to_remove = []\n",
    "for k in G.nodes():\n",
    "    if k not in data_cld:\n",
    "        i +=1\n",
    "        nodes_to_remove.append(k)\n",
    "print(len(nodes_to_remove))"
   ]
  },
  {
   "cell_type": "markdown",
   "metadata": {
    "collapsed": true
   },
   "source": [
    "# Digg friends network"
   ]
  },
  {
   "cell_type": "markdown",
   "metadata": {},
   "source": [
    "## Cleaning the graph"
   ]
  },
  {
   "cell_type": "markdown",
   "metadata": {},
   "source": [
    "### Graph"
   ]
  },
  {
   "cell_type": "code",
   "execution_count": 42,
   "metadata": {
    "collapsed": true
   },
   "outputs": [],
   "source": [
    "data_file = '../data/digg_friends/digg_friends.txt'\n",
    "data = open(data_file,'r')\n",
    "data = data.readlines()\n",
    "new_graph_file = '../data/digg_friends/digg_friends_cleaned.txt'\n",
    "with open(new_graph_file, 'w') as f:\n",
    "    for lin in data:\n",
    "        temp_l=lin.split() #What a wondeful command. TODO: Learn about it more\n",
    "        if int(temp_l[3])!=0:\n",
    "            s = int(temp_l[0])\n",
    "            d = int(temp_l[1])\n",
    "            f.write('%d %d\\n' % (s, d))"
   ]
  },
  {
   "cell_type": "code",
   "execution_count": 43,
   "metadata": {
    "collapsed": true
   },
   "outputs": [],
   "source": [
    "# Remove duplicate lines from the file\n",
    "\n",
    "lines = open(new_graph_file, 'r').readlines()\n",
    "lines_set = set(lines)\n",
    "with open(new_graph_file,'w') as f:\n",
    "    for line in lines_set:\n",
    "        f.write(line)"
   ]
  },
  {
   "cell_type": "markdown",
   "metadata": {},
   "source": [
    "### Data"
   ]
  },
  {
   "cell_type": "code",
   "execution_count": 44,
   "metadata": {
    "collapsed": true
   },
   "outputs": [],
   "source": [
    "data_tt = defaultdict(list)\n",
    "for lin in data:\n",
    "    temp_l=lin.split()\n",
    "    if int(temp_l[3])!=0:\n",
    "        data_tt[int(temp_l[0])].append(int(temp_l[3]))\n",
    "        #data_tt contains node:all time stamps\n",
    "    \n",
    "time_n = {k: min(v) for k,v in data_tt.items()}\n",
    "#time_n contains node:min_timestamp\n",
    "\n",
    "temp = time_n.values()\n",
    "temp_s = sorted(set(temp))\n",
    "r = {key:rank for rank, key in enumerate(temp_s)}\n",
    "data_cld = {k: r[v] for k,v in time_n.items()}\n",
    "#data_cld contains node:rank in timestamps\n",
    "\n",
    "rank_file = '../data/digg_friends/digg_friends_data_cleaned.csv'\n",
    "with open(rank_file, 'w') as f:\n",
    "    for key, value in data_cld.items():\n",
    "        f.write('%d %d\\n' % (key, value))\n",
    "#writing this rank file"
   ]
  },
  {
   "cell_type": "code",
   "execution_count": 45,
   "metadata": {},
   "outputs": [
    {
     "data": {
      "text/plain": [
       "1"
      ]
     },
     "execution_count": 45,
     "metadata": {},
     "output_type": "execute_result"
    }
   ],
   "source": [
    "sum([1 for k,v in data_cld.items() if (v == 0)]) #Should result in 1 element!"
   ]
  },
  {
   "cell_type": "code",
   "execution_count": 46,
   "metadata": {
    "collapsed": true
   },
   "outputs": [],
   "source": [
    "G = nx.read_edgelist('../data/digg_friends/digg_friends_cleaned.txt', nodetype =  int, create_using=nx.DiGraph())"
   ]
  },
  {
   "cell_type": "code",
   "execution_count": 47,
   "metadata": {},
   "outputs": [
    {
     "data": {
      "text/plain": [
       "'Name: \\nType: DiGraph\\nNumber of nodes: 279374\\nNumber of edges: 1729983\\nAverage in degree:   6.1924\\nAverage out degree:   6.1924'"
      ]
     },
     "execution_count": 47,
     "metadata": {},
     "output_type": "execute_result"
    }
   ],
   "source": [
    "nx.info(G)"
   ]
  },
  {
   "cell_type": "code",
   "execution_count": 48,
   "metadata": {},
   "outputs": [
    {
     "name": "stdout",
     "output_type": "stream",
     "text": [
      "208105\n"
     ]
    }
   ],
   "source": [
    "i = 0\n",
    "nodes_to_remove = []\n",
    "for k in G.nodes():\n",
    "    if k not in data_cld:\n",
    "        i +=1\n",
    "        nodes_to_remove.append(k)\n",
    "print(len(nodes_to_remove))"
   ]
  },
  {
   "cell_type": "markdown",
   "metadata": {
    "collapsed": true
   },
   "source": [
    "# Internet Topology network"
   ]
  },
  {
   "cell_type": "markdown",
   "metadata": {},
   "source": [
    "## Cleaning the graph"
   ]
  },
  {
   "cell_type": "markdown",
   "metadata": {},
   "source": [
    "### Graph"
   ]
  },
  {
   "cell_type": "code",
   "execution_count": 83,
   "metadata": {
    "collapsed": true
   },
   "outputs": [],
   "source": [
    "data_file = '../data/internet_topology/topology.txt'\n",
    "data = open(data_file,'r')\n",
    "data = data.readlines()\n",
    "new_graph_file = '../data/internet_topology/topology_cleaned.txt'\n",
    "with open(new_graph_file, 'w') as f:\n",
    "    for lin in data:\n",
    "        temp_l=lin.split() #What a wondeful command. TODO: Learn about it more\n",
    "        s = int(temp_l[0])\n",
    "        d = int(temp_l[1])\n",
    "        f.write('%d %d\\n' % (s, d))\n",
    "        #INFO: This is because the graph is unidirected\n",
    "#         f.write('%d %d\\n' % (d, s))"
   ]
  },
  {
   "cell_type": "code",
   "execution_count": 84,
   "metadata": {},
   "outputs": [
    {
     "name": "stdout",
     "output_type": "stream",
     "text": [
      "No of duplicate lines:  56907\n"
     ]
    }
   ],
   "source": [
    "# Remove duplicate lines from the file\n",
    "\n",
    "lines = open(new_graph_file, 'r').readlines()\n",
    "lines_set = set(lines)\n",
    "with open(new_graph_file,'w') as f:\n",
    "    for line in lines_set:\n",
    "        f.write(line)\n",
    "print(\"No of duplicate lines: \",(len(lines) - len(lines_set)))    "
   ]
  },
  {
   "cell_type": "markdown",
   "metadata": {},
   "source": [
    "### Data"
   ]
  },
  {
   "cell_type": "code",
   "execution_count": 90,
   "metadata": {
    "collapsed": true
   },
   "outputs": [],
   "source": [
    "data_tt = defaultdict(list)\n",
    "for lin in data:\n",
    "    temp_l=lin.split()\n",
    "    data_tt[int(temp_l[0])].append(int(temp_l[3]))\n",
    "    #INFO: This is because the graph is unidirected\n",
    "    data_tt[int(temp_l[1])].append(int(temp_l[3]))\n",
    "    #data_tt contains node:all time stamps\n",
    "    \n",
    "time_n = {k: min(v) for k,v in data_tt.items()}\n",
    "# time_n = {k: max(v) for k,v in data_tt.items()}\n",
    "# time_n = {k: np.mean(v) for k,v in data_tt.items()}\n",
    "#time_n contains node:min_timestamp\n",
    "\n",
    "temp = time_n.values()\n",
    "temp_s = sorted(set(temp))\n",
    "r = {key:rank for rank, key in enumerate(temp_s)}\n",
    "data_cld = {k: r[v] for k,v in time_n.items()}\n",
    "#data_cld contains node:rank in timestamps\n",
    "\n",
    "rank_file = '../data/internet_topology/topology_data_cleaned.csv'\n",
    "with open(rank_file, 'w') as f:\n",
    "    for key, value in data_cld.items():\n",
    "        f.write('%d %d\\n' %(key, value))\n",
    "#writing this rank file"
   ]
  },
  {
   "cell_type": "code",
   "execution_count": 91,
   "metadata": {
    "collapsed": true
   },
   "outputs": [],
   "source": [
    "G = nx.read_edgelist('../data/internet_topology/topology_cleaned.txt', nodetype =  int)"
   ]
  },
  {
   "cell_type": "code",
   "execution_count": 92,
   "metadata": {},
   "outputs": [
    {
     "data": {
      "text/plain": [
       "'Name: \\nType: Graph\\nNumber of nodes: 34761\\nNumber of edges: 107720\\nAverage degree:   6.1978'"
      ]
     },
     "execution_count": 92,
     "metadata": {},
     "output_type": "execute_result"
    }
   ],
   "source": [
    "nx.info(G)"
   ]
  },
  {
   "cell_type": "code",
   "execution_count": 93,
   "metadata": {},
   "outputs": [
    {
     "data": {
      "text/plain": [
       "'Name: \\nType: Graph\\nNumber of nodes: 34761\\nNumber of edges: 107720\\nAverage degree:   6.1978'"
      ]
     },
     "execution_count": 93,
     "metadata": {},
     "output_type": "execute_result"
    }
   ],
   "source": [
    "nx.info(G)"
   ]
  },
  {
   "cell_type": "code",
   "execution_count": 89,
   "metadata": {},
   "outputs": [
    {
     "name": "stdout",
     "output_type": "stream",
     "text": [
      "0\n"
     ]
    }
   ],
   "source": [
    "i = 0\n",
    "nodes_to_remove = []\n",
    "for k in G.nodes():\n",
    "    if k not in data_cld:\n",
    "        i +=1\n",
    "        nodes_to_remove.append(k)\n",
    "print(len(nodes_to_remove))"
   ]
  },
  {
   "cell_type": "markdown",
   "metadata": {
    "collapsed": true
   },
   "source": [
    "# DBLP network"
   ]
  },
  {
   "cell_type": "markdown",
   "metadata": {},
   "source": [
    "## Cleaning the graph"
   ]
  },
  {
   "cell_type": "markdown",
   "metadata": {},
   "source": [
    "### Graph"
   ]
  },
  {
   "cell_type": "code",
   "execution_count": 108,
   "metadata": {
    "collapsed": true
   },
   "outputs": [],
   "source": [
    "data_file = '../data/dblp/dblp_coauthor.txt'\n",
    "data = open(data_file,'r')\n",
    "data = data.readlines()\n",
    "new_graph_file = '../data/dblp/dblp_coauthor_cleaned.txt'\n",
    "with open(new_graph_file, 'w') as f:\n",
    "    for lin in data:\n",
    "        temp_l=lin.split() #What a wondeful command. TODO: Learn about it more\n",
    "        s = int(temp_l[0])\n",
    "        d = int(temp_l[1])\n",
    "        f.write('%d %d\\n' % (s, d))\n",
    "        #INFO: This is because the graph is unidirected\n",
    "#         f.write('%d %d\\n' % (d, s))"
   ]
  },
  {
   "cell_type": "code",
   "execution_count": 12,
   "metadata": {
    "collapsed": true
   },
   "outputs": [],
   "source": [
    "G = nx.read_edgelist('../data/dblp/dblp_coauthor_cleaned.txt', nodetype =  int)"
   ]
  },
  {
   "cell_type": "code",
   "execution_count": 13,
   "metadata": {},
   "outputs": [
    {
     "data": {
      "text/plain": [
       "'Name: \\nType: Graph\\nNumber of nodes: 1282466\\nNumber of edges: 5179985\\nAverage degree:   8.0782'"
      ]
     },
     "execution_count": 13,
     "metadata": {},
     "output_type": "execute_result"
    }
   ],
   "source": [
    "nx.info(G)"
   ]
  },
  {
   "cell_type": "code",
   "execution_count": 16,
   "metadata": {},
   "outputs": [
    {
     "data": {
      "text/plain": [
       "'Name: \\nType: Graph\\nNumber of nodes: 1137114\\nNumber of edges: 5018065\\nAverage degree:   8.8260'"
      ]
     },
     "execution_count": 16,
     "metadata": {},
     "output_type": "execute_result"
    }
   ],
   "source": [
    "H = sorted(nx.connected_component_subgraphs(G), key = len, reverse=True)[0]\n",
    "nx.info(H)"
   ]
  },
  {
   "cell_type": "code",
   "execution_count": 15,
   "metadata": {},
   "outputs": [
    {
     "data": {
      "text/plain": [
       "'Name: \\nType: Graph\\nNumber of nodes: 32\\nNumber of edges: 69\\nAverage degree:   4.3125'"
      ]
     },
     "execution_count": 15,
     "metadata": {},
     "output_type": "execute_result"
    }
   ],
   "source": [
    "H_1 = sorted(nx.connected_component_subgraphs(G), key = len, reverse=True)[1]\n",
    "nx.info(H_1)"
   ]
  },
  {
   "cell_type": "code",
   "execution_count": 41,
   "metadata": {
    "collapsed": true
   },
   "outputs": [],
   "source": [
    "nx.write_edgelist(H,'../data/dblp/dblp_coauthor_cleaned_subgraph.txt',data=False)"
   ]
  },
  {
   "cell_type": "code",
   "execution_count": 42,
   "metadata": {},
   "outputs": [
    {
     "name": "stdout",
     "output_type": "stream",
     "text": [
      "No of duplicate lines:  0\n"
     ]
    }
   ],
   "source": [
    "# Remove duplicate lines from the file\n",
    "\n",
    "lines = open(new_graph_file, 'r').readlines()\n",
    "lines_set = set(lines)\n",
    "with open(new_graph_file,'w') as f:\n",
    "    for line in lines_set:\n",
    "        f.write(line)\n",
    "print(\"No of duplicate lines: \",(len(lines) - len(lines_set)))    "
   ]
  },
  {
   "cell_type": "markdown",
   "metadata": {},
   "source": [
    "### Data"
   ]
  },
  {
   "cell_type": "code",
   "execution_count": 109,
   "metadata": {},
   "outputs": [
    {
     "name": "stdout",
     "output_type": "stream",
     "text": [
      "No. of bins in the original ranking:  71\n"
     ]
    }
   ],
   "source": [
    "data_tt = defaultdict(list)\n",
    "i = 0;\n",
    "for lin in data:\n",
    "    temp_l=lin.split()\n",
    "#     print(temp_l)\n",
    "    i += 1\n",
    "    try:\n",
    "        data_tt[int(temp_l[0])].append(int(temp_l[3]))\n",
    "    except:\n",
    "        print(\"line: \",i)\n",
    "        sys.exit(0)\n",
    "        \n",
    "    #INFO: This is because the graph is unidirected\n",
    "    data_tt[int(temp_l[1])].append(int(temp_l[3]))\n",
    "    #data_tt contains node:all time stamps\n",
    "    \n",
    "time_n = {k: min(v) for k,v in data_tt.items()}\n",
    "#time_n contains node:min_timestamp\n",
    "\n",
    "temp = time_n.values()\n",
    "temp_s = sorted(set(temp))\n",
    "r = {key:rank for rank, key in enumerate(temp_s)}\n",
    "data_cld = {k: r[v] for k,v in time_n.items()}\n",
    "#data_cld contains node:rank in timestamps\n",
    "\n",
    "print(\"No. of bins in the original ranking: \", len(r))\n",
    "\n",
    "rank_file = '../data/dblp/dblp_coauthor_cleaned_data_cleaned.csv'\n",
    "with open(rank_file, 'w') as f:\n",
    "    for key, value in data_cld.items():\n",
    "        f.write('%d %d\\n' % (key, value))\n",
    "#writing this rank file"
   ]
  },
  {
   "cell_type": "code",
   "execution_count": 32,
   "metadata": {},
   "outputs": [
    {
     "data": {
      "text/plain": [
       "'Name: \\nType: Graph\\nNumber of nodes: 34761\\nNumber of edges: 107720\\nAverage degree:   6.1978'"
      ]
     },
     "execution_count": 32,
     "metadata": {},
     "output_type": "execute_result"
    }
   ],
   "source": [
    "nx.info(G)"
   ]
  },
  {
   "cell_type": "code",
   "execution_count": 13,
   "metadata": {},
   "outputs": [
    {
     "name": "stdout",
     "output_type": "stream",
     "text": [
      "0\n"
     ]
    }
   ],
   "source": [
    "i = 0\n",
    "nodes_to_remove = []\n",
    "for k in G.nodes():\n",
    "    if k not in data_cld:\n",
    "        i +=1\n",
    "        nodes_to_remove.append(k)\n",
    "print(len(nodes_to_remove))"
   ]
  },
  {
   "cell_type": "markdown",
   "metadata": {},
   "source": [
    "# Brain network"
   ]
  },
  {
   "cell_type": "markdown",
   "metadata": {},
   "source": [
    "Directed network; nodes are voxels; human data, fMRI, resting"
   ]
  },
  {
   "cell_type": "code",
   "execution_count": 132,
   "metadata": {
    "collapsed": true
   },
   "outputs": [],
   "source": [
    "# Loading the results I got\n",
    "# Nodes: voxel 243648\n",
    "node_rank =  np.loadtxt('../build/node_rank_brain.txt', dtype = int)"
   ]
  },
  {
   "cell_type": "code",
   "execution_count": 133,
   "metadata": {},
   "outputs": [
    {
     "data": {
      "text/plain": [
       "243648"
      ]
     },
     "execution_count": 133,
     "metadata": {},
     "output_type": "execute_result"
    }
   ],
   "source": [
    "max(node_rank[:,0])"
   ]
  },
  {
   "cell_type": "code",
   "execution_count": 134,
   "metadata": {
    "collapsed": true
   },
   "outputs": [],
   "source": [
    "# node_rank = np.delete(node_rank,0,axis = 0)"
   ]
  },
  {
   "cell_type": "code",
   "execution_count": 135,
   "metadata": {
    "collapsed": true
   },
   "outputs": [],
   "source": [
    "# Loading node annotation\n",
    "node_annotation_t = np.loadtxt('../data/brain_network/node_annotation.txt', dtype = int)"
   ]
  },
  {
   "cell_type": "code",
   "execution_count": 136,
   "metadata": {
    "collapsed": true
   },
   "outputs": [],
   "source": [
    "# Make it dictionary\n",
    "node_annotation = dict(zip(node_annotation_t[:,0],node_annotation_t[:,1]))"
   ]
  },
  {
   "cell_type": "code",
   "execution_count": 137,
   "metadata": {
    "collapsed": true
   },
   "outputs": [],
   "source": [
    "annotation_rank = defaultdict(list)\n",
    "rank_annotation = defaultdict(list)\n",
    "for (t_n,t_r) in node_rank:\n",
    "    annotation_rank[node_annotation[t_n]].append(t_r)\n",
    "    rank_annotation[t_r].append(node_annotation[t_n])"
   ]
  },
  {
   "cell_type": "code",
   "execution_count": 138,
   "metadata": {},
   "outputs": [
    {
     "data": {
      "text/plain": [
       "dict_keys([0, 1, 2, 3, 4, 5, 6, 7, 8, 9, 10, 11, 12, 13, 14, 15, 16, 17, 18, 19, 20, 21, 22, 23, 24, 25, 26, 27, 28, 29, 30, 31, 32, 33, 34, 35, 36, 37, 38, 39, 40, 41, 42, 43, 44, 45, 46, 47, 48, 49, 50, 51, 52, 53, 54, 55])"
      ]
     },
     "execution_count": 138,
     "metadata": {},
     "output_type": "execute_result"
    }
   ],
   "source": [
    "# Meaning how many annotations or labels are there\n",
    "annotation_rank.keys()"
   ]
  },
  {
   "cell_type": "code",
   "execution_count": 153,
   "metadata": {},
   "outputs": [
    {
     "data": {
      "image/png": "[encoded data removed]",
      "text/plain": [
       "<matplotlib.figure.Figure at 0x1137f9630>"
      ]
     },
     "metadata": {},
     "output_type": "display_data"
    }
   ],
   "source": [
    "ax = plt.hist(annotation_rank[25])\n",
    "plt.xlabel('Predicted ranking')\n",
    "plt.title('Histogram of ranking for annotation 25')\n",
    "plt.savefig('Histogram_annotation.pdf',bbox_inches='tight',pad_inches = 0.05)"
   ]
  },
  {
   "cell_type": "code",
   "execution_count": 144,
   "metadata": {},
   "outputs": [
    {
     "data": {
      "text/plain": [
       "2690.0"
      ]
     },
     "execution_count": 144,
     "metadata": {},
     "output_type": "execute_result"
    }
   ],
   "source": [
    "np.median(annotation_rank[50])"
   ]
  },
  {
   "cell_type": "markdown",
   "metadata": {},
   "source": [
    "## Processing the ranking given by Vikram"
   ]
  },
  {
   "cell_type": "code",
   "execution_count": 1,
   "metadata": {},
   "outputs": [
    {
     "ename": "NameError",
     "evalue": "name 'data' is not defined",
     "output_type": "error",
     "traceback": [
      "\u001b[0;31m---------------------------------------------------------------------------\u001b[0m",
      "\u001b[0;31mNameError\u001b[0m                                 Traceback (most recent call last)",
      "\u001b[0;32m<ipython-input-1-5c46b731e4a2>\u001b[0m in \u001b[0;36m<module>\u001b[0;34m()\u001b[0m\n\u001b[1;32m      3\u001b[0m     \u001b[0mf\u001b[0m\u001b[0;34m.\u001b[0m\u001b[0mwrite\u001b[0m\u001b[0;34m(\u001b[0m\u001b[0;34m'# Smaller Bin_no for older nodes. Bin 0 for oldest node, Bin 1 for second oldest, so on\\n'\u001b[0m\u001b[0;34m)\u001b[0m\u001b[0;34m\u001b[0m\u001b[0m\n\u001b[1;32m      4\u001b[0m     \u001b[0mf\u001b[0m\u001b[0;34m.\u001b[0m\u001b[0mwrite\u001b[0m\u001b[0;34m(\u001b[0m\u001b[0;34m'#Bin_no Node_index Node_annotation\\n'\u001b[0m\u001b[0;34m)\u001b[0m\u001b[0;34m\u001b[0m\u001b[0m\n\u001b[0;32m----> 5\u001b[0;31m     \u001b[0;32mfor\u001b[0m \u001b[0mind\u001b[0m\u001b[0;34m,\u001b[0m\u001b[0mlin\u001b[0m \u001b[0;32min\u001b[0m \u001b[0menumerate\u001b[0m\u001b[0;34m(\u001b[0m\u001b[0mdata\u001b[0m\u001b[0;34m)\u001b[0m\u001b[0;34m:\u001b[0m\u001b[0;34m\u001b[0m\u001b[0m\n\u001b[0m\u001b[1;32m      6\u001b[0m         \u001b[0mlin\u001b[0m \u001b[0;34m=\u001b[0m \u001b[0mlin\u001b[0m\u001b[0;34m.\u001b[0m\u001b[0msplit\u001b[0m\u001b[0;34m(\u001b[0m\u001b[0;34m)\u001b[0m\u001b[0;34m\u001b[0m\u001b[0m\n\u001b[1;32m      7\u001b[0m         \u001b[0;32mif\u001b[0m\u001b[0;34m(\u001b[0m\u001b[0mind\u001b[0m\u001b[0;34m%\u001b[0m\u001b[0;36m2\u001b[0m \u001b[0;34m==\u001b[0m \u001b[0;36m0\u001b[0m\u001b[0;34m)\u001b[0m\u001b[0;34m:\u001b[0m\u001b[0;34m\u001b[0m\u001b[0m\n",
      "\u001b[0;31mNameError\u001b[0m: name 'data' is not defined"
     ]
    }
   ],
   "source": [
    "orig_rank_file = 'ranking_brain_network.txt'\n",
    "with open(orig_rank_file, 'w') as f:\n",
    "    f.write('# Smaller Bin_no for older nodes. Bin 0 for oldest node, Bin 1 for second oldest, so on\\n')\n",
    "    f.write('#Bin_no Node_index Node_annotation\\n')\n",
    "    for ind,lin in enumerate(data):\n",
    "        lin = lin.split()\n",
    "        if(ind%2 == 0):\n",
    "            lin_0 = int(lin[0])\n",
    "            lin_1 = int(lin[1])\n",
    "        else:\n",
    "            lin_2 = \" \".join(lin)\n",
    "            f.write('%d\\t%s\\t%s\\n'%(lin_1,lin_0,lin_2))"
   ]
  },
  {
   "cell_type": "markdown",
   "metadata": {},
   "source": [
    "## Data from \"Simple Brain Models\" paper"
   ]
  },
  {
   "cell_type": "code",
   "execution_count": 53,
   "metadata": {
    "collapsed": true
   },
   "outputs": [],
   "source": [
    "rank = defaultdict(list)\n",
    "fn_temp = \"../build/NV_matrices/node_rank_\"\n",
    "for i in range(1,21):\n",
    "    fn = fn_temp + str(i) + \".txt\"\n",
    "    rank_t = open(fn,'r')\n",
    "    rank_t = rank_t.readlines()\n",
    "    for lin in rank_t:\n",
    "        temp_l = lin.split()\n",
    "        rank[int(temp_l[0])].append(int(temp_l[1]))    "
   ]
  },
  {
   "cell_type": "code",
   "execution_count": 54,
   "metadata": {
    "collapsed": true
   },
   "outputs": [],
   "source": [
    "rank_cos = defaultdict(list)\n",
    "fn_temp = \"../build/COS_matrices/node_rank_\"\n",
    "for i in range(1,20):\n",
    "    fn = fn_temp + str(i) + \".txt\"\n",
    "    rank_t = open(fn,'r')\n",
    "    rank_t = rank_t.readlines()\n",
    "    for lin in rank_t:\n",
    "        temp_l = lin.split()\n",
    "        rank_cos[int(temp_l[0])].append(int(temp_l[1]))    "
   ]
  },
  {
   "cell_type": "code",
   "execution_count": 97,
   "metadata": {},
   "outputs": [
    {
     "data": {
      "image/png": "[encoded data removed]",
      "text/plain": [
       "<matplotlib.figure.Figure at 0x1155875c0>"
      ]
     },
     "metadata": {},
     "output_type": "display_data"
    }
   ],
   "source": [
    "k = 60\n",
    "# bins = np.arange(0,np.max(rank[k]))+0.5 #For all the individual bins\n",
    "# plt.hist(rank[k], bins = bins)\n",
    "plt.hist(rank[k])\n",
    "plt.xlabel('Bin number')\n",
    "plt.title('Histogram of ranking for cortex region {0}'.format(k))\n",
    "plt.savefig('Histogram_healthy_reg_{0}.pdf'.format(k),bbox_inches='tight',pad_inches = 0.05)"
   ]
  },
  {
   "cell_type": "code",
   "execution_count": 98,
   "metadata": {},
   "outputs": [
    {
     "data": {
      "image/png": "[encoded data removed]",
      "text/plain": [
       "<matplotlib.figure.Figure at 0x116958438>"
      ]
     },
     "metadata": {},
     "output_type": "display_data"
    }
   ],
   "source": [
    "k = 60\n",
    "# bins = np.arange(0,np.max(rank[k]))+0.5\n",
    "# plt.hist(rank_cos[k], bins = bins)\n",
    "plt.hist(rank_cos[k], bins = bins)\n",
    "plt.xlabel('Bin number')\n",
    "plt.title('Histogram of ranking for cortex region {0}'.format(k))\n",
    "plt.savefig('Histogram_cos_reg_{0}.pdf'.format(k),bbox_inches='tight',pad_inches = 0.05)"
   ]
  },
  {
   "cell_type": "markdown",
   "metadata": {},
   "source": [
    "## pit_group_connectomes"
   ]
  },
  {
   "cell_type": "code",
   "execution_count": 14,
   "metadata": {},
   "outputs": [],
   "source": [
    "folder = \"/Users/jithin/Documents/work/projects/node_age/simulations/cpp_impln/vertex_ordering/data/brain_network/Simple_Network_Models/pit_group_connectomes/\""
   ]
  },
  {
   "cell_type": "code",
   "execution_count": 15,
   "metadata": {},
   "outputs": [],
   "source": [
    "file_name = folder + \"161327_connectome_scale500.graphml\"\n",
    "G = nx.read_graphml(file_name)"
   ]
  },
  {
   "cell_type": "code",
   "execution_count": 16,
   "metadata": {},
   "outputs": [
    {
     "data": {
      "text/plain": [
       "'Name: \\nType: Graph\\nNumber of nodes: 1015\\nNumber of edges: 3305\\nAverage degree:   6.5123'"
      ]
     },
     "execution_count": 16,
     "metadata": {},
     "output_type": "execute_result"
    }
   ],
   "source": [
    "nx.info(G)"
   ]
  },
  {
   "cell_type": "code",
   "execution_count": 17,
   "metadata": {},
   "outputs": [],
   "source": [
    "dict_data = dict(G.nodes(data=True))"
   ]
  },
  {
   "cell_type": "code",
   "execution_count": 18,
   "metadata": {},
   "outputs": [
    {
     "data": {
      "text/plain": [
       "{'dn_correspondence_id': '23',\n",
       " 'dn_fsname': 'frontalpole_1',\n",
       " 'dn_hemisphere': 'right',\n",
       " 'dn_name': 'rh.frontalpole_1',\n",
       " 'dn_position_x': 40.5942857143,\n",
       " 'dn_position_y': 103.742857143,\n",
       " 'dn_position_z': 18.3714285714,\n",
       " 'dn_region': 'cortical'}"
      ]
     },
     "execution_count": 18,
     "metadata": {},
     "output_type": "execute_result"
    }
   ],
   "source": [
    "dict_data['23']"
   ]
  },
  {
   "cell_type": "code",
   "execution_count": 19,
   "metadata": {},
   "outputs": [],
   "source": [
    "tt = dict_data.values()"
   ]
  },
  {
   "cell_type": "code",
   "execution_count": 20,
   "metadata": {},
   "outputs": [],
   "source": [
    "ll = [d['dn_name'] for d in tt]"
   ]
  },
  {
   "cell_type": "code",
   "execution_count": 21,
   "metadata": {},
   "outputs": [
    {
     "data": {
      "text/plain": [
       "1015"
      ]
     },
     "execution_count": 21,
     "metadata": {},
     "output_type": "execute_result"
    }
   ],
   "source": [
    "len(ll)"
   ]
  },
  {
   "cell_type": "code",
   "execution_count": 22,
   "metadata": {},
   "outputs": [
    {
     "data": {
      "text/plain": [
       "1015"
      ]
     },
     "execution_count": 22,
     "metadata": {},
     "output_type": "execute_result"
    }
   ],
   "source": [
    "len(set(ll))"
   ]
  },
  {
   "cell_type": "code",
   "execution_count": 23,
   "metadata": {},
   "outputs": [],
   "source": [
    "def strip_last(s):\n",
    "    pos = s.rfind('_')\n",
    "    if (pos!= -1):\n",
    "        s = s[:pos]\n",
    "    return s"
   ]
  },
  {
   "cell_type": "code",
   "execution_count": 24,
   "metadata": {},
   "outputs": [],
   "source": [
    "b = [strip_last(s) for s in ll]\n",
    "a = set(b)"
   ]
  },
  {
   "cell_type": "code",
   "execution_count": 25,
   "metadata": {},
   "outputs": [
    {
     "data": {
      "text/plain": [
       "83"
      ]
     },
     "execution_count": 25,
     "metadata": {},
     "output_type": "execute_result"
    }
   ],
   "source": [
    "len(a)"
   ]
  },
  {
   "cell_type": "code",
   "execution_count": 26,
   "metadata": {},
   "outputs": [
    {
     "data": {
      "text/plain": [
       "1015"
      ]
     },
     "execution_count": 26,
     "metadata": {},
     "output_type": "execute_result"
    }
   ],
   "source": [
    "len(b)"
   ]
  },
  {
   "cell_type": "code",
   "execution_count": 101,
   "metadata": {},
   "outputs": [],
   "source": [
    "file_name = folder + \"268850_connectome_scale500.graphml\"\n",
    "G = nx.read_graphml(file_name)"
   ]
  },
  {
   "cell_type": "code",
   "execution_count": 102,
   "metadata": {},
   "outputs": [],
   "source": [
    "file_name = folder + \"105115_connectome_scale33.graphml\"\n",
    "H = nx.read_graphml(file_name)"
   ]
  },
  {
   "cell_type": "code",
   "execution_count": 103,
   "metadata": {},
   "outputs": [
    {
     "data": {
      "text/plain": [
       "'Name: \\nType: Graph\\nNumber of nodes: 1015\\nNumber of edges: 4503\\nAverage degree:   8.8729'"
      ]
     },
     "execution_count": 103,
     "metadata": {},
     "output_type": "execute_result"
    }
   ],
   "source": [
    "nx.info(G)"
   ]
  },
  {
   "cell_type": "code",
   "execution_count": 75,
   "metadata": {},
   "outputs": [
    {
     "data": {
      "text/plain": [
       "'Name: \\nType: Graph\\nNumber of nodes: 83\\nNumber of edges: 543\\nAverage degree:  13.0843'"
      ]
     },
     "execution_count": 75,
     "metadata": {},
     "output_type": "execute_result"
    }
   ],
   "source": [
    "nx.info(H)"
   ]
  },
  {
   "cell_type": "code",
   "execution_count": 104,
   "metadata": {},
   "outputs": [],
   "source": [
    "dict_data = dict(G.nodes(data=True))"
   ]
  },
  {
   "cell_type": "code",
   "execution_count": 105,
   "metadata": {},
   "outputs": [
    {
     "data": {
      "text/plain": [
       "{'dn_correspondence_id': '23',\n",
       " 'dn_fsname': 'lateraloccipital',\n",
       " 'dn_hemisphere': 'right',\n",
       " 'dn_name': 'rh.lateraloccipital',\n",
       " 'dn_position_x': 31.5459257126,\n",
       " 'dn_position_y': 26.529513389,\n",
       " 'dn_position_z': 23.0970342643,\n",
       " 'dn_region': 'cortical'}"
      ]
     },
     "execution_count": 105,
     "metadata": {},
     "output_type": "execute_result"
    }
   ],
   "source": [
    "dict_data['23']"
   ]
  },
  {
   "cell_type": "code",
   "execution_count": 84,
   "metadata": {},
   "outputs": [],
   "source": [
    "tt = dict_data.values()"
   ]
  },
  {
   "cell_type": "code",
   "execution_count": 85,
   "metadata": {},
   "outputs": [],
   "source": [
    "ll = [d['dn_name'] for d in tt]"
   ]
  },
  {
   "cell_type": "code",
   "execution_count": 71,
   "metadata": {},
   "outputs": [],
   "source": [
    "K = nx.difference(G, H)"
   ]
  },
  {
   "cell_type": "code",
   "execution_count": 72,
   "metadata": {},
   "outputs": [
    {
     "data": {
      "text/plain": [
       "'Name: Difference of ( and )\\nType: Graph\\nNumber of nodes: 1015\\nNumber of edges: 3183\\nAverage degree:   6.2719'"
      ]
     },
     "execution_count": 72,
     "metadata": {},
     "output_type": "execute_result"
    }
   ],
   "source": [
    "nx.info(K)"
   ]
  },
  {
   "cell_type": "markdown",
   "metadata": {},
   "source": [
    "## Human Connectome - Full brain"
   ]
  },
  {
   "cell_type": "code",
   "execution_count": 10,
   "metadata": {},
   "outputs": [],
   "source": [
    "rank = defaultdict(list)\n",
    "fn_temp = \"../build/Human_connectome_result_2_best_percentile/node_rank_\"\n",
    "for i in range(0,1003):\n",
    "    fn = fn_temp + str(i) + \".txt\"\n",
    "    rank_t = open(fn,'r')\n",
    "    rank_t = rank_t.readlines()\n",
    "    for lin in rank_t:\n",
    "        temp_l = lin.split()\n",
    "        rank[int(temp_l[0])].append(int(temp_l[1]))    "
   ]
  },
  {
   "cell_type": "code",
   "execution_count": 11,
   "metadata": {},
   "outputs": [],
   "source": [
    "# k = 200\n",
    "# # bins = np.arange(0,np.max(rank[k]))+0.5 #For all the individual bins\n",
    "# # plt.hist(rank[k], bins = bins)\n",
    "# plt.hist(rank[k])\n",
    "# plt.xlabel('Bin number')\n",
    "# plt.title('Histogram of ranking for region {0}'.format(k))"
   ]
  },
  {
   "cell_type": "code",
   "execution_count": 12,
   "metadata": {},
   "outputs": [],
   "source": [
    "# matplotlib.rcParams.update(matplotlib.rcParamsDefault)"
   ]
  },
  {
   "cell_type": "code",
   "execution_count": 127,
   "metadata": {},
   "outputs": [
    {
     "data": {
      "image/png": "[encoded data removed]",
      "text/plain": [
       "<matplotlib.figure.Figure at 0x1a1b727e80>"
      ]
     },
     "metadata": {},
     "output_type": "display_data"
    }
   ],
   "source": [
    "plt.style.use('ggplot')\n",
    "\n",
    "fig, ax = plt.subplots(3,3, figsize = figsize(2))\n",
    "axes_vec = ax.ravel()\n",
    "for i,k in enumerate([10, 40, 80, 110, 150, 200, 250, 55, 25]):\n",
    "    axes_vec[i].hist(rank[k], color = '#348ABD')\n",
    "    axes_vec[i].set_xlabel('Bin number')\n",
    "    axes_vec[i].set_title('Histogram of ranking for region {0}'.format(k))\n",
    "# fig.suptitle(\"The threshold for correlation matrix: Largest percentile to make the graph connected\")\n",
    "plt.tight_layout()\n",
    "# plt.subplots_adjust(top=1)\n",
    "plt.savefig('Human_connectome.pdf',bbox_inches='tight',pad_inches = 0.05)"
   ]
  },
  {
   "cell_type": "code",
   "execution_count": 19,
   "metadata": {},
   "outputs": [
    {
     "data": {
      "text/plain": [
       "Text(0.5,1,'Histogram of ranking for region 182')"
      ]
     },
     "execution_count": 19,
     "metadata": {},
     "output_type": "execute_result"
    },
    {
     "data": {
      "image/png": "[encoded data removed]",
      "text/plain": [
       "<matplotlib.figure.Figure at 0x1a1fbcbb00>"
      ]
     },
     "metadata": {},
     "output_type": "display_data"
    }
   ],
   "source": [
    "k = 182\n",
    "# bins = np.arange(0,np.max(rank[k]))+0.5 #For all the individual bins\n",
    "# plt.hist(rank[k], bins = bins)\n",
    "plt.hist(rank[k])\n",
    "plt.xlabel('Bin number')\n",
    "plt.title('Histogram of ranking for region {0}'.format(k))"
   ]
  },
  {
   "cell_type": "code",
   "execution_count": 82,
   "metadata": {},
   "outputs": [
    {
     "data": {
      "text/html": [
       "<table><th>'color'</th><tr><td>'#E24A33'</td></tr><tr><td>'#348ABD'</td></tr><tr><td>'#988ED5'</td></tr><tr><td>'#777777'</td></tr><tr><td>'#FBC15E'</td></tr><tr><td>'#8EBA42'</td></tr><tr><td>'#FFB5B8'</td></tr></table>"
      ],
      "text/plain": [
       "cycler('color', ['#E24A33', '#348ABD', '#988ED5', '#777777', '#FBC15E', '#8EBA42', '#FFB5B8'])"
      ]
     },
     "execution_count": 82,
     "metadata": {},
     "output_type": "execute_result"
    }
   ],
   "source": [
    "plt.rcParams['axes.prop_cycle']"
   ]
  },
  {
   "cell_type": "markdown",
   "metadata": {},
   "source": [
    "## Human connectome - Cortex"
   ]
  },
  {
   "cell_type": "code",
   "execution_count": 14,
   "metadata": {},
   "outputs": [],
   "source": [
    "rank = defaultdict(list)\n",
    "fn_temp = \"../build/Human_connectome_result/node_rank_\"\n",
    "for i in range(0,399):\n",
    "    fn = fn_temp + str(i) + \".txt\"\n",
    "    rank_t = open(fn,'r')\n",
    "    rank_t = rank_t.readlines()\n",
    "    for lin in rank_t:\n",
    "        temp_l = lin.split()\n",
    "        rank[int(temp_l[0])].append(int(temp_l[1]))    "
   ]
  },
  {
   "cell_type": "code",
   "execution_count": 15,
   "metadata": {},
   "outputs": [],
   "source": [
    "# k = 200\n",
    "# # bins = np.arange(0,np.max(rank[k]))+0.5 #For all the individual bins\n",
    "# # plt.hist(rank[k], bins = bins)\n",
    "# plt.hist(rank[k])\n",
    "# plt.xlabel('Bin number')\n",
    "# plt.title('Histogram of ranking for region {0}'.format(k))"
   ]
  },
  {
   "cell_type": "code",
   "execution_count": 16,
   "metadata": {},
   "outputs": [],
   "source": [
    "# matplotlib.rcParams.update(matplotlib.rcParamsDefault)"
   ]
  },
  {
   "cell_type": "code",
   "execution_count": 20,
   "metadata": {},
   "outputs": [
    {
     "data": {
      "image/png": "[encoded data removed]",
      "text/plain": [
       "<matplotlib.figure.Figure at 0x1a1eb60ac8>"
      ]
     },
     "metadata": {},
     "output_type": "display_data"
    }
   ],
   "source": [
    "plt.style.use('ggplot')\n",
    "\n",
    "fig, ax = plt.subplots(3,3, figsize = figsize(2))\n",
    "# fig, ax = plt.subplots(4,3, figsize = figsize(2))\n",
    "axes_vec = ax.ravel()\n",
    "label_name = {\n",
    "    23:\"Primary Auditory Cortex\", \n",
    "    172: \"Medial Belt Complex\", \n",
    "    173: \"Lateral Belt Complex\", \n",
    "    123: \"ParaBelt Complex\", \n",
    "    103: \"RetroInsular Cortex\", \n",
    "    0:\"Primary Visual Cortex\", \n",
    "    3: \"Second Visual Area\", \n",
    "    4:\"Third Visual Area\",\n",
    "    7:\"Primary Motor Cortex\",\n",
    "    52: \"Area 3a\",\n",
    "    8:\"Primary Sensory Cortex\",\n",
    "    50: \"Area 1\"\n",
    "}\n",
    "for i,k in enumerate([23, 172, 173, 0, 3, 4, 8, 52, 7]):\n",
    "# for i,k in enumerate([23, 172, 173, 123, 103, 0, 3, 4, 7, 52, 8, 50]):\n",
    "    axes_vec[i].hist(rank[k], color = '#348ABD')\n",
    "    axes_vec[i].set_xlabel('Bin number')\n",
    "    axes_vec[i].set_ylabel('#brain networks in each group')\n",
    "    axes_vec[i].set_title('{0}'.format(label_name[k]))\n",
    "# fig.suptitle(\"The threshold for correlation matrix: Largest percentile to make the graph connected\")\n",
    "\n",
    "plt.tight_layout()\n",
    "# plt.subplots_adjust(top=1)\n",
    "plt.savefig('Human_connectome.pdf',bbox_inches='tight',pad_inches = 0.05)"
   ]
  },
  {
   "cell_type": "code",
   "execution_count": 179,
   "metadata": {},
   "outputs": [
    {
     "data": {
      "image/png": "[encoded data removed]",
      "text/plain": [
       "<matplotlib.figure.Figure at 0x10b0d17f0>"
      ]
     },
     "metadata": {},
     "output_type": "display_data"
    }
   ],
   "source": [
    "k = 7\n",
    "# bins = np.arange(0,np.max(rank[k]))+0.5 #For all the individual bins\n",
    "# plt.hist(rank[k], bins = bins)\n",
    "plt.hist(rank[k])\n",
    "plt.xlabel('Bin number')\n",
    "plt.title('Histogram of ranking for region {0}'.format(k))\n",
    "plt.savefig('Human_connectome.pdf',bbox_inches='tight',pad_inches = 0.05)"
   ]
  },
  {
   "cell_type": "markdown",
   "metadata": {
    "collapsed": true
   },
   "source": [
    "# Bitcoin network"
   ]
  },
  {
   "cell_type": "code",
   "execution_count": 63,
   "metadata": {},
   "outputs": [],
   "source": [
    "# data_file = '../data/Bitcoin/graphs_njp/lt_graph.txt'\n",
    "# data = open(data_file,'r')\n",
    "# data = data.readlines()\n",
    "# new_graph_file = '../data/Bitcoin/graphs_njp/lt_graph_cleaned_not_removed_multiple.txt'\n",
    "# with open(new_graph_file, 'w') as f:\n",
    "#     for lin in data:\n",
    "#         temp_l=lin.split() #What a wondeful command. TODO: Learn about it more\n",
    "#         if int(temp_l[2])!=0:\n",
    "#             s = int(temp_l[0])\n",
    "#             d = int(temp_l[1])\n",
    "#             f.write('%d %d\\n' % (s, d))"
   ]
  },
  {
   "cell_type": "code",
   "execution_count": 24,
   "metadata": {},
   "outputs": [],
   "source": [
    "# # Remove duplicate lines from the file\n",
    "# lines = open(new_graph_file, 'r').readlines()\n",
    "# lines_set = set(lines)\n",
    "# with open(new_graph_file,'w') as f:\n",
    "#     for line in lines_set:\n",
    "#         f.write(line)"
   ]
  },
  {
   "cell_type": "code",
   "execution_count": 134,
   "metadata": {},
   "outputs": [],
   "source": [
    "orig_file = '../data/Bitcoin/edge_time.txt'\n",
    "largest_component_digraph = '../data/Bitcoin/edge_time_digraph.txt'\n",
    "largest_component_multidigraph = '../data/Bitcoin/edge_time_multidigraph.txt'\n",
    "node_rank_file = '../data/Bitcoin/ledge_time_node_rank.txt'"
   ]
  },
  {
   "cell_type": "code",
   "execution_count": 135,
   "metadata": {},
   "outputs": [],
   "source": [
    "# orig_file = '../data/Bitcoin/graphs_njp/lt_graph.txt'\n",
    "# largest_component_digraph = '../data/Bitcoin/graphs_njp/lt_graph_digraph.txt'\n",
    "# largest_component_multidigraph = '../data/Bitcoin/graphs_njp/lt_graph_multidigraph.txt'\n",
    "# node_rank_file = '../data/Bitcoin/graphs_njp/lt_graph_node_rank.txt'"
   ]
  },
  {
   "cell_type": "code",
   "execution_count": 136,
   "metadata": {},
   "outputs": [],
   "source": [
    "# orig_file = '../data/Bitcoin/graphs_njp/au_graph.txt'\n",
    "# largest_component_digraph = '../data/Bitcoin/graphs_njp/au_graph_digraph.txt'\n",
    "# largest_component_multidigraph = '../data/Bitcoin/graphs_njp/au_graph_multidigraph.txt'\n",
    "# node_rank_file = '../data/Bitcoin/graphs_njp/au_graph_node_rank.txt'"
   ]
  },
  {
   "cell_type": "code",
   "execution_count": null,
   "metadata": {},
   "outputs": [],
   "source": [
    "G = nx.read_weighted_edgelist(orig_file, nodetype =  int, \n",
    "                     create_using=nx.MultiDiGraph())\n",
    "nx.info(G)"
   ]
  },
  {
   "cell_type": "markdown",
   "metadata": {},
   "source": [
    "Make sure each node has at least one out-neighbor or in-neighbor."
   ]
  },
  {
   "cell_type": "code",
   "execution_count": null,
   "metadata": {},
   "outputs": [],
   "source": [
    "H = sorted(nx.weakly_connected_component_subgraphs(G), key = len, reverse=True)[0]\n",
    "nx.info(H)"
   ]
  },
  {
   "cell_type": "code",
   "execution_count": null,
   "metadata": {},
   "outputs": [],
   "source": [
    "nx.write_edgelist(H,largest_component_multidigraph,data= False)"
   ]
  },
  {
   "cell_type": "code",
   "execution_count": null,
   "metadata": {},
   "outputs": [],
   "source": [
    "J = nx.DiGraph(H)\n",
    "nx.info(J)"
   ]
  },
  {
   "cell_type": "code",
   "execution_count": null,
   "metadata": {},
   "outputs": [],
   "source": [
    "nx.write_edgelist(J,largest_component_digraph,data= False)"
   ]
  },
  {
   "cell_type": "markdown",
   "metadata": {},
   "source": [
    "Processing data and writing into a file"
   ]
  },
  {
   "cell_type": "code",
   "execution_count": null,
   "metadata": {},
   "outputs": [],
   "source": [
    "data_tt = {}\n",
    "for node in H.nodes():\n",
    "    min_time_in_edges = 0\n",
    "    list_time_in_edges = [line[2]['weight'] for line in (H.in_edges(node, data = True))]\n",
    "    if list_time_in_edges:\n",
    "        min_time_in_edges = min(list_time_in_edges)\n",
    "    min_time_out_edges = 0\n",
    "    list_time_out_edges = [line[2]['weight'] for line in (H.out_edges(node, data = True))]\n",
    "    if list_time_out_edges:\n",
    "        min_time_out_edges = min(list_time_out_edges)\n",
    "    if (min_time_in_edges != 0) and (min_time_out_edges != 0):\n",
    "        min_time =  min(min_time_in_edges,min_time_out_edges)\n",
    "    elif min_time_in_edges == 0:\n",
    "        min_time = min_time_out_edges\n",
    "    elif min_time_out_edges == 0:\n",
    "        min_time = min_time_in_edges        \n",
    "    data_tt[node] = min_time"
   ]
  },
  {
   "cell_type": "code",
   "execution_count": null,
   "metadata": {},
   "outputs": [],
   "source": [
    "time_n = data_tt\n",
    "\n",
    "temp = time_n.values()\n",
    "temp_s = sorted(set(temp))\n",
    "r = {key:rank for rank, key in enumerate(temp_s)}\n",
    "data_cld = {k: r[v] for k,v in time_n.items()}\n",
    "#data_cld contains node:rank in timestamps\n",
    "\n",
    "rank_file = node_rank_file\n",
    "with open(rank_file, 'w') as f:\n",
    "    for key, value in data_cld.items():\n",
    "        f.write('%d %d\\n' % (key, value))"
   ]
  },
  {
   "cell_type": "markdown",
   "metadata": {},
   "source": [
    "Consistency check: Check rank of every node in the graph is present in data_cld"
   ]
  },
  {
   "cell_type": "code",
   "execution_count": null,
   "metadata": {},
   "outputs": [],
   "source": [
    "i = 0\n",
    "nodes_to_remove = []\n",
    "for k in J.nodes():\n",
    "    if k not in data_cld:\n",
    "        i +=1\n",
    "        nodes_to_remove.append(k)\n",
    "print(len(nodes_to_remove))"
   ]
  },
  {
   "cell_type": "markdown",
   "metadata": {},
   "source": [
    "# Mathoverflow data"
   ]
  },
  {
   "cell_type": "code",
   "execution_count": 259,
   "metadata": {},
   "outputs": [],
   "source": [
    "orig_file = '../data/mathoverflow/sx-mathoverflow.txt'\n",
    "largest_component_digraph = '../data/mathoverflow/sx-mathoverflow_digraph.txt'\n",
    "largest_component_multidigraph = '../data/mathoverflow/sx-mathoverflow_multidigraph.txt'\n",
    "node_rank_file = '../data/mathoverflow/sx-mathoverflow_node_rank.txt'"
   ]
  },
  {
   "cell_type": "code",
   "execution_count": 260,
   "metadata": {},
   "outputs": [
    {
     "data": {
      "text/plain": [
       "'Name: \\nType: MultiDiGraph\\nNumber of nodes: 24818\\nNumber of edges: 506550\\nAverage in degree:  20.4106\\nAverage out degree:  20.4106'"
      ]
     },
     "execution_count": 260,
     "metadata": {},
     "output_type": "execute_result"
    }
   ],
   "source": [
    "G = nx.read_weighted_edgelist(orig_file, nodetype =  int, \n",
    "                     create_using=nx.MultiDiGraph())\n",
    "nx.info(G)"
   ]
  },
  {
   "cell_type": "markdown",
   "metadata": {},
   "source": [
    "Make sure each node has at least one out-neighbor or in-neighbor."
   ]
  },
  {
   "cell_type": "code",
   "execution_count": 261,
   "metadata": {},
   "outputs": [
    {
     "data": {
      "text/plain": [
       "'Name: \\nType: MultiDiGraph\\nNumber of nodes: 24668\\nNumber of edges: 506395\\nAverage in degree:  20.5284\\nAverage out degree:  20.5284'"
      ]
     },
     "execution_count": 261,
     "metadata": {},
     "output_type": "execute_result"
    }
   ],
   "source": [
    "H = sorted(nx.weakly_connected_component_subgraphs(G), key = len, reverse=True)[0]\n",
    "nx.info(H)"
   ]
  },
  {
   "cell_type": "code",
   "execution_count": 262,
   "metadata": {},
   "outputs": [],
   "source": [
    "nx.write_edgelist(H,largest_component_multidigraph,data= False)"
   ]
  },
  {
   "cell_type": "code",
   "execution_count": 263,
   "metadata": {},
   "outputs": [
    {
     "data": {
      "text/plain": [
       "'Name: \\nType: DiGraph\\nNumber of nodes: 24668\\nNumber of edges: 239845\\nAverage in degree:   9.7229\\nAverage out degree:   9.7229'"
      ]
     },
     "execution_count": 263,
     "metadata": {},
     "output_type": "execute_result"
    }
   ],
   "source": [
    "J = nx.DiGraph(H)\n",
    "nx.info(J)"
   ]
  },
  {
   "cell_type": "code",
   "execution_count": 264,
   "metadata": {},
   "outputs": [],
   "source": [
    "nx.write_edgelist(J,largest_component_digraph,data= False)"
   ]
  },
  {
   "cell_type": "markdown",
   "metadata": {},
   "source": [
    "Processing data and writing into a file"
   ]
  },
  {
   "cell_type": "code",
   "execution_count": 265,
   "metadata": {},
   "outputs": [],
   "source": [
    "data_tt = {}\n",
    "for node in H.nodes():\n",
    "    min_time_in_edges = 0\n",
    "    list_time_in_edges = [line[2]['weight'] for line in (H.in_edges(node, data = True))]\n",
    "    if list_time_in_edges:\n",
    "        min_time_in_edges = min(list_time_in_edges)\n",
    "    min_time_out_edges = 0\n",
    "    list_time_out_edges = [line[2]['weight'] for line in (H.out_edges(node, data = True))]\n",
    "    if list_time_out_edges:\n",
    "        min_time_out_edges = min(list_time_out_edges)\n",
    "    if (min_time_in_edges != 0) and (min_time_out_edges != 0):\n",
    "        min_time =  min(min_time_in_edges,min_time_out_edges)\n",
    "    elif min_time_in_edges == 0:\n",
    "        min_time = min_time_out_edges\n",
    "    elif min_time_out_edges == 0:\n",
    "        min_time = min_time_in_edges        \n",
    "    data_tt[node] = min_time"
   ]
  },
  {
   "cell_type": "code",
   "execution_count": 266,
   "metadata": {},
   "outputs": [],
   "source": [
    "time_n = data_tt\n",
    "\n",
    "temp = time_n.values()\n",
    "temp_s = sorted(set(temp))\n",
    "r = {key:rank for rank, key in enumerate(temp_s)}\n",
    "data_cld = {k: r[v] for k,v in time_n.items()}\n",
    "#data_cld contains node:rank in timestamps\n",
    "\n",
    "rank_file = node_rank_file\n",
    "with open(rank_file, 'w') as f:\n",
    "    for key, value in data_cld.items():\n",
    "        f.write('%d %d\\n' % (key, value))"
   ]
  },
  {
   "cell_type": "markdown",
   "metadata": {},
   "source": [
    "Consistency check: Check rank of every node in the graph is present in data_cld"
   ]
  },
  {
   "cell_type": "code",
   "execution_count": 267,
   "metadata": {},
   "outputs": [
    {
     "name": "stdout",
     "output_type": "stream",
     "text": [
      "0\n"
     ]
    }
   ],
   "source": [
    "i = 0\n",
    "nodes_to_remove = []\n",
    "for k in J.nodes():\n",
    "    if k not in data_cld:\n",
    "        i +=1\n",
    "        nodes_to_remove.append(k)\n",
    "print(len(nodes_to_remove))"
   ]
  },
  {
   "cell_type": "markdown",
   "metadata": {},
   "source": [
    "# SMA-A dataset"
   ]
  },
  {
   "cell_type": "code",
   "execution_count": 270,
   "metadata": {},
   "outputs": [],
   "source": [
    "orig_file = '../data/SMS-A/SD01.txt'\n",
    "largest_component_digraph = '../data/SMS-A/SD01_digraph.txt'\n",
    "largest_component_multidigraph = '../data/SMS-A/SD01_multidigraph.txt'\n",
    "node_rank_file = '../data/SMS-A/SD01_node_rank.txt'"
   ]
  },
  {
   "cell_type": "code",
   "execution_count": 271,
   "metadata": {},
   "outputs": [
    {
     "data": {
      "text/plain": [
       "'Name: \\nType: MultiDiGraph\\nNumber of nodes: 44430\\nNumber of edges: 548182\\nAverage in degree:  12.3381\\nAverage out degree:  12.3381'"
      ]
     },
     "execution_count": 271,
     "metadata": {},
     "output_type": "execute_result"
    }
   ],
   "source": [
    "G = nx.read_weighted_edgelist(orig_file, nodetype =  int, \n",
    "                     create_using=nx.MultiDiGraph())\n",
    "nx.info(G)"
   ]
  },
  {
   "cell_type": "markdown",
   "metadata": {},
   "source": [
    "Make sure each node has at least one out-neighbor or in-neighbor."
   ]
  },
  {
   "cell_type": "code",
   "execution_count": 272,
   "metadata": {},
   "outputs": [
    {
     "data": {
      "text/plain": [
       "'Name: \\nType: MultiDiGraph\\nNumber of nodes: 30278\\nNumber of edges: 447493\\nAverage in degree:  14.7795\\nAverage out degree:  14.7795'"
      ]
     },
     "execution_count": 272,
     "metadata": {},
     "output_type": "execute_result"
    }
   ],
   "source": [
    "H = sorted(nx.weakly_connected_component_subgraphs(G), key = len, reverse=True)[0]\n",
    "nx.info(H)"
   ]
  },
  {
   "cell_type": "code",
   "execution_count": 273,
   "metadata": {},
   "outputs": [],
   "source": [
    "nx.write_edgelist(H,largest_component_multidigraph,data= False)"
   ]
  },
  {
   "cell_type": "code",
   "execution_count": 274,
   "metadata": {},
   "outputs": [
    {
     "data": {
      "text/plain": [
       "'Name: \\nType: DiGraph\\nNumber of nodes: 30278\\nNumber of edges: 57095\\nAverage in degree:   1.8857\\nAverage out degree:   1.8857'"
      ]
     },
     "execution_count": 274,
     "metadata": {},
     "output_type": "execute_result"
    }
   ],
   "source": [
    "J = nx.DiGraph(H)\n",
    "nx.info(J)"
   ]
  },
  {
   "cell_type": "code",
   "execution_count": 275,
   "metadata": {},
   "outputs": [],
   "source": [
    "nx.write_edgelist(J,largest_component_digraph,data= False)"
   ]
  },
  {
   "cell_type": "markdown",
   "metadata": {},
   "source": [
    "Processing data and writing into a file"
   ]
  },
  {
   "cell_type": "code",
   "execution_count": 276,
   "metadata": {},
   "outputs": [],
   "source": [
    "data_tt = {}\n",
    "for node in H.nodes():\n",
    "    min_time_in_edges = 0\n",
    "    list_time_in_edges = [line[2]['weight'] for line in (H.in_edges(node, data = True))]\n",
    "    if list_time_in_edges:\n",
    "        min_time_in_edges = min(list_time_in_edges)\n",
    "    min_time_out_edges = 0\n",
    "    list_time_out_edges = [line[2]['weight'] for line in (H.out_edges(node, data = True))]\n",
    "    if list_time_out_edges:\n",
    "        min_time_out_edges = min(list_time_out_edges)\n",
    "    if (min_time_in_edges != 0) and (min_time_out_edges != 0):\n",
    "        min_time =  min(min_time_in_edges,min_time_out_edges)\n",
    "    elif min_time_in_edges == 0:\n",
    "        min_time = min_time_out_edges\n",
    "    elif min_time_out_edges == 0:\n",
    "        min_time = min_time_in_edges        \n",
    "    data_tt[node] = min_time"
   ]
  },
  {
   "cell_type": "code",
   "execution_count": 277,
   "metadata": {},
   "outputs": [],
   "source": [
    "time_n = data_tt\n",
    "\n",
    "temp = time_n.values()\n",
    "temp_s = sorted(set(temp))\n",
    "r = {key:rank for rank, key in enumerate(temp_s)}\n",
    "data_cld = {k: r[v] for k,v in time_n.items()}\n",
    "#data_cld contains node:rank in timestamps\n",
    "\n",
    "rank_file = node_rank_file\n",
    "with open(rank_file, 'w') as f:\n",
    "    for key, value in data_cld.items():\n",
    "        f.write('%d %d\\n' % (key, value))"
   ]
  },
  {
   "cell_type": "markdown",
   "metadata": {},
   "source": [
    "Consistency check: Check rank of every node in the graph is present in data_cld"
   ]
  },
  {
   "cell_type": "code",
   "execution_count": 278,
   "metadata": {},
   "outputs": [
    {
     "name": "stdout",
     "output_type": "stream",
     "text": [
      "0\n"
     ]
    }
   ],
   "source": [
    "i = 0\n",
    "nodes_to_remove = []\n",
    "for k in J.nodes():\n",
    "    if k not in data_cld:\n",
    "        i +=1\n",
    "        nodes_to_remove.append(k)\n",
    "print(len(nodes_to_remove))"
   ]
  },
  {
   "cell_type": "markdown",
   "metadata": {},
   "source": [
    "# FB Wall post"
   ]
  },
  {
   "cell_type": "code",
   "execution_count": 279,
   "metadata": {},
   "outputs": [],
   "source": [
    "orig_file = '../data/FBWall/facebook-wall.txt'\n",
    "largest_component_digraph = '../data/FBWall/facebook-wall_digraph.txt'\n",
    "largest_component_multidigraph = '../data/FBWall/facebook-wall_multidigraph.txt'\n",
    "node_rank_file = '../data/FBWall/facebook-wall_node_rank.txt'"
   ]
  },
  {
   "cell_type": "code",
   "execution_count": 280,
   "metadata": {},
   "outputs": [
    {
     "data": {
      "text/plain": [
       "'Name: \\nType: MultiDiGraph\\nNumber of nodes: 46952\\nNumber of edges: 876993\\nAverage in degree:  18.6785\\nAverage out degree:  18.6785'"
      ]
     },
     "execution_count": 280,
     "metadata": {},
     "output_type": "execute_result"
    }
   ],
   "source": [
    "G = nx.read_weighted_edgelist(orig_file, nodetype =  int, \n",
    "                     create_using=nx.MultiDiGraph())\n",
    "nx.info(G)"
   ]
  },
  {
   "cell_type": "markdown",
   "metadata": {},
   "source": [
    "Make sure each node has at least one out-neighbor or in-neighbor."
   ]
  },
  {
   "cell_type": "code",
   "execution_count": 281,
   "metadata": {},
   "outputs": [
    {
     "data": {
      "text/plain": [
       "'Name: \\nType: MultiDiGraph\\nNumber of nodes: 43953\\nNumber of edges: 872044\\nAverage in degree:  19.8404\\nAverage out degree:  19.8404'"
      ]
     },
     "execution_count": 281,
     "metadata": {},
     "output_type": "execute_result"
    }
   ],
   "source": [
    "H = sorted(nx.weakly_connected_component_subgraphs(G), key = len, reverse=True)[0]\n",
    "nx.info(H)"
   ]
  },
  {
   "cell_type": "code",
   "execution_count": 282,
   "metadata": {},
   "outputs": [],
   "source": [
    "nx.write_edgelist(H,largest_component_multidigraph,data= False)"
   ]
  },
  {
   "cell_type": "code",
   "execution_count": 283,
   "metadata": {},
   "outputs": [
    {
     "data": {
      "text/plain": [
       "'Name: \\nType: DiGraph\\nNumber of nodes: 43953\\nNumber of edges: 271375\\nAverage in degree:   6.1742\\nAverage out degree:   6.1742'"
      ]
     },
     "execution_count": 283,
     "metadata": {},
     "output_type": "execute_result"
    }
   ],
   "source": [
    "J = nx.DiGraph(H)\n",
    "nx.info(J)"
   ]
  },
  {
   "cell_type": "code",
   "execution_count": 284,
   "metadata": {},
   "outputs": [],
   "source": [
    "nx.write_edgelist(J,largest_component_digraph,data= False)"
   ]
  },
  {
   "cell_type": "markdown",
   "metadata": {},
   "source": [
    "Processing data and writing into a file"
   ]
  },
  {
   "cell_type": "code",
   "execution_count": 285,
   "metadata": {},
   "outputs": [],
   "source": [
    "data_tt = {}\n",
    "for node in H.nodes():\n",
    "    min_time_in_edges = 0\n",
    "    list_time_in_edges = [line[2]['weight'] for line in (H.in_edges(node, data = True))]\n",
    "    if list_time_in_edges:\n",
    "        min_time_in_edges = min(list_time_in_edges)\n",
    "    min_time_out_edges = 0\n",
    "    list_time_out_edges = [line[2]['weight'] for line in (H.out_edges(node, data = True))]\n",
    "    if list_time_out_edges:\n",
    "        min_time_out_edges = min(list_time_out_edges)\n",
    "    if (min_time_in_edges != 0) and (min_time_out_edges != 0):\n",
    "        min_time =  min(min_time_in_edges,min_time_out_edges)\n",
    "    elif min_time_in_edges == 0:\n",
    "        min_time = min_time_out_edges\n",
    "    elif min_time_out_edges == 0:\n",
    "        min_time = min_time_in_edges        \n",
    "    data_tt[node] = min_time"
   ]
  },
  {
   "cell_type": "code",
   "execution_count": 286,
   "metadata": {},
   "outputs": [],
   "source": [
    "time_n = data_tt\n",
    "\n",
    "temp = time_n.values()\n",
    "temp_s = sorted(set(temp))\n",
    "r = {key:rank for rank, key in enumerate(temp_s)}\n",
    "data_cld = {k: r[v] for k,v in time_n.items()}\n",
    "#data_cld contains node:rank in timestamps\n",
    "\n",
    "rank_file = node_rank_file\n",
    "with open(rank_file, 'w') as f:\n",
    "    for key, value in data_cld.items():\n",
    "        f.write('%d %d\\n' % (key, value))"
   ]
  },
  {
   "cell_type": "markdown",
   "metadata": {},
   "source": [
    "Consistency check: Check rank of every node in the graph is present in data_cld"
   ]
  },
  {
   "cell_type": "code",
   "execution_count": 287,
   "metadata": {},
   "outputs": [
    {
     "name": "stdout",
     "output_type": "stream",
     "text": [
      "0\n"
     ]
    }
   ],
   "source": [
    "i = 0\n",
    "nodes_to_remove = []\n",
    "for k in J.nodes():\n",
    "    if k not in data_cld:\n",
    "        i +=1\n",
    "        nodes_to_remove.append(k)\n",
    "print(len(nodes_to_remove))"
   ]
  },
  {
   "cell_type": "markdown",
   "metadata": {},
   "source": [
    "# COLLEGEMSG"
   ]
  },
  {
   "cell_type": "code",
   "execution_count": 288,
   "metadata": {},
   "outputs": [],
   "source": [
    "orig_file = '../data/CollegeMsg/CollegeMsg.txt'\n",
    "largest_component_digraph = '../data/CollegeMsg/CollegeMsg_digraph.txt'\n",
    "largest_component_multidigraph = '../data/CollegeMsg/CollegeMsg_multidigraph.txt'\n",
    "node_rank_file = '../data/CollegeMsg/CollegeMsg_node_rank.txt'"
   ]
  },
  {
   "cell_type": "code",
   "execution_count": 289,
   "metadata": {},
   "outputs": [
    {
     "data": {
      "text/plain": [
       "'Name: \\nType: MultiDiGraph\\nNumber of nodes: 1899\\nNumber of edges: 59835\\nAverage in degree:  31.5087\\nAverage out degree:  31.5087'"
      ]
     },
     "execution_count": 289,
     "metadata": {},
     "output_type": "execute_result"
    }
   ],
   "source": [
    "G = nx.read_weighted_edgelist(orig_file, nodetype =  int, \n",
    "                     create_using=nx.MultiDiGraph())\n",
    "nx.info(G)"
   ]
  },
  {
   "cell_type": "markdown",
   "metadata": {},
   "source": [
    "Make sure each node has at least one out-neighbor or in-neighbor."
   ]
  },
  {
   "cell_type": "code",
   "execution_count": 290,
   "metadata": {},
   "outputs": [
    {
     "data": {
      "text/plain": [
       "'Name: \\nType: MultiDiGraph\\nNumber of nodes: 1893\\nNumber of edges: 59831\\nAverage in degree:  31.6064\\nAverage out degree:  31.6064'"
      ]
     },
     "execution_count": 290,
     "metadata": {},
     "output_type": "execute_result"
    }
   ],
   "source": [
    "H = sorted(nx.weakly_connected_component_subgraphs(G), key = len, reverse=True)[0]\n",
    "nx.info(H)"
   ]
  },
  {
   "cell_type": "code",
   "execution_count": 291,
   "metadata": {},
   "outputs": [],
   "source": [
    "nx.write_edgelist(H,largest_component_multidigraph,data= False)"
   ]
  },
  {
   "cell_type": "code",
   "execution_count": 292,
   "metadata": {},
   "outputs": [
    {
     "data": {
      "text/plain": [
       "'Name: \\nType: DiGraph\\nNumber of nodes: 1893\\nNumber of edges: 20292\\nAverage in degree:  10.7195\\nAverage out degree:  10.7195'"
      ]
     },
     "execution_count": 292,
     "metadata": {},
     "output_type": "execute_result"
    }
   ],
   "source": [
    "J = nx.DiGraph(H)\n",
    "nx.info(J)"
   ]
  },
  {
   "cell_type": "code",
   "execution_count": 293,
   "metadata": {},
   "outputs": [],
   "source": [
    "nx.write_edgelist(J,largest_component_digraph,data= False)"
   ]
  },
  {
   "cell_type": "markdown",
   "metadata": {},
   "source": [
    "Processing data and writing into a file"
   ]
  },
  {
   "cell_type": "code",
   "execution_count": 294,
   "metadata": {},
   "outputs": [],
   "source": [
    "data_tt = {}\n",
    "for node in H.nodes():\n",
    "    min_time_in_edges = 0\n",
    "    list_time_in_edges = [line[2]['weight'] for line in (H.in_edges(node, data = True))]\n",
    "    if list_time_in_edges:\n",
    "        min_time_in_edges = min(list_time_in_edges)\n",
    "    min_time_out_edges = 0\n",
    "    list_time_out_edges = [line[2]['weight'] for line in (H.out_edges(node, data = True))]\n",
    "    if list_time_out_edges:\n",
    "        min_time_out_edges = min(list_time_out_edges)\n",
    "    if (min_time_in_edges != 0) and (min_time_out_edges != 0):\n",
    "        min_time =  min(min_time_in_edges,min_time_out_edges)\n",
    "    elif min_time_in_edges == 0:\n",
    "        min_time = min_time_out_edges\n",
    "    elif min_time_out_edges == 0:\n",
    "        min_time = min_time_in_edges        \n",
    "    data_tt[node] = min_time"
   ]
  },
  {
   "cell_type": "code",
   "execution_count": 295,
   "metadata": {},
   "outputs": [],
   "source": [
    "time_n = data_tt\n",
    "\n",
    "temp = time_n.values()\n",
    "temp_s = sorted(set(temp))\n",
    "r = {key:rank for rank, key in enumerate(temp_s)}\n",
    "data_cld = {k: r[v] for k,v in time_n.items()}\n",
    "#data_cld contains node:rank in timestamps\n",
    "\n",
    "rank_file = node_rank_file\n",
    "with open(rank_file, 'w') as f:\n",
    "    for key, value in data_cld.items():\n",
    "        f.write('%d %d\\n' % (key, value))"
   ]
  },
  {
   "cell_type": "markdown",
   "metadata": {},
   "source": [
    "Consistency check: Check rank of every node in the graph is present in data_cld"
   ]
  },
  {
   "cell_type": "code",
   "execution_count": 296,
   "metadata": {},
   "outputs": [
    {
     "name": "stdout",
     "output_type": "stream",
     "text": [
      "0\n"
     ]
    }
   ],
   "source": [
    "i = 0\n",
    "nodes_to_remove = []\n",
    "for k in J.nodes():\n",
    "    if k not in data_cld:\n",
    "        i +=1\n",
    "        nodes_to_remove.append(k)\n",
    "print(len(nodes_to_remove))"
   ]
  },
  {
   "cell_type": "markdown",
   "metadata": {},
   "source": [
    "# No of Descendants of m-degree nodes"
   ]
  },
  {
   "cell_type": "code",
   "execution_count": 119,
   "metadata": {
    "collapsed": true
   },
   "outputs": [],
   "source": [
    "no_nodes = np.array([100,500,1000,2000,3000,4000,5000])"
   ]
  },
  {
   "cell_type": "code",
   "execution_count": 120,
   "metadata": {
    "collapsed": true
   },
   "outputs": [],
   "source": [
    "m = np.array([5,10,15,20,25])"
   ]
  },
  {
   "cell_type": "code",
   "execution_count": 122,
   "metadata": {
    "collapsed": true
   },
   "outputs": [],
   "source": [
    "avg_tr = np.array([[24.3455,\n",
    "75.7404,\n",
    "120.879,\n",
    "193.594,\n",
    "253.707,\n",
    "308.684,\n",
    "358.768],[44.8422,\n",
    "182.616,\n",
    "324.18,\n",
    "573.843,\n",
    "800.979,\n",
    "1014.04,\n",
    "1219.42],[57.0684,\n",
    "254.032,\n",
    "473.938,\n",
    "865.341,\n",
    "1239.69,\n",
    "1593.59,\n",
    "1934.82],[63.3103,\n",
    "299.87,\n",
    "569.601,\n",
    "1073.44,\n",
    "1555.92,\n",
    "2016.15,\n",
    "2467.65],[65.5462,\n",
    "331.528,\n",
    "638.407,\n",
    "1221.58,\n",
    "1777.54,\n",
    "2327.68,\n",
    "2853.96]])"
   ]
  },
  {
   "cell_type": "code",
   "execution_count": 123,
   "metadata": {
    "collapsed": true
   },
   "outputs": [],
   "source": [
    "max_tr = np.array([[42.54,\n",
    "148.2,\n",
    "248.58,\n",
    "419.66,\n",
    "558.88,\n",
    "686.44,\n",
    "801.06],[65.6,\n",
    "274.58,\n",
    "508,\n",
    "914.46,\n",
    "1291.3,\n",
    "1645.7,\n",
    "1989.06],\n",
    "[76.8,\n",
    "342.32,\n",
    "647.64,\n",
    "1195.26,\n",
    "1734.94,\n",
    "2250.54,\n",
    "2755.32],\n",
    "[83.86,\n",
    "378.08,\n",
    "732.04,\n",
    "1385.68,\n",
    "2010.72,\n",
    "2635.94,\n",
    "3235.24],\n",
    "[85.7,\n",
    "404.02,\n",
    "779.78,\n",
    "1502.82,\n",
    "2204.52,\n",
    "2889.3,\n",
    "3566.38]])"
   ]
  },
  {
   "cell_type": "code",
   "execution_count": 89,
   "metadata": {},
   "outputs": [
    {
     "data": {
      "image/png": "[encoded data removed]",
      "text/plain": [
       "<matplotlib.figure.Figure at 0x2bea799b0>"
      ]
     },
     "metadata": {},
     "output_type": "display_data"
    }
   ],
   "source": [
    "# from mpltools import style\n",
    "# from mpltools import layout\n",
    "plt.style.use('ggplot')\n",
    "\n",
    "FIGSIZE_REQD = 0.5\n",
    "marker = itertools.cycle((',', '+', '.', 'o', '*')) \n",
    "\n",
    "fig, ax = plt.subplots(1,2,figsize = figsize(FIGSIZE_REQD))\n",
    "ax=plt.axes(frameon=1)\n",
    "ax.spines[\"top\"].set_visible(False)\n",
    "ax.spines[\"right\"].set_visible(False)\n",
    "ax.set_xlabel(r'no of nodes, $n$')\n",
    "ax.set_ylabel(r'avg. tree size')\n",
    "\n",
    "# plt.plot(no_nodes,no_cert_pair_2, label ='Certain pairs')\n",
    "for counter,m_i in enumerate(m):\n",
    "    label_s = r'$m={}$'.format(m_i)\n",
    "    avg_tr_t = np.log(avg_tr[counter,:])/np.log(no_nodes)\n",
    "    plt.plot(no_nodes,avg_tr_t, label = label_s, marker= next(marker), markersize=3)\n",
    "plt.grid(alpha = 0.7)\n",
    "\n",
    "# ax.legend(loc=9, bbox_to_anchor=(0.5, -0.1), ncol=2)\n",
    "# legend=ax.legend(fancybox = True, framealpha=0.5,loc='best')\n",
    "legend=ax.legend(fancybox = True, framealpha=0.5,loc=9, bbox_to_anchor=(0.5, -0.35), ncol=5)\n",
    "frame = legend.get_frame()\n",
    "frame.set_facecolor('0.9')\n",
    "frame.set_edgecolor('0.75')\n",
    "\n",
    "plt.savefig('tree_size.pdf',bbox_inches='tight',pad_inches = 0.05)"
   ]
  },
  {
   "cell_type": "code",
   "execution_count": 125,
   "metadata": {},
   "outputs": [
    {
     "name": "stdout",
     "output_type": "stream",
     "text": [
      "[3.4820464923204653, 2.1520230826613975]\n"
     ]
    },
    {
     "data": {
      "image/png": "[encoded data removed]",
      "text/plain": [
       "<matplotlib.figure.Figure at 0x11c7f3320>"
      ]
     },
     "metadata": {},
     "output_type": "display_data"
    }
   ],
   "source": [
    "# from mpltools import style\n",
    "# from mpltools import layout\n",
    "# style.use('ggplot')\n",
    "\n",
    "plt.style.use('ggplot')\n",
    "matplotlib.rcParams.update(publication_with_latex)\n",
    "\n",
    "FIGSIZE_REQD = 0.5\n",
    "marker = itertools.cycle(('x', '>', 'D', 'o', '*')) \n",
    "\n",
    "# fig, ax = plt.subplots(1,2,figsize = figsize(FIGSIZE_REQD))\n",
    "print(figsize(FIGSIZE_REQD))\n",
    "fig, ax = plt.subplots(1,2)\n",
    "fig.set_figwidth(5.5)\n",
    "fig.set_figheight(1.8)\n",
    "\n",
    "\n",
    "# ax=plt.axes(frameon=1)\n",
    "# ax[0].spines[\"top\"].set_visible(False)\n",
    "# ax[0].spines[\"right\"].set_visible(False)\n",
    "ax[0].set_xlabel(r'$\\mbox{no of nodes, }n$')\n",
    "# ax[0].set_ylabel(r'$\\log(\\mbox{avg.\\ \\# of descendants})/\\log(n)$')\n",
    "ax[0].set_ylabel(r'$ \\frac{\\log(\\mbox{avg.\\ \\# of descendants})}{\\log(n)}$')\n",
    "\n",
    "\n",
    "# plt.plot(no_nodes,no_cert_pair_2, label ='Certain pairs')\n",
    "for counter,m_i in enumerate(m):\n",
    "    label_s = r'$m={}$'.format(m_i)\n",
    "    avg_tr_t = np.log(avg_tr[counter,:])/np.log(no_nodes)\n",
    "    ax[0].plot(no_nodes,avg_tr_t, label = label_s, marker= next(marker), markersize=3)\n",
    "# ax[0].grid(alpha = 0.7)\n",
    "\n",
    "ax[1].spines[\"top\"].set_visible(False)\n",
    "ax[1].spines[\"right\"].set_visible(False)\n",
    "ax[1].set_xlabel(r'$\\mbox{no of nodes, }n$')\n",
    "# ax[1].set_ylabel(r'$\\log(\\mbox{max.\\ \\# of descendants})/\\log(n)$')\n",
    "ax[1].set_ylabel(r'$ \\frac{\\log(\\mbox{max.\\ \\# of descendants})}{\\log(n)}$')\n",
    "\n",
    "for counter,m_i in enumerate(m):\n",
    "    label_s = r'$m={}$'.format(m_i)\n",
    "    max_tr_t = np.log(max_tr[counter,:])/np.log(no_nodes)\n",
    "    ax[1].plot(no_nodes,max_tr_t,marker= next(marker), markersize=3)\n",
    "ax[1].grid(alpha = 0.7)\n",
    "\n",
    "\n",
    "legend = ax[0].legend(loc=9, bbox_to_anchor=(1.2, -0.278), ncol=5, framealpha=0.5)\n",
    "# legend= ax[0].legend(fancybox = True, framealpha=0.5,loc='best')\n",
    "# legend= fig.legend(fancybox = True, framealpha=0.5,loc=9, bbox_to_anchor=(0.5, -0.1), ncol=5)\n",
    "frame = legend.get_frame()\n",
    "frame.set_facecolor('0.9')\n",
    "frame.set_edgecolor('0.75')\n",
    "\n",
    "# ax[0].xaxis.set_major_locator(ticker.MultipleLocator(1500))\n",
    "# ax[1].xaxis.set_major_locator(ticker.MultipleLocator(1500))\n",
    "# ax[0].yaxis.set_major_locator(ticker.MultipleLocator(0.1))\n",
    "# ax[1].yaxis.set_major_locator(ticker.MultipleLocator(0.1))\n",
    "\n",
    "plt.tight_layout()\n",
    "plt.savefig('tree_size.pdf',bbox_inches='tight',pad_inches = 0.05)"
   ]
  },
  {
   "cell_type": "code",
   "execution_count": 91,
   "metadata": {},
   "outputs": [
    {
     "data": {
      "image/png": "[encoded data removed]",
      "text/plain": [
       "<matplotlib.figure.Figure at 0x2bea794a8>"
      ]
     },
     "metadata": {},
     "output_type": "display_data"
    }
   ],
   "source": [
    "FIGSIZE_REQD = 0.5\n",
    "\n",
    "fig, ax = plt.subplots(figsize = figsize(FIGSIZE_REQD))\n",
    "ax=plt.axes(frameon=1)\n",
    "ax.spines[\"top\"].set_visible(False)\n",
    "ax.spines[\"right\"].set_visible(False)\n",
    "ax.set_xlabel(r'no of nodes, $n$')\n",
    "ax.set_ylabel(r'max. tree size')\n",
    "\n",
    "for counter,m_i in enumerate(m):\n",
    "    label_s = r'$m={}$'.format(m_i)\n",
    "    max_tr_t = np.log(max_tr[counter,:])/np.log(no_nodes)\n",
    "    plt.plot(no_nodes,max_tr_t, label = label_s)\n",
    "plt.grid(alpha = 0.7)\n",
    "\n",
    "legend=ax.legend(fancybox = True, framealpha=0.5,loc='best')\n",
    "frame = legend.get_frame()\n",
    "frame.set_facecolor('0.9')\n",
    "frame.set_edgecolor('0.75')\n",
    "\n",
    "plt.savefig('tree_size.pdf',bbox_inches='tight',pad_inches = 0.05)"
   ]
  },
  {
   "cell_type": "code",
   "execution_count": 25,
   "metadata": {},
   "outputs": [
    {
     "name": "stdout",
     "output_type": "stream",
     "text": [
      "['seaborn-whitegrid', 'seaborn-paper', 'bmh', 'seaborn-ticks', 'dark_background', 'seaborn-white', 'seaborn-bright', 'seaborn-darkgrid', 'grayscale', 'ggplot', 'seaborn-colorblind', 'seaborn-poster', 'seaborn-talk', 'seaborn-dark-palette', 'fivethirtyeight', 'seaborn-deep', 'seaborn-dark', 'classic', 'seaborn-notebook', 'seaborn-muted', 'seaborn-pastel']\n"
     ]
    }
   ],
   "source": [
    "print(plt.style.available)"
   ]
  },
  {
   "cell_type": "code",
   "execution_count": null,
   "metadata": {
    "collapsed": true
   },
   "outputs": [],
   "source": []
  },
  {
   "cell_type": "markdown",
   "metadata": {},
   "source": [
    "# BioGRID_full_human"
   ]
  },
  {
   "cell_type": "code",
   "execution_count": 14,
   "metadata": {},
   "outputs": [
    {
     "data": {
      "text/plain": [
       "'Name: \\nType: DiGraph\\nNumber of nodes: 14867\\nNumber of edges: 126593\\nAverage in degree:   8.5150\\nAverage out degree:   8.5150'"
      ]
     },
     "execution_count": 14,
     "metadata": {},
     "output_type": "execute_result"
    }
   ],
   "source": [
    "H = nx.read_edgelist('../data/BioGRID_full_human/BioGRID_full_human_net.txt', nodetype =  int, create_using=nx.DiGraph())\n",
    "nx.info(H)"
   ]
  },
  {
   "cell_type": "code",
   "execution_count": 15,
   "metadata": {},
   "outputs": [
    {
     "data": {
      "text/plain": [
       "True"
      ]
     },
     "execution_count": 15,
     "metadata": {},
     "output_type": "execute_result"
    }
   ],
   "source": [
    "H.is_directed()"
   ]
  },
  {
   "cell_type": "code",
   "execution_count": 16,
   "metadata": {},
   "outputs": [],
   "source": [
    "# for i in H.nodes():\n",
    "#     print(\"node:{0}, in_degree:{1}, out_degree:{2}\".format(H.degree(i), H.in_degree(i), H.out_degree(i)))"
   ]
  },
  {
   "cell_type": "code",
   "execution_count": 17,
   "metadata": {},
   "outputs": [
    {
     "data": {
      "text/plain": [
       "False"
      ]
     },
     "execution_count": 17,
     "metadata": {},
     "output_type": "execute_result"
    }
   ],
   "source": [
    "nx.is_strongly_connected(H)"
   ]
  },
  {
   "cell_type": "code",
   "execution_count": 18,
   "metadata": {},
   "outputs": [
    {
     "data": {
      "text/plain": [
       "False"
      ]
     },
     "execution_count": 18,
     "metadata": {},
     "output_type": "execute_result"
    }
   ],
   "source": [
    "nx.is_weakly_connected(H)"
   ]
  },
  {
   "cell_type": "code",
   "execution_count": 32,
   "metadata": {},
   "outputs": [
    {
     "data": {
      "text/plain": [
       "8.515033295217597"
      ]
     },
     "execution_count": 32,
     "metadata": {},
     "output_type": "execute_result"
    }
   ],
   "source": [
    "sum(dict(H.in_degree()).values())/(H.number_of_nodes())"
   ]
  },
  {
   "cell_type": "code",
   "execution_count": 33,
   "metadata": {},
   "outputs": [
    {
     "data": {
      "text/plain": [
       "8.515033295217597"
      ]
     },
     "execution_count": 33,
     "metadata": {},
     "output_type": "execute_result"
    }
   ],
   "source": [
    "sum(dict(H.out_degree()).values())/(H.number_of_nodes())"
   ]
  },
  {
   "cell_type": "code",
   "execution_count": 35,
   "metadata": {},
   "outputs": [
    {
     "ename": "NetworkXNotImplemented",
     "evalue": "not implemented for directed type",
     "output_type": "error",
     "traceback": [
      "\u001b[0;31m---------------------------------------------------------------------------\u001b[0m",
      "\u001b[0;31mNetworkXNotImplemented\u001b[0m                    Traceback (most recent call last)",
      "\u001b[0;32m<ipython-input-35-2c174822b8a5>\u001b[0m in \u001b[0;36m<module>\u001b[0;34m()\u001b[0m\n\u001b[0;32m----> 1\u001b[0;31m \u001b[0mnx\u001b[0m\u001b[0;34m.\u001b[0m\u001b[0maverage_clustering\u001b[0m\u001b[0;34m(\u001b[0m\u001b[0mH\u001b[0m\u001b[0;34m)\u001b[0m\u001b[0;34m\u001b[0m\u001b[0m\n\u001b[0m",
      "\u001b[0;32m~/anaconda/lib/python3.5/site-packages/networkx/algorithms/cluster.py\u001b[0m in \u001b[0;36maverage_clustering\u001b[0;34m(G, nodes, weight, count_zeros)\u001b[0m\n\u001b[1;32m    177\u001b[0m        \u001b[0mhttps\u001b[0m\u001b[0;34m:\u001b[0m\u001b[0;34m//\u001b[0m\u001b[0marxiv\u001b[0m\u001b[0;34m.\u001b[0m\u001b[0morg\u001b[0m\u001b[0;34m/\u001b[0m\u001b[0mabs\u001b[0m\u001b[0;34m/\u001b[0m\u001b[0;36m0802.2512\u001b[0m\u001b[0;34m\u001b[0m\u001b[0m\n\u001b[1;32m    178\u001b[0m     \"\"\"\n\u001b[0;32m--> 179\u001b[0;31m     \u001b[0mc\u001b[0m \u001b[0;34m=\u001b[0m \u001b[0mclustering\u001b[0m\u001b[0;34m(\u001b[0m\u001b[0mG\u001b[0m\u001b[0;34m,\u001b[0m \u001b[0mnodes\u001b[0m\u001b[0;34m,\u001b[0m \u001b[0mweight\u001b[0m\u001b[0;34m=\u001b[0m\u001b[0mweight\u001b[0m\u001b[0;34m)\u001b[0m\u001b[0;34m.\u001b[0m\u001b[0mvalues\u001b[0m\u001b[0;34m(\u001b[0m\u001b[0;34m)\u001b[0m\u001b[0;34m\u001b[0m\u001b[0m\n\u001b[0m\u001b[1;32m    180\u001b[0m     \u001b[0;32mif\u001b[0m \u001b[0;32mnot\u001b[0m \u001b[0mcount_zeros\u001b[0m\u001b[0;34m:\u001b[0m\u001b[0;34m\u001b[0m\u001b[0m\n\u001b[1;32m    181\u001b[0m         \u001b[0mc\u001b[0m \u001b[0;34m=\u001b[0m \u001b[0;34m[\u001b[0m\u001b[0mv\u001b[0m \u001b[0;32mfor\u001b[0m \u001b[0mv\u001b[0m \u001b[0;32min\u001b[0m \u001b[0mc\u001b[0m \u001b[0;32mif\u001b[0m \u001b[0mv\u001b[0m \u001b[0;34m>\u001b[0m \u001b[0;36m0\u001b[0m\u001b[0;34m]\u001b[0m\u001b[0;34m\u001b[0m\u001b[0m\n",
      "\u001b[0;32m<decorator-gen-212>\u001b[0m in \u001b[0;36mclustering\u001b[0;34m(G, nodes, weight)\u001b[0m\n",
      "\u001b[0;32m~/anaconda/lib/python3.5/site-packages/networkx/utils/decorators.py\u001b[0m in \u001b[0;36m_not_implemented_for\u001b[0;34m(not_implement_for_func, *args, **kwargs)\u001b[0m\n\u001b[1;32m     69\u001b[0m         \u001b[0;32mif\u001b[0m \u001b[0mmatch\u001b[0m\u001b[0;34m:\u001b[0m\u001b[0;34m\u001b[0m\u001b[0m\n\u001b[1;32m     70\u001b[0m             \u001b[0mmsg\u001b[0m \u001b[0;34m=\u001b[0m \u001b[0;34m'not implemented for %s type'\u001b[0m \u001b[0;34m%\u001b[0m \u001b[0;34m' '\u001b[0m\u001b[0;34m.\u001b[0m\u001b[0mjoin\u001b[0m\u001b[0;34m(\u001b[0m\u001b[0mgraph_types\u001b[0m\u001b[0;34m)\u001b[0m\u001b[0;34m\u001b[0m\u001b[0m\n\u001b[0;32m---> 71\u001b[0;31m             \u001b[0;32mraise\u001b[0m \u001b[0mnx\u001b[0m\u001b[0;34m.\u001b[0m\u001b[0mNetworkXNotImplemented\u001b[0m\u001b[0;34m(\u001b[0m\u001b[0mmsg\u001b[0m\u001b[0;34m)\u001b[0m\u001b[0;34m\u001b[0m\u001b[0m\n\u001b[0m\u001b[1;32m     72\u001b[0m         \u001b[0;32melse\u001b[0m\u001b[0;34m:\u001b[0m\u001b[0;34m\u001b[0m\u001b[0m\n\u001b[1;32m     73\u001b[0m             \u001b[0;32mreturn\u001b[0m \u001b[0mnot_implement_for_func\u001b[0m\u001b[0;34m(\u001b[0m\u001b[0;34m*\u001b[0m\u001b[0margs\u001b[0m\u001b[0;34m,\u001b[0m \u001b[0;34m**\u001b[0m\u001b[0mkwargs\u001b[0m\u001b[0;34m)\u001b[0m\u001b[0;34m\u001b[0m\u001b[0m\n",
      "\u001b[0;31mNetworkXNotImplemented\u001b[0m: not implemented for directed type"
     ]
    }
   ],
   "source": [
    "nx.average_clustering(H)"
   ]
  },
  {
   "cell_type": "code",
   "execution_count": 22,
   "metadata": {},
   "outputs": [
    {
     "data": {
      "image/png": "[encoded data removed]",
      "text/plain": [
       "<matplotlib.figure.Figure at 0x10aa18d30>"
      ]
     },
     "metadata": {},
     "output_type": "display_data"
    },
    {
     "data": {
      "image/png": "[encoded data removed]",
      "text/plain": [
       "<matplotlib.figure.Figure at 0x10c442a90>"
      ]
     },
     "metadata": {},
     "output_type": "display_data"
    },
    {
     "data": {
      "image/png": "[encoded data removed]",
      "text/plain": [
       "<matplotlib.figure.Figure at 0x10c3f3828>"
      ]
     },
     "metadata": {},
     "output_type": "display_data"
    }
   ],
   "source": [
    "plot_degree_dist(H);plot_indegree_dist(H);plot_outdegree_dist(H)"
   ]
  },
  {
   "cell_type": "code",
   "execution_count": 23,
   "metadata": {
    "collapsed": true
   },
   "outputs": [],
   "source": [
    "data = open(\"../data/BioGRID_full_human/BioGRID_full_human_xdbref.txt\",'r')\n",
    "data = data.readlines()\n",
    "data_tt =[]\n",
    "id_gene_map = {}\n",
    "gene_map_id = {}\n",
    "for lin in data[1:]:\n",
    "    temp_l=lin.split()\n",
    "    data_tt.append(temp_l[1])\n",
    "    gene_map_id[temp_l[1]] = int(temp_l[2])\n",
    "    id_gene_map[int(temp_l[2])] = temp_l[1]"
   ]
  },
  {
   "cell_type": "code",
   "execution_count": 24,
   "metadata": {
    "collapsed": true
   },
   "outputs": [],
   "source": [
    "rank_temp = \"rank_temp.txt\"\n",
    "with open(rank_temp, 'w') as f:\n",
    "    for ttt in data_tt:\n",
    "        f.write('{0}\\n'.format(ttt))        "
   ]
  },
  {
   "cell_type": "code",
   "execution_count": 25,
   "metadata": {
    "collapsed": true
   },
   "outputs": [],
   "source": [
    "# G = H.copy()"
   ]
  },
  {
   "cell_type": "code",
   "execution_count": 26,
   "metadata": {},
   "outputs": [
    {
     "data": {
      "text/plain": [
       "'Name: \\nType: DiGraph\\nNumber of nodes: 14814\\nNumber of edges: 126565\\nAverage in degree:   8.5436\\nAverage out degree:   8.5436'"
      ]
     },
     "execution_count": 26,
     "metadata": {},
     "output_type": "execute_result"
    }
   ],
   "source": [
    "G = sorted(nx.weakly_connected_component_subgraphs(H), key = len, reverse=True)[0]\n",
    "nx.info(G)"
   ]
  },
  {
   "cell_type": "code",
   "execution_count": 427,
   "metadata": {
    "collapsed": true
   },
   "outputs": [],
   "source": [
    "# G = sorted(nx.strongly_connected_component_subgraphs(H), key = len, reverse=True)[0]\n",
    "# nx.info(G)"
   ]
  },
  {
   "cell_type": "code",
   "execution_count": 76,
   "metadata": {},
   "outputs": [
    {
     "name": "stdout",
     "output_type": "stream",
     "text": [
      "Time data not known for 0 nodes\n",
      "No. of bins in the original ranking:  16\n",
      "13760\n"
     ]
    }
   ],
   "source": [
    "data_t = open(\"../data/BioGRID_full_human/ProteinHistorian_age_estimated_cleaned.txt\",'r')\n",
    "# data_t = open(\"./data/BioGRID_full_human/check_rank.txt\",'r')\n",
    "data_t = data_t.readlines()\n",
    "rank_temp_t = {}\n",
    "check =[]\n",
    "for lin in data_t:\n",
    "    temp_l=lin.split()\n",
    "    string_t = temp_l[0].split(\"~\",2)[2]\n",
    "    rank_temp_t[string_t] = float(temp_l[1])\n",
    "    check.append(float(temp_l[1]))\n",
    "    \n",
    "G_nodes = G.nodes();\n",
    "\n",
    "i = 0\n",
    "rank_temp ={}\n",
    "nodes_to_remove = []\n",
    "for k in G_nodes:\n",
    "    if id_gene_map[k] in rank_temp_t:\n",
    "        rank_temp[k] = rank_temp_t[id_gene_map[k]]\n",
    "    else:\n",
    "        i +=1\n",
    "        nodes_to_remove.append(k)\n",
    "print(\"Time data not known for {} nodes\".format(i))\n",
    "\n",
    "temp = rank_temp.values()\n",
    "temp_s = sorted(set(temp), reverse = True)\n",
    "r = {key:rank for rank, key in enumerate(temp_s)}\n",
    "# data_cld_1 = {k: r[v] for k,v in rank_temp.items()}\n",
    "# data_cld = {rank_temp[k]: r[v] for k,v in rank_temp.items()}\n",
    "data_cld = {k: r[v] for k,v in rank_temp.items()}\n",
    "print(\"No. of bins in the original ranking: \", len(r))\n",
    "\n",
    "print(len(data_cld))"
   ]
  },
  {
   "cell_type": "code",
   "execution_count": 78,
   "metadata": {
    "collapsed": true
   },
   "outputs": [],
   "source": [
    "data_cld_new_t = defaultdict(list)\n",
    "for k,v in data_cld.items():\n",
    "    data_cld_new_t[v].append(k)"
   ]
  },
  {
   "cell_type": "code",
   "execution_count": 79,
   "metadata": {},
   "outputs": [
    {
     "data": {
      "text/plain": [
       "16"
      ]
     },
     "execution_count": 79,
     "metadata": {},
     "output_type": "execute_result"
    }
   ],
   "source": [
    "len(data_cld_new_t)"
   ]
  },
  {
   "cell_type": "code",
   "execution_count": 80,
   "metadata": {
    "collapsed": true
   },
   "outputs": [],
   "source": [
    "j = 0\n",
    "data_cld_new = {}\n",
    "for i in range(len(data_cld_new_t)):\n",
    "#     print(data_cld_new_t[i])\n",
    "    temp_nodes = data_cld_new_t[i]\n",
    "    random.shuffle(temp_nodes)\n",
    "#     print(temp_nodes)\n",
    "    for node_i in temp_nodes:\n",
    "        data_cld_new[node_i] = j\n",
    "        j = j + 1\n",
    "    "
   ]
  },
  {
   "cell_type": "code",
   "execution_count": 81,
   "metadata": {
    "collapsed": true
   },
   "outputs": [],
   "source": [
    "orig_rank_file = '../data/BioGrid_full_human/'+'BioGRID_full_human_net'+'_cleaned_rank'+'.csv'\n",
    "with open(orig_rank_file, 'w') as f:\n",
    "    for key, value in data_cld_new.items():\n",
    "        f.write('%d %d\\n' % (key, value))\n",
    "        \n",
    "G.remove_nodes_from(nodes_to_remove)\n",
    "nx.write_edgelist(G,'../data/BioGrid_full_human/'+'BioGRID_full_human_net'+'_cleaned'+'.txt',data=False)"
   ]
  },
  {
   "cell_type": "code",
   "execution_count": 34,
   "metadata": {},
   "outputs": [
    {
     "data": {
      "text/plain": [
       "'Name: \\nType: DiGraph\\nNumber of nodes: 13760\\nNumber of edges: 119392\\nAverage in degree:   8.6767\\nAverage out degree:   8.6767'"
      ]
     },
     "execution_count": 34,
     "metadata": {},
     "output_type": "execute_result"
    }
   ],
   "source": [
    "nx.info(G)"
   ]
  },
  {
   "cell_type": "code",
   "execution_count": 31,
   "metadata": {},
   "outputs": [
    {
     "name": "stdout",
     "output_type": "stream",
     "text": [
      "0\n"
     ]
    }
   ],
   "source": [
    "i = 0\n",
    "nodes_to_remove = []\n",
    "for k in G.nodes():\n",
    "    if k not in data_cld:\n",
    "        i +=1\n",
    "        nodes_to_remove.append(k)\n",
    "print(len(nodes_to_remove))"
   ]
  },
  {
   "cell_type": "code",
   "execution_count": 431,
   "metadata": {},
   "outputs": [
    {
     "data": {
      "text/plain": [
       "'Name: \\nType: DiGraph\\nNumber of nodes: 13760\\nNumber of edges: 119392\\nAverage in degree:   8.6767\\nAverage out degree:   8.6767'"
      ]
     },
     "execution_count": 431,
     "metadata": {},
     "output_type": "execute_result"
    }
   ],
   "source": [
    "nx.info(G)"
   ]
  },
  {
   "cell_type": "markdown",
   "metadata": {
    "collapsed": true
   },
   "source": [
    "# Avg and Max height of DAG from $m$-degree nodes"
   ]
  },
  {
   "cell_type": "code",
   "execution_count": 27,
   "metadata": {},
   "outputs": [],
   "source": [
    "no_nodes = np.array([100,500,1000,2000,5000])\n",
    "m = np.array([5])"
   ]
  },
  {
   "cell_type": "code",
   "execution_count": 28,
   "metadata": {},
   "outputs": [],
   "source": [
    "avg_ht = np.array([[10.84,20.8227,23.2465,25.4697,29.88]])"
   ]
  },
  {
   "cell_type": "code",
   "execution_count": 29,
   "metadata": {},
   "outputs": [],
   "source": [
    "max_ht = np.array([[13,27,30,31,39]])"
   ]
  },
  {
   "cell_type": "code",
   "execution_count": 30,
   "metadata": {},
   "outputs": [
    {
     "data": {
      "text/plain": [
       "array([ 10.84  ,  20.8227,  23.2465,  25.4697,  29.88  ])"
      ]
     },
     "execution_count": 30,
     "metadata": {},
     "output_type": "execute_result"
    }
   ],
   "source": [
    "avg_ht[0,:]"
   ]
  },
  {
   "cell_type": "code",
   "execution_count": 44,
   "metadata": {},
   "outputs": [
    {
     "name": "stdout",
     "output_type": "stream",
     "text": [
      "[6.9640929846409305, 4.304046165322795]\n"
     ]
    },
    {
     "data": {
      "image/png": "[encoded data removed]",
      "text/plain": [
       "<matplotlib.figure.Figure at 0x1a17eedf98>"
      ]
     },
     "metadata": {},
     "output_type": "display_data"
    }
   ],
   "source": [
    "# from mpltools import style\n",
    "# from mpltools import layout\n",
    "# style.use('ggplot')\n",
    "\n",
    "plt.style.use('ggplot')\n",
    "matplotlib.rcParams.update(publication_with_latex)\n",
    "\n",
    "FIGSIZE_REQD = 1\n",
    "marker = itertools.cycle(('x', '>', 'D', 'o', '*')) \n",
    "\n",
    "# fig, ax = plt.subplots(1,2,figsize = figsize(FIGSIZE_REQD))\n",
    "print(figsize(FIGSIZE_REQD))\n",
    "fig, ax = plt.subplots(1,2)\n",
    "fig.set_figwidth(5.5)\n",
    "fig.set_figheight(1.8)\n",
    "\n",
    "\n",
    "# ax=plt.axes(frameon=1)\n",
    "# ax[0].spines[\"top\"].set_visible(False)\n",
    "# ax[0].spines[\"right\"].set_visible(False)\n",
    "ax[0].set_xlabel(r'$\\mbox{no of nodes, }n$')\n",
    "ax[0].set_ylabel(r'$ \\frac{\\mbox{avg.\\ height}}{\\log(n)}$')\n",
    "ax[0].set_xlim(left = no_nodes[0], right = no_nodes[-1])\n",
    "\n",
    "# plt.plot(no_nodes,no_cert_pair_2, label ='Certain pairs')\n",
    "for counter,m_i in enumerate(m):\n",
    "    label_s = r'$m={}$'.format(m_i)\n",
    "    avg_ht_t = (avg_ht[counter,:])/np.log(no_nodes)\n",
    "    ax[0].plot(no_nodes,avg_ht_t, label = label_s, marker= next(marker), markersize=3)\n",
    "\n",
    "ax[1].spines[\"top\"].set_visible(False)\n",
    "ax[1].spines[\"right\"].set_visible(False)\n",
    "ax[1].set_xlabel(r'$\\mbox{no of nodes, }n$')\n",
    "ax[1].set_ylabel(r'$\\frac{\\mbox{max.\\ height}}{\\log(n)}$')\n",
    "ax[1].set_xlim(left = no_nodes[0], right = no_nodes[-1])\n",
    "\n",
    "for counter,m_i in enumerate(m):\n",
    "    label_s = r'$m={}$'.format(m_i)\n",
    "    max_ht_t = (max_ht[counter,:])/np.log(no_nodes)\n",
    "    ax[1].plot(no_nodes,max_ht_t,marker= next(marker), markersize=3)\n",
    "ax[1].grid(alpha = 0.7)\n",
    "\n",
    "\n",
    "ax[0].legend(loc=9, bbox_to_anchor=(1.2, -0.278), ncol=5, framealpha=0.5)\n",
    "# legend= ax[0].legend(fancybox = True, framealpha=0.5,loc='best')\n",
    "legend= fig.legend(fancybox = True, framealpha=0.5,loc=9, bbox_to_anchor=(0.5, -0.1), ncol=5)\n",
    "frame = legend.get_frame()\n",
    "frame.set_facecolor('0.9')\n",
    "frame.set_edgecolor('0.75')\n",
    "\n",
    "# ax[0].xaxis.set_major_locator(ticker.MultipleLocator(1500))\n",
    "# ax[1].xaxis.set_major_locator(ticker.MultipleLocator(1500))\n",
    "# ax[0].yaxis.set_major_locator(ticker.MultipleLocator(0.1))\n",
    "# ax[1].yaxis.set_major_locator(ticker.MultipleLocator(0.1))\n",
    "\n",
    "for tic in ax[1].xaxis.get_major_ticks():\n",
    "    tic.tick1On = tic.tick2On = False\n",
    "for tic in ax[1].yaxis.get_major_ticks():\n",
    "    tic.tick1On = tic.tick2On = False \n",
    "for tic in ax[0].xaxis.get_major_ticks():\n",
    "    tic.tick1On = tic.tick2On = False\n",
    "for tic in ax[0].yaxis.get_major_ticks():\n",
    "    tic.tick1On = tic.tick2On = False\n",
    "    \n",
    "plt.tight_layout()\n",
    "plt.savefig('tree_size.pdf',bbox_inches='tight',pad_inches = 0.05)"
   ]
  },
  {
   "cell_type": "code",
   "execution_count": 34,
   "metadata": {},
   "outputs": [
    {
     "data": {
      "text/plain": [
       "2.3538760919156245"
      ]
     },
     "execution_count": 34,
     "metadata": {},
     "output_type": "execute_result"
    }
   ],
   "source": [
    "10.84/np.log(100)"
   ]
  },
  {
   "cell_type": "code",
   "execution_count": 8,
   "metadata": {
    "collapsed": true
   },
   "outputs": [],
   "source": [
    "no_nodes = np.array([1000,2000,5000,10000,25000,50000,75000,100000,500000,1000000])\n",
    "m = np.array([5, 25, 50, 100])"
   ]
  },
  {
   "cell_type": "code",
   "execution_count": 9,
   "metadata": {
    "collapsed": true
   },
   "outputs": [],
   "source": [
    "level_size = np.array([[29,\n",
    "36,\n",
    "40,\n",
    "43,\n",
    "46,\n",
    "60,\n",
    "63,\n",
    "63,\n",
    "71,\n",
    "76],[99,\n",
    "108,\n",
    "140,\n",
    "149,\n",
    "179,\n",
    "219,\n",
    "214,\n",
    "244,\n",
    "283,\n",
    "310],[151,\n",
    "192,\n",
    "241,\n",
    "277,\n",
    "328,\n",
    "372,\n",
    "398,\n",
    "421,\n",
    "550,\n",
    "572],[248,\n",
    "295,\n",
    "402,\n",
    "481,\n",
    "594,\n",
    "667,\n",
    "731,\n",
    "765,\n",
    "947,\n",
    "1033]])"
   ]
  },
  {
   "cell_type": "code",
   "execution_count": 36,
   "metadata": {},
   "outputs": [
    {
     "data": {
      "image/png": "[encoded data removed]",
      "text/plain": [
       "<matplotlib.figure.Figure at 0x104930e10>"
      ]
     },
     "metadata": {},
     "output_type": "display_data"
    }
   ],
   "source": [
    "# from mpltools import style\n",
    "# from mpltools import layout\n",
    "plt.style.use('ggplot')\n",
    "\n",
    "FIGSIZE_REQD = 1\n",
    "marker = itertools.cycle((',', '+', '.', 'o', '*')) \n",
    "\n",
    "fig, ax = plt.subplots(figsize = figsize(FIGSIZE_REQD))\n",
    "ax=plt.axes(frameon=1)\n",
    "ax.spines[\"top\"].set_visible(False)\n",
    "ax.spines[\"right\"].set_visible(False)\n",
    "ax.set_xlabel(r'no of nodes, $n$')\n",
    "# ax.set_ylabel(r'$\\frac{\\mbox{\\# of levels}}{\\log(n)}$')\n",
    "ax.set_ylabel(r'$\\frac{\\mbox{\\# of levels}}{n^{0.13}}$')\n",
    "\n",
    "# plt.plot(no_nodes,no_cert_pair_2, label ='Certain pairs')\n",
    "for counter,m_i in enumerate(m):\n",
    "    label_s = r'$m={}$'.format(m_i)\n",
    "#     avg_tr_t = (level_size[counter,:])/(np.log(no_nodes))\n",
    "#     avg_tr_t = (level_size[counter,:])/(np.log(m_i*no_nodes))\n",
    "    avg_tr_t = (level_size[counter,:])/((no_nodes**0.13))\n",
    "    plt.plot(no_nodes,avg_tr_t, label = label_s, marker= next(marker), markersize=3)\n",
    "plt.grid(alpha = 0.7)\n",
    "\n",
    "# ax.legend(loc=9, bbox_to_anchor=(0.5, -0.1), ncol=2)\n",
    "legend=ax.legend(fancybox = True, framealpha=0.5,loc='best')\n",
    "# ax.legend(loc=9, bbox_to_anchor=(1.2, -0.278), ncol=5, framealpha=0.5)\n",
    "# legend=ax.legend(fancybox = True, framealpha=0.5,loc=9, bbox_to_anchor=(0.5, -0.35), ncol=5)\n",
    "# frame = legend.get_frame()\n",
    "# frame.set_facecolor('0.9')\n",
    "# frame.set_edgecolor('0.75')\n",
    "\n",
    "plt.savefig('level_size.pdf',bbox_inches='tight',pad_inches = 0.05)"
   ]
  },
  {
   "cell_type": "code",
   "execution_count": 28,
   "metadata": {
    "collapsed": true
   },
   "outputs": [],
   "source": [
    "a = np.arange(1,100000)"
   ]
  },
  {
   "cell_type": "code",
   "execution_count": 29,
   "metadata": {
    "collapsed": true
   },
   "outputs": [],
   "source": [
    "b = np.log(a)"
   ]
  },
  {
   "cell_type": "code",
   "execution_count": 30,
   "metadata": {
    "collapsed": true
   },
   "outputs": [],
   "source": [
    "c = a**(0.13)"
   ]
  },
  {
   "cell_type": "code",
   "execution_count": 46,
   "metadata": {},
   "outputs": [
    {
     "data": {
      "image/png": "[encoded data removed]",
      "text/plain": [
       "<matplotlib.figure.Figure at 0x114318278>"
      ]
     },
     "metadata": {},
     "output_type": "display_data"
    }
   ],
   "source": [
    "plt.plot(a,b,label = 'log(n)')\n",
    "plt.plot(a,c,label = '$n^{0.13}$')\n",
    "legend=plt.legend(loc='best')\n",
    "plt.savefig('log_n0.13.pdf',bbox_inches='tight',pad_inches = 0.05)"
   ]
  },
  {
   "cell_type": "code",
   "execution_count": 48,
   "metadata": {},
   "outputs": [
    {
     "data": {
      "image/png": "[encoded data removed]",
      "text/plain": [
       "<matplotlib.figure.Figure at 0x1a183f7780>"
      ]
     },
     "metadata": {},
     "output_type": "display_data"
    }
   ],
   "source": [
    "fig, axes = plt.subplots(ncols=2, nrows=2)\n",
    "ax1, ax2, ax3, ax4 = axes.ravel() #Ravel is to flatten"
   ]
  }
 ],
 "metadata": {
  "anaconda-cloud": {},
  "kernelspec": {
   "display_name": "Python [default]",
   "language": "python",
   "name": "python3"
  },
  "language_info": {
   "codemirror_mode": {
    "name": "ipython",
    "version": 3
   },
   "file_extension": ".py",
   "mimetype": "text/x-python",
   "name": "python",
   "nbconvert_exporter": "python",
   "pygments_lexer": "ipython3",
   "version": "3.5.4"
  }
 },
 "nbformat": 4,
 "nbformat_minor": 1
}
