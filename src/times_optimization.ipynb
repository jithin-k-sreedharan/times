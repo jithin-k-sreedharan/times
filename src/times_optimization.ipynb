{
 "cells": [
  {
   "cell_type": "markdown",
   "metadata": {},
   "source": [
    "# Load Packages and Settings"
   ]
  },
  {
   "cell_type": "code",
   "execution_count": null,
   "metadata": {},
   "outputs": [],
   "source": [
    "%matplotlib inline"
   ]
  },
  {
   "cell_type": "code",
   "execution_count": null,
   "metadata": {},
   "outputs": [],
   "source": [
    "import numpy as np\n",
    "import matplotlib.pyplot as plt\n",
    "import matplotlib\n",
    "from gurobipy import *\n",
    "import random\n",
    "from itertools import chain"
   ]
  },
  {
   "cell_type": "code",
   "execution_count": null,
   "metadata": {},
   "outputs": [],
   "source": [
    "def figsize(scale):\n",
    "    fig_width_pt = 503.295     # Get this from LaTeX using \\the\\textwidth\n",
    "    inches_per_pt = 1.0/72.27   # Convert pt to inch\n",
    "    golden_mean = (np.sqrt(5.0)-1.0)/2.0    # Aesthetic ratio (you could change this)\n",
    "    fig_width = fig_width_pt*inches_per_pt*scale # width in inches\n",
    "    fig_height = fig_width*golden_mean  # height in inches\n",
    "    fig_size = [fig_width,fig_height]\n",
    "    return fig_size\n",
    "\n",
    "publication_with_latex = {  # setup matplotlib to use latex for output\n",
    "    \"pgf.texsystem\": \"pdflatex\", # change this if using xetex or lautex\n",
    "    \"text.usetex\": True, # use LaTeX to write all text\n",
    "    \"font.family\": \"serif\",\n",
    "    \"axes.labelsize\": 8,  # LaTeX default is 10pt font.\n",
    "    \"font.size\": 8,\n",
    "    \"legend.fontsize\": 8,  # Make the legend/label fonts a little smaller\n",
    "    \"xtick.labelsize\": 8,\n",
    "    \"ytick.labelsize\": 8,\n",
    "    }\n",
    "matplotlib.rcParams.update(publication_with_latex)\n",
    "matplotlib.rcParams['savefig.dpi'] = 125\n",
    "matplotlib.rcParams['text.latex.preamble']=[r\"\\usepackage{amsmath,amssymb,amsfonts}\"]"
   ]
  },
  {
   "cell_type": "markdown",
   "metadata": {},
   "source": [
    "# Plot Average Optimal Precision Curve and Results of Algorithms"
   ]
  },
  {
   "cell_type": "code",
   "execution_count": null,
   "metadata": {},
   "outputs": [],
   "source": [
    "n = 50\n",
    "P = {}\n",
    "eps_list = [0.1,0.2,0.3,0.4,0.5,0.6,0.7,0.8,0.9,0.95,0.985]\n",
    "opt_val_list = np.zeros(len(eps_list))\n",
    "iter_input = 1;\n",
    "# Assuming p_uv's are generated for 10 different graph realizations from Preferential Attachment model\n",
    "for iter_input_ind in range(10): \n",
    "    iter_input =  iter_input_ind+1\n",
    "    str = \"../build/temp_model/P_matrix_RW_ratio_{0}.txt\".format(iter_input_ind) #location of ith graph matrix\n",
    "    print(str)\n",
    "    data_t = open(str,'r')\n",
    "    data_t = data_t.readlines()\n",
    "    temp_l=data_t[2].split()\n",
    "    n = int(temp_l[0]) \n",
    "    for lin in data_t[3:]:\n",
    "        temp_l=lin.split()\n",
    "        P[int(temp_l[0]), int(temp_l[1])] = float(temp_l[2])\n",
    "\n",
    "    for ind,eps in enumerate(eps_list):\n",
    "        m = Model(\"Optimization in Node Age Problem\")\n",
    "        \n",
    "        #Add variables and objective function\n",
    "        y = {}\n",
    "        nC2 = n*(n-1)/2\n",
    "        s = m.addVar(lb=0.0, ub=1/(eps*nC2), obj=0, vtype=GRB.CONTINUOUS, name=\"s\")        \n",
    "        for i in range(n):\n",
    "            for j in chain(range(i),range(i+1,n)): #TRICK: to combine range in Python 3\n",
    "                y[i,j] = m.addVar(lb=0.0, obj=-P[i,j], vtype = GRB.CONTINUOUS, name=\"y[%s,%s]\"%(i,j))\n",
    "        m.update()\n",
    "        \n",
    "        #Antisymmetry constraints\n",
    "        var = []\n",
    "        for i in range(n):\n",
    "            for j in chain(range(i),range(i+1,n)):\n",
    "                m.addConstr(y[i,j], GRB.LESS_EQUAL, s)\n",
    "                m.addConstr(y[i,j]+y[j,i], GRB.LESS_EQUAL, s)\n",
    "                var.append(y[i,j])\n",
    "        # Constraint that \\sum y_{u,v} = 1\n",
    "        coef = [1 for j in range(n*(n-1))]\n",
    "        m.addConstr(LinExpr(coef,var), \"=\", 1)\n",
    "\n",
    "        #Transitivity constraints\n",
    "        for i in range(n):\n",
    "            for j in chain(range(i),range(i+1,n)):\n",
    "                k_1 = min(i,j)\n",
    "                k_2 = max(i,j)\n",
    "                for k in chain(range(k_1), range(k_1+1,k_2), range(k_2+1,n)):\n",
    "                    m.addConstr(y[i,j]+y[j,k]-y[i,k], GRB.LESS_EQUAL, s)\n",
    "        m.update()\n",
    "        m.optimize()\n",
    "        if m.status == GRB.OPTIMAL:\n",
    "            print(\"Optimization successfull\")\n",
    "            print(\"Run time:\",m.runtime)\n",
    "            opt_val = -m.ObjVal\n",
    "            print(\"Optimal value:\",opt_val)\n",
    "            if iter_input == 1:\n",
    "                opt_val_list[ind] = opt_val\n",
    "            else:\n",
    "                opt_val_list[ind] = opt_val_list[ind]*iter_input/(iter_input+1) + opt_val/(iter_input+1)"
   ]
  },
  {
   "cell_type": "code",
   "execution_count": null,
   "metadata": {},
   "outputs": [],
   "source": [
    "opt_val_list"
   ]
  },
  {
   "cell_type": "markdown",
   "metadata": {},
   "source": [
    "This is the opt_val_list for standard PA attachment graph with n = 50, m = 3\n",
    "\n",
    "opt_val_list = np.array([ 1.        ,  0.99999999,  0.9995002 ,  0.99402816,  0.97941715,\n",
    "        0.95655252,  0.92859711,  0.89798283,  0.86589987, 0.84945249,  0.83785209])"
   ]
  },
  {
   "cell_type": "code",
   "execution_count": null,
   "metadata": {},
   "outputs": [],
   "source": [
    "# Assigning saved values of opt_val_list\n",
    "# Comment the following line if we calculate opt_val_list using the above code snippet.\n",
    "opt_val_list = np.array([ 1.,  0.99999999,  0.9995002 ,  0.99402816,  0.97941715, 0.95655252,  0.92859711,  0.89798283,  0.86589987, 0.84945249,  0.83785209])"
   ]
  },
  {
   "cell_type": "code",
   "execution_count": null,
   "metadata": {},
   "outputs": [],
   "source": [
    "# Careful about the path of the files!\n",
    "FIGSIZE_REQD = 0.6\n",
    "eps_list = [0.1,0.2,0.3,0.4,0.5,0.6,0.7,0.8,0.9,0.95,0.985]\n",
    "plt.style.use('ggplot')\n",
    "\n",
    "# Plot averaged optimal precision curve\n",
    "fig, ax = plt.subplots(figsize = figsize(FIGSIZE_REQD))\n",
    "ax.plot(eps_list,opt_val_list, linewidth=3, label = 'Optimal precision')\n",
    "\n",
    "# Plot Peeling algorithm precision and density\n",
    "str = \"../build/temp_model/theta_delta_peel.txt\"\n",
    "data_t = open(str,'r')\n",
    "data_t = data_t.readlines()\n",
    "theta_peel = []\n",
    "delta_peel = []\n",
    "for lin in data_t:\n",
    "    temp_l=lin.split()\n",
    "    theta_peel.append(float(temp_l[0]))\n",
    "    delta_peel.append(float(temp_l[1]))\n",
    "theta_avg = np.mean(theta_peel)\n",
    "delta_avg = np.mean(delta_peel)\n",
    "ax.plot(delta_avg, theta_avg, marker='o', markersize=5,\\\n",
    "        color = '#00008B', alpha = 1)\n",
    "plt.scatter(delta_peel,theta_peel, alpha=0.5, label = r'\\textsc{Peeling}',color = '#377eb8',edgecolors = 'white')\n",
    "ax.set_xlabel(r'$\\varepsilon$')\n",
    "ax.set_ylabel(r'$\\theta$')\n",
    "\n",
    "# Plot Peeling+ algorithm precision and density\n",
    "str_1 = \"../build/temp_model/theta_delta_peel+.txt\"\n",
    "data_t = open(str_1,'r')\n",
    "data_t = data_t.readlines()\n",
    "theta_guess = []\n",
    "delta_guess = []\n",
    "for lin in data_t:\n",
    "    temp_l=lin.split()\n",
    "    theta_guess.append(float(temp_l[0]))\n",
    "    delta_guess.append(float(temp_l[1]))\n",
    "theta_guess_avg = np.mean(theta_guess)\n",
    "delta_guess_avg = np.mean(delta_guess)\n",
    "ax.plot(delta_guess_avg, theta_guess_avg, marker='o', markersize=5,color = '#006400', alpha = 1)\n",
    "plt.scatter(delta_guess,theta_guess, alpha=0.5,color = '#4daf4a',\\\n",
    "            label = r'\\textsc{Peeling}+',edgecolors = 'white')\n",
    "\n",
    "# Plot Maximum density precision-1 algorithm precision and density\n",
    "str_1 = \"../build/temp_model/theta_delta_perf.txt\"\n",
    "data_t = open(str_1,'r')\n",
    "data_t = data_t.readlines()\n",
    "theta_guess = []\n",
    "delta_guess = []\n",
    "for lin in data_t:\n",
    "    temp_l=lin.split()\n",
    "    theta_guess.append(float(temp_l[0]))\n",
    "    delta_guess.append(float(temp_l[1]))\n",
    "theta_guess_avg = np.mean(theta_guess)\n",
    "delta_guess_avg = np.mean(delta_guess)\n",
    "ax.plot(delta_guess_avg, theta_guess_avg, marker='o', markersize=5,color = '#7a3d00', alpha = 1)\n",
    "plt.scatter(delta_guess,theta_guess, alpha=0.5,color = '#ffff33',label = r'Perfect-precision', edgecolors = 'black')\n",
    "\n",
    "ax.yaxis.set_ticks(np.arange(0.2, 1.2, 0.1))\n",
    "ax.legend(loc=[0.1,0.1])\n",
    "plt.savefig('../build/optimal_precision_LP.pdf',bbox_inches='tight',pad_inches = 0.05)"
   ]
  },
  {
   "cell_type": "markdown",
   "metadata": {
    "collapsed": true
   },
   "source": [
    "# Plot Recall Matrix"
   ]
  },
  {
   "cell_type": "code",
   "execution_count": null,
   "metadata": {},
   "outputs": [],
   "source": [
    "width_box = 10\n",
    "corr_matrix = np.zeros((width_box,width_box))\n",
    "str = \"../build/temp_model/Recall_matrix.txt\"\n",
    "data_t = open(str,'r')\n",
    "data_t = data_t.readlines()\n",
    "temp_l=data_t[2].split()\n",
    "n = int(temp_l[0]) \n",
    "for lin in data_t[0:]:\n",
    "    temp_l=lin.split()\n",
    "    corr_matrix[int(temp_l[0]), int(temp_l[1])] = float(temp_l[2])\n",
    "\n",
    "FIGSIZE_REQD = 0.6\n",
    "plt.style.use('default')\n",
    "fig, ax = plt.subplots(figsize = figsize(FIGSIZE_REQD))\n",
    "cax = ax.matshow(corr_matrix, interpolation='nearest',cmap='viridis_r')\n",
    "fig.colorbar(cax)\n",
    "plt.savefig('../build/recall_matrix.pdf',bbox_inches='tight',pad_inches = 0.05)"
   ]
  }
 ],
 "metadata": {
  "kernelspec": {
   "display_name": "Python [default]",
   "language": "python",
   "name": "python3"
  },
  "language_info": {
   "codemirror_mode": {
    "name": "ipython",
    "version": 3
   },
   "file_extension": ".py",
   "mimetype": "text/x-python",
   "name": "python",
   "nbconvert_exporter": "python",
   "pygments_lexer": "ipython3",
   "version": "3.5.6"
  },
  "toc": {
   "base_numbering": 1,
   "nav_menu": {},
   "number_sections": true,
   "sideBar": true,
   "skip_h1_title": false,
   "title_cell": "Table of Contents",
   "title_sidebar": "Contents",
   "toc_cell": false,
   "toc_position": {},
   "toc_section_display": true,
   "toc_window_display": false
  }
 },
 "nbformat": 4,
 "nbformat_minor": 2
}
